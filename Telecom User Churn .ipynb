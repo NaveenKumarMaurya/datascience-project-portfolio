{
 "cells": [
  {
   "cell_type": "code",
   "execution_count": 1,
   "id": "large-shanghai",
   "metadata": {
    "_cell_guid": "b1076dfc-b9ad-4769-8c92-a6c4dae69d19",
    "_uuid": "8f2839f25d086af736a60e9eeb907d3b93b6e0e5",
    "execution": {
     "iopub.execute_input": "2021-06-11T21:26:35.520548Z",
     "iopub.status.busy": "2021-06-11T21:26:35.519965Z",
     "iopub.status.idle": "2021-06-11T21:26:35.534829Z",
     "shell.execute_reply": "2021-06-11T21:26:35.534230Z",
     "shell.execute_reply.started": "2021-06-11T07:10:42.773266Z"
    },
    "papermill": {
     "duration": 0.078851,
     "end_time": "2021-06-11T21:26:35.534985",
     "exception": false,
     "start_time": "2021-06-11T21:26:35.456134",
     "status": "completed"
    },
    "tags": []
   },
   "outputs": [
    {
     "name": "stdout",
     "output_type": "stream",
     "text": [
      "/kaggle/input/telecom-users-dataset/telecom_users.csv\n"
     ]
    }
   ],
   "source": [
    "# This Python 3 environment comes with many helpful analytics libraries installed\n",
    "# It is defined by the kaggle/python Docker image: https://github.com/kaggle/docker-python\n",
    "# For example, here's several helpful packages to load\n",
    "\n",
    "import numpy as np # linear algebra\n",
    "import pandas as pd # data processing, CSV file I/O (e.g. pd.read_csv)\n",
    "\n",
    "# Input data files are available in the read-only \"../input/\" directory\n",
    "# For example, running this (by clicking run or pressing Shift+Enter) will list all files under the input directory\n",
    "\n",
    "import os\n",
    "for dirname, _, filenames in os.walk('/kaggle/input'):\n",
    "    for filename in filenames:\n",
    "        print(os.path.join(dirname, filename))\n",
    "\n",
    "# You can write up to 20GB to the current directory (/kaggle/working/) that gets preserved as output when you create a version using \"Save & Run All\" \n",
    "# You can also write temporary files to /kaggle/temp/, but they won't be saved outside of the current session"
   ]
  },
  {
   "cell_type": "markdown",
   "id": "immediate-diving",
   "metadata": {
    "papermill": {
     "duration": 0.052781,
     "end_time": "2021-06-11T21:26:35.641504",
     "exception": false,
     "start_time": "2021-06-11T21:26:35.588723",
     "status": "completed"
    },
    "tags": []
   },
   "source": [
    "#### Any business wants to maximize the number of customers. To achieve this goal, it is important not only to try to attract new ones, but also to retain existing ones. Retaining a client will cost the company less than attracting a new one. In addition, a new client may be weakly interested in business services and it will be difficult to work with him, while old clients already have the necessary data on interaction with the service.\n",
    "\n",
    "#### Accordingly, predicting the churn, we can react in time and try to keep the client who wants to leave. Based on the data about the services that the client uses, we can make him a special offer, trying to change his decision to leave the operator. This will make the task of retention easier to implement than the task of attracting new users, about which we do not know anything yet.\n",
    "\n",
    "#### You are provided with a dataset from a telecommunications company. The data contains information about almost six thousand users, their demographic characteristics, the services they use, the duration of using the operator's services, the method of payment, and the amount of payment.\n",
    "\n",
    "#### The task is to analyze the data and predict the churn of users (to identify people who will and will not renew their contract). The work should include the following mandatory items:\n",
    "\n",
    "#### Description of the data (with the calculation of basic statistics);\n",
    "#### Research of dependencies and formulation of hypotheses;\n",
    "#### Building models for predicting the outflow (with justification for the choice of a particular model) based on tested hypotheses and identified relationships;\n",
    "#### Comparison of the quality of the obtained models."
   ]
  },
  {
   "cell_type": "markdown",
   "id": "weighted-thumb",
   "metadata": {
    "papermill": {
     "duration": 0.05218,
     "end_time": "2021-06-11T21:26:35.753049",
     "exception": false,
     "start_time": "2021-06-11T21:26:35.700869",
     "status": "completed"
    },
    "tags": []
   },
   "source": [
    "About this file\n",
    "\n",
    "customerID - customer id\n",
    "\n",
    "gender - client gender (male / female)\n",
    "\n",
    "SeniorCitizen - is the client retired (1, 0)\n",
    "\n",
    "Partner - is the client married (Yes, No)\n",
    "\n",
    "tenure - how many months a person has been a client of the company\n",
    "\n",
    "PhoneService - is the telephone service connected (Yes, No)\n",
    "\n",
    "MultipleLines - are multiple phone lines connected (Yes, No, No phone service)\n",
    "\n",
    "InternetService - client's Internet service provider (DSL, Fiber optic, No)\n",
    "\n",
    "OnlineSecurity - is the online security service connected (Yes, No, No internet service)\n",
    "\n",
    "OnlineBackup - is the online backup service activated (Yes, No, No internet service)\n",
    "\n",
    "DeviceProtection - does the client have equipment insurance (Yes, No, No internet service)\n",
    "\n",
    "TechSupport - is the technical support service connected (Yes, No, No internet service)\n",
    "\n",
    "StreamingTV - is the streaming TV service connected (Yes, No, No internet service)\n",
    "\n",
    "StreamingMovies - is the streaming cinema service activated (Yes, No, No internet service)\n",
    "\n",
    "Contract - type of customer contract (Month-to-month, One year, Two year)\n",
    "\n",
    "PaperlessBilling - whether the client uses paperless billing (Yes, No)\n",
    "\n",
    "PaymentMethod - payment method (Electronic check, Mailed check, Bank transfer (automatic), Credit card (automatic))\n",
    "\n",
    "MonthlyCharges - current monthly payment\n",
    "\n",
    "TotalCharges - the total amount that the client paid for the services for the entire time\n",
    "\n",
    "Churn - whether there was a churn (Yes or No)"
   ]
  },
  {
   "cell_type": "code",
   "execution_count": 2,
   "id": "global-judge",
   "metadata": {
    "execution": {
     "iopub.execute_input": "2021-06-11T21:26:35.867058Z",
     "iopub.status.busy": "2021-06-11T21:26:35.866480Z",
     "iopub.status.idle": "2021-06-11T21:26:37.014513Z",
     "shell.execute_reply": "2021-06-11T21:26:37.013429Z",
     "shell.execute_reply.started": "2021-06-11T21:18:33.025504Z"
    },
    "papermill": {
     "duration": 1.208107,
     "end_time": "2021-06-11T21:26:37.014648",
     "exception": false,
     "start_time": "2021-06-11T21:26:35.806541",
     "status": "completed"
    },
    "tags": []
   },
   "outputs": [],
   "source": [
    "import pandas as pd\n",
    "import numpy as np\n",
    "import matplotlib.pyplot as plt\n",
    "import seaborn as sns\n",
    "from sklearn.preprocessing import LabelEncoder,StandardScaler\n",
    "import pandas as pd \n",
    "import numpy as np\n",
    "import matplotlib.pyplot as plt\n",
    "import seaborn as sns\n",
    "from sklearn.model_selection import train_test_split,cross_val_score,GridSearchCV,KFold\n",
    "from sklearn.preprocessing import MinMaxScaler, StandardScaler\n",
    "from sklearn.decomposition import PCA\n",
    "from sklearn.pipeline import Pipeline\n",
    "from sklearn.linear_model import LogisticRegression\n",
    "from sklearn.tree import DecisionTreeClassifier\n",
    "from sklearn.ensemble import RandomForestClassifier,AdaBoostClassifier\n",
    "from sklearn.naive_bayes import GaussianNB\n",
    "from sklearn.neighbors import KNeighborsClassifier\n",
    "from sklearn.ensemble import GradientBoostingClassifier\n",
    "from sklearn.linear_model import SGDClassifier\n",
    "from sklearn.ensemble import VotingClassifier\n",
    "from sklearn.svm import SVC\n",
    "from sklearn.neural_network import MLPClassifier\n",
    "from sklearn.metrics import accuracy_score\n",
    "from sklearn.metrics import roc_curve,confusion_matrix\n",
    "from sklearn.metrics import roc_auc_score,recall_score\n",
    "from sklearn.metrics  import accuracy_score,classification_report,roc_auc_score,plot_roc_curve,plot_precision_recall_curve\n",
    "import scipy.stats as stats\n",
    "from sklearn.decomposition import PCA\n",
    "import warnings\n",
    "warnings.filterwarnings('ignore')"
   ]
  },
  {
   "cell_type": "code",
   "execution_count": 3,
   "id": "declared-laugh",
   "metadata": {
    "execution": {
     "iopub.execute_input": "2021-06-11T21:26:37.126394Z",
     "iopub.status.busy": "2021-06-11T21:26:37.125621Z",
     "iopub.status.idle": "2021-06-11T21:26:37.176217Z",
     "shell.execute_reply": "2021-06-11T21:26:37.175584Z",
     "shell.execute_reply.started": "2021-06-11T19:31:28.078181Z"
    },
    "papermill": {
     "duration": 0.108869,
     "end_time": "2021-06-11T21:26:37.176378",
     "exception": false,
     "start_time": "2021-06-11T21:26:37.067509",
     "status": "completed"
    },
    "tags": []
   },
   "outputs": [],
   "source": [
    "data=pd.read_csv('/kaggle/input/telecom-users-dataset/telecom_users.csv')"
   ]
  },
  {
   "cell_type": "code",
   "execution_count": 4,
   "id": "clear-verse",
   "metadata": {
    "execution": {
     "iopub.execute_input": "2021-06-11T21:26:37.297414Z",
     "iopub.status.busy": "2021-06-11T21:26:37.296777Z",
     "iopub.status.idle": "2021-06-11T21:26:37.342478Z",
     "shell.execute_reply": "2021-06-11T21:26:37.342948Z",
     "shell.execute_reply.started": "2021-06-11T17:16:30.726286Z"
    },
    "papermill": {
     "duration": 0.112368,
     "end_time": "2021-06-11T21:26:37.343111",
     "exception": false,
     "start_time": "2021-06-11T21:26:37.230743",
     "status": "completed"
    },
    "tags": []
   },
   "outputs": [
    {
     "data": {
      "text/html": [
       "<div>\n",
       "<style scoped>\n",
       "    .dataframe tbody tr th:only-of-type {\n",
       "        vertical-align: middle;\n",
       "    }\n",
       "\n",
       "    .dataframe tbody tr th {\n",
       "        vertical-align: top;\n",
       "    }\n",
       "\n",
       "    .dataframe thead th {\n",
       "        text-align: right;\n",
       "    }\n",
       "</style>\n",
       "<table border=\"1\" class=\"dataframe\">\n",
       "  <thead>\n",
       "    <tr style=\"text-align: right;\">\n",
       "      <th></th>\n",
       "      <th>Unnamed: 0</th>\n",
       "      <th>customerID</th>\n",
       "      <th>gender</th>\n",
       "      <th>SeniorCitizen</th>\n",
       "      <th>Partner</th>\n",
       "      <th>Dependents</th>\n",
       "      <th>tenure</th>\n",
       "      <th>PhoneService</th>\n",
       "      <th>MultipleLines</th>\n",
       "      <th>InternetService</th>\n",
       "      <th>...</th>\n",
       "      <th>DeviceProtection</th>\n",
       "      <th>TechSupport</th>\n",
       "      <th>StreamingTV</th>\n",
       "      <th>StreamingMovies</th>\n",
       "      <th>Contract</th>\n",
       "      <th>PaperlessBilling</th>\n",
       "      <th>PaymentMethod</th>\n",
       "      <th>MonthlyCharges</th>\n",
       "      <th>TotalCharges</th>\n",
       "      <th>Churn</th>\n",
       "    </tr>\n",
       "  </thead>\n",
       "  <tbody>\n",
       "    <tr>\n",
       "      <th>0</th>\n",
       "      <td>1869</td>\n",
       "      <td>7010-BRBUU</td>\n",
       "      <td>Male</td>\n",
       "      <td>0</td>\n",
       "      <td>Yes</td>\n",
       "      <td>Yes</td>\n",
       "      <td>72</td>\n",
       "      <td>Yes</td>\n",
       "      <td>Yes</td>\n",
       "      <td>No</td>\n",
       "      <td>...</td>\n",
       "      <td>No internet service</td>\n",
       "      <td>No internet service</td>\n",
       "      <td>No internet service</td>\n",
       "      <td>No internet service</td>\n",
       "      <td>Two year</td>\n",
       "      <td>No</td>\n",
       "      <td>Credit card (automatic)</td>\n",
       "      <td>24.10</td>\n",
       "      <td>1734.65</td>\n",
       "      <td>No</td>\n",
       "    </tr>\n",
       "    <tr>\n",
       "      <th>1</th>\n",
       "      <td>4528</td>\n",
       "      <td>9688-YGXVR</td>\n",
       "      <td>Female</td>\n",
       "      <td>0</td>\n",
       "      <td>No</td>\n",
       "      <td>No</td>\n",
       "      <td>44</td>\n",
       "      <td>Yes</td>\n",
       "      <td>No</td>\n",
       "      <td>Fiber optic</td>\n",
       "      <td>...</td>\n",
       "      <td>Yes</td>\n",
       "      <td>No</td>\n",
       "      <td>Yes</td>\n",
       "      <td>No</td>\n",
       "      <td>Month-to-month</td>\n",
       "      <td>Yes</td>\n",
       "      <td>Credit card (automatic)</td>\n",
       "      <td>88.15</td>\n",
       "      <td>3973.2</td>\n",
       "      <td>No</td>\n",
       "    </tr>\n",
       "    <tr>\n",
       "      <th>2</th>\n",
       "      <td>6344</td>\n",
       "      <td>9286-DOJGF</td>\n",
       "      <td>Female</td>\n",
       "      <td>1</td>\n",
       "      <td>Yes</td>\n",
       "      <td>No</td>\n",
       "      <td>38</td>\n",
       "      <td>Yes</td>\n",
       "      <td>Yes</td>\n",
       "      <td>Fiber optic</td>\n",
       "      <td>...</td>\n",
       "      <td>No</td>\n",
       "      <td>No</td>\n",
       "      <td>No</td>\n",
       "      <td>No</td>\n",
       "      <td>Month-to-month</td>\n",
       "      <td>Yes</td>\n",
       "      <td>Bank transfer (automatic)</td>\n",
       "      <td>74.95</td>\n",
       "      <td>2869.85</td>\n",
       "      <td>Yes</td>\n",
       "    </tr>\n",
       "    <tr>\n",
       "      <th>3</th>\n",
       "      <td>6739</td>\n",
       "      <td>6994-KERXL</td>\n",
       "      <td>Male</td>\n",
       "      <td>0</td>\n",
       "      <td>No</td>\n",
       "      <td>No</td>\n",
       "      <td>4</td>\n",
       "      <td>Yes</td>\n",
       "      <td>No</td>\n",
       "      <td>DSL</td>\n",
       "      <td>...</td>\n",
       "      <td>No</td>\n",
       "      <td>No</td>\n",
       "      <td>No</td>\n",
       "      <td>Yes</td>\n",
       "      <td>Month-to-month</td>\n",
       "      <td>Yes</td>\n",
       "      <td>Electronic check</td>\n",
       "      <td>55.90</td>\n",
       "      <td>238.5</td>\n",
       "      <td>No</td>\n",
       "    </tr>\n",
       "    <tr>\n",
       "      <th>4</th>\n",
       "      <td>432</td>\n",
       "      <td>2181-UAESM</td>\n",
       "      <td>Male</td>\n",
       "      <td>0</td>\n",
       "      <td>No</td>\n",
       "      <td>No</td>\n",
       "      <td>2</td>\n",
       "      <td>Yes</td>\n",
       "      <td>No</td>\n",
       "      <td>DSL</td>\n",
       "      <td>...</td>\n",
       "      <td>Yes</td>\n",
       "      <td>No</td>\n",
       "      <td>No</td>\n",
       "      <td>No</td>\n",
       "      <td>Month-to-month</td>\n",
       "      <td>No</td>\n",
       "      <td>Electronic check</td>\n",
       "      <td>53.45</td>\n",
       "      <td>119.5</td>\n",
       "      <td>No</td>\n",
       "    </tr>\n",
       "    <tr>\n",
       "      <th>...</th>\n",
       "      <td>...</td>\n",
       "      <td>...</td>\n",
       "      <td>...</td>\n",
       "      <td>...</td>\n",
       "      <td>...</td>\n",
       "      <td>...</td>\n",
       "      <td>...</td>\n",
       "      <td>...</td>\n",
       "      <td>...</td>\n",
       "      <td>...</td>\n",
       "      <td>...</td>\n",
       "      <td>...</td>\n",
       "      <td>...</td>\n",
       "      <td>...</td>\n",
       "      <td>...</td>\n",
       "      <td>...</td>\n",
       "      <td>...</td>\n",
       "      <td>...</td>\n",
       "      <td>...</td>\n",
       "      <td>...</td>\n",
       "      <td>...</td>\n",
       "    </tr>\n",
       "    <tr>\n",
       "      <th>5981</th>\n",
       "      <td>3772</td>\n",
       "      <td>0684-AOSIH</td>\n",
       "      <td>Male</td>\n",
       "      <td>0</td>\n",
       "      <td>Yes</td>\n",
       "      <td>No</td>\n",
       "      <td>1</td>\n",
       "      <td>Yes</td>\n",
       "      <td>No</td>\n",
       "      <td>Fiber optic</td>\n",
       "      <td>...</td>\n",
       "      <td>No</td>\n",
       "      <td>No</td>\n",
       "      <td>Yes</td>\n",
       "      <td>Yes</td>\n",
       "      <td>Month-to-month</td>\n",
       "      <td>Yes</td>\n",
       "      <td>Electronic check</td>\n",
       "      <td>95.00</td>\n",
       "      <td>95</td>\n",
       "      <td>Yes</td>\n",
       "    </tr>\n",
       "    <tr>\n",
       "      <th>5982</th>\n",
       "      <td>5191</td>\n",
       "      <td>5982-PSMKW</td>\n",
       "      <td>Female</td>\n",
       "      <td>0</td>\n",
       "      <td>Yes</td>\n",
       "      <td>Yes</td>\n",
       "      <td>23</td>\n",
       "      <td>Yes</td>\n",
       "      <td>Yes</td>\n",
       "      <td>DSL</td>\n",
       "      <td>...</td>\n",
       "      <td>Yes</td>\n",
       "      <td>Yes</td>\n",
       "      <td>Yes</td>\n",
       "      <td>Yes</td>\n",
       "      <td>Two year</td>\n",
       "      <td>Yes</td>\n",
       "      <td>Credit card (automatic)</td>\n",
       "      <td>91.10</td>\n",
       "      <td>2198.3</td>\n",
       "      <td>No</td>\n",
       "    </tr>\n",
       "    <tr>\n",
       "      <th>5983</th>\n",
       "      <td>5226</td>\n",
       "      <td>8044-BGWPI</td>\n",
       "      <td>Male</td>\n",
       "      <td>0</td>\n",
       "      <td>Yes</td>\n",
       "      <td>Yes</td>\n",
       "      <td>12</td>\n",
       "      <td>Yes</td>\n",
       "      <td>No</td>\n",
       "      <td>No</td>\n",
       "      <td>...</td>\n",
       "      <td>No internet service</td>\n",
       "      <td>No internet service</td>\n",
       "      <td>No internet service</td>\n",
       "      <td>No internet service</td>\n",
       "      <td>Month-to-month</td>\n",
       "      <td>Yes</td>\n",
       "      <td>Electronic check</td>\n",
       "      <td>21.15</td>\n",
       "      <td>306.05</td>\n",
       "      <td>No</td>\n",
       "    </tr>\n",
       "    <tr>\n",
       "      <th>5984</th>\n",
       "      <td>5390</td>\n",
       "      <td>7450-NWRTR</td>\n",
       "      <td>Male</td>\n",
       "      <td>1</td>\n",
       "      <td>No</td>\n",
       "      <td>No</td>\n",
       "      <td>12</td>\n",
       "      <td>Yes</td>\n",
       "      <td>Yes</td>\n",
       "      <td>Fiber optic</td>\n",
       "      <td>...</td>\n",
       "      <td>Yes</td>\n",
       "      <td>No</td>\n",
       "      <td>Yes</td>\n",
       "      <td>Yes</td>\n",
       "      <td>Month-to-month</td>\n",
       "      <td>Yes</td>\n",
       "      <td>Electronic check</td>\n",
       "      <td>99.45</td>\n",
       "      <td>1200.15</td>\n",
       "      <td>Yes</td>\n",
       "    </tr>\n",
       "    <tr>\n",
       "      <th>5985</th>\n",
       "      <td>860</td>\n",
       "      <td>4795-UXVCJ</td>\n",
       "      <td>Male</td>\n",
       "      <td>0</td>\n",
       "      <td>No</td>\n",
       "      <td>No</td>\n",
       "      <td>26</td>\n",
       "      <td>Yes</td>\n",
       "      <td>No</td>\n",
       "      <td>No</td>\n",
       "      <td>...</td>\n",
       "      <td>No internet service</td>\n",
       "      <td>No internet service</td>\n",
       "      <td>No internet service</td>\n",
       "      <td>No internet service</td>\n",
       "      <td>One year</td>\n",
       "      <td>No</td>\n",
       "      <td>Credit card (automatic)</td>\n",
       "      <td>19.80</td>\n",
       "      <td>457.3</td>\n",
       "      <td>No</td>\n",
       "    </tr>\n",
       "  </tbody>\n",
       "</table>\n",
       "<p>5986 rows × 22 columns</p>\n",
       "</div>"
      ],
      "text/plain": [
       "      Unnamed: 0  customerID  gender  SeniorCitizen Partner Dependents  \\\n",
       "0           1869  7010-BRBUU    Male              0     Yes        Yes   \n",
       "1           4528  9688-YGXVR  Female              0      No         No   \n",
       "2           6344  9286-DOJGF  Female              1     Yes         No   \n",
       "3           6739  6994-KERXL    Male              0      No         No   \n",
       "4            432  2181-UAESM    Male              0      No         No   \n",
       "...          ...         ...     ...            ...     ...        ...   \n",
       "5981        3772  0684-AOSIH    Male              0     Yes         No   \n",
       "5982        5191  5982-PSMKW  Female              0     Yes        Yes   \n",
       "5983        5226  8044-BGWPI    Male              0     Yes        Yes   \n",
       "5984        5390  7450-NWRTR    Male              1      No         No   \n",
       "5985         860  4795-UXVCJ    Male              0      No         No   \n",
       "\n",
       "      tenure PhoneService MultipleLines InternetService  ...  \\\n",
       "0         72          Yes           Yes              No  ...   \n",
       "1         44          Yes            No     Fiber optic  ...   \n",
       "2         38          Yes           Yes     Fiber optic  ...   \n",
       "3          4          Yes            No             DSL  ...   \n",
       "4          2          Yes            No             DSL  ...   \n",
       "...      ...          ...           ...             ...  ...   \n",
       "5981       1          Yes            No     Fiber optic  ...   \n",
       "5982      23          Yes           Yes             DSL  ...   \n",
       "5983      12          Yes            No              No  ...   \n",
       "5984      12          Yes           Yes     Fiber optic  ...   \n",
       "5985      26          Yes            No              No  ...   \n",
       "\n",
       "         DeviceProtection          TechSupport          StreamingTV  \\\n",
       "0     No internet service  No internet service  No internet service   \n",
       "1                     Yes                   No                  Yes   \n",
       "2                      No                   No                   No   \n",
       "3                      No                   No                   No   \n",
       "4                     Yes                   No                   No   \n",
       "...                   ...                  ...                  ...   \n",
       "5981                   No                   No                  Yes   \n",
       "5982                  Yes                  Yes                  Yes   \n",
       "5983  No internet service  No internet service  No internet service   \n",
       "5984                  Yes                   No                  Yes   \n",
       "5985  No internet service  No internet service  No internet service   \n",
       "\n",
       "          StreamingMovies        Contract PaperlessBilling  \\\n",
       "0     No internet service        Two year               No   \n",
       "1                      No  Month-to-month              Yes   \n",
       "2                      No  Month-to-month              Yes   \n",
       "3                     Yes  Month-to-month              Yes   \n",
       "4                      No  Month-to-month               No   \n",
       "...                   ...             ...              ...   \n",
       "5981                  Yes  Month-to-month              Yes   \n",
       "5982                  Yes        Two year              Yes   \n",
       "5983  No internet service  Month-to-month              Yes   \n",
       "5984                  Yes  Month-to-month              Yes   \n",
       "5985  No internet service        One year               No   \n",
       "\n",
       "                  PaymentMethod MonthlyCharges TotalCharges  Churn  \n",
       "0       Credit card (automatic)          24.10      1734.65     No  \n",
       "1       Credit card (automatic)          88.15       3973.2     No  \n",
       "2     Bank transfer (automatic)          74.95      2869.85    Yes  \n",
       "3              Electronic check          55.90        238.5     No  \n",
       "4              Electronic check          53.45        119.5     No  \n",
       "...                         ...            ...          ...    ...  \n",
       "5981           Electronic check          95.00           95    Yes  \n",
       "5982    Credit card (automatic)          91.10       2198.3     No  \n",
       "5983           Electronic check          21.15       306.05     No  \n",
       "5984           Electronic check          99.45      1200.15    Yes  \n",
       "5985    Credit card (automatic)          19.80        457.3     No  \n",
       "\n",
       "[5986 rows x 22 columns]"
      ]
     },
     "execution_count": 4,
     "metadata": {},
     "output_type": "execute_result"
    }
   ],
   "source": [
    "data"
   ]
  },
  {
   "cell_type": "code",
   "execution_count": 5,
   "id": "decimal-johnson",
   "metadata": {
    "execution": {
     "iopub.execute_input": "2021-06-11T21:26:37.455946Z",
     "iopub.status.busy": "2021-06-11T21:26:37.455291Z",
     "iopub.status.idle": "2021-06-11T21:26:37.459495Z",
     "shell.execute_reply": "2021-06-11T21:26:37.458990Z",
     "shell.execute_reply.started": "2021-06-11T17:16:37.138704Z"
    },
    "papermill": {
     "duration": 0.062636,
     "end_time": "2021-06-11T21:26:37.459628",
     "exception": false,
     "start_time": "2021-06-11T21:26:37.396992",
     "status": "completed"
    },
    "tags": []
   },
   "outputs": [
    {
     "data": {
      "text/plain": [
       "Index(['Unnamed: 0', 'customerID', 'gender', 'SeniorCitizen', 'Partner',\n",
       "       'Dependents', 'tenure', 'PhoneService', 'MultipleLines',\n",
       "       'InternetService', 'OnlineSecurity', 'OnlineBackup', 'DeviceProtection',\n",
       "       'TechSupport', 'StreamingTV', 'StreamingMovies', 'Contract',\n",
       "       'PaperlessBilling', 'PaymentMethod', 'MonthlyCharges', 'TotalCharges',\n",
       "       'Churn'],\n",
       "      dtype='object')"
      ]
     },
     "execution_count": 5,
     "metadata": {},
     "output_type": "execute_result"
    }
   ],
   "source": [
    "data.columns"
   ]
  },
  {
   "cell_type": "markdown",
   "id": "comparable-dress",
   "metadata": {
    "papermill": {
     "duration": 0.054426,
     "end_time": "2021-06-11T21:26:37.569138",
     "exception": false,
     "start_time": "2021-06-11T21:26:37.514712",
     "status": "completed"
    },
    "tags": []
   },
   "source": [
    "#### There are 2 variable which is useless for our model..[Unnamed: 0', 'customerID'],so we drop it."
   ]
  },
  {
   "cell_type": "code",
   "execution_count": 6,
   "id": "personal-sperm",
   "metadata": {
    "execution": {
     "iopub.execute_input": "2021-06-11T21:26:37.694201Z",
     "iopub.status.busy": "2021-06-11T21:26:37.692723Z",
     "iopub.status.idle": "2021-06-11T21:26:37.703705Z",
     "shell.execute_reply": "2021-06-11T21:26:37.704454Z",
     "shell.execute_reply.started": "2021-06-11T19:31:40.099121Z"
    },
    "papermill": {
     "duration": 0.080299,
     "end_time": "2021-06-11T21:26:37.704697",
     "exception": false,
     "start_time": "2021-06-11T21:26:37.624398",
     "status": "completed"
    },
    "tags": []
   },
   "outputs": [],
   "source": [
    "data.drop(columns=['Unnamed: 0','customerID'],inplace=True)"
   ]
  },
  {
   "cell_type": "markdown",
   "id": "bound-craps",
   "metadata": {
    "papermill": {
     "duration": 0.053261,
     "end_time": "2021-06-11T21:26:37.823546",
     "exception": false,
     "start_time": "2021-06-11T21:26:37.770285",
     "status": "completed"
    },
    "tags": []
   },
   "source": [
    "## EDA"
   ]
  },
  {
   "cell_type": "code",
   "execution_count": 7,
   "id": "available-dakota",
   "metadata": {
    "execution": {
     "iopub.execute_input": "2021-06-11T21:26:37.937250Z",
     "iopub.status.busy": "2021-06-11T21:26:37.936612Z",
     "iopub.status.idle": "2021-06-11T21:26:37.965519Z",
     "shell.execute_reply": "2021-06-11T21:26:37.964932Z",
     "shell.execute_reply.started": "2021-06-11T17:22:00.526539Z"
    },
    "papermill": {
     "duration": 0.086703,
     "end_time": "2021-06-11T21:26:37.965653",
     "exception": false,
     "start_time": "2021-06-11T21:26:37.878950",
     "status": "completed"
    },
    "tags": []
   },
   "outputs": [
    {
     "name": "stdout",
     "output_type": "stream",
     "text": [
      "<class 'pandas.core.frame.DataFrame'>\n",
      "RangeIndex: 5986 entries, 0 to 5985\n",
      "Data columns (total 20 columns):\n",
      " #   Column            Non-Null Count  Dtype  \n",
      "---  ------            --------------  -----  \n",
      " 0   gender            5986 non-null   object \n",
      " 1   SeniorCitizen     5986 non-null   int64  \n",
      " 2   Partner           5986 non-null   object \n",
      " 3   Dependents        5986 non-null   object \n",
      " 4   tenure            5986 non-null   int64  \n",
      " 5   PhoneService      5986 non-null   object \n",
      " 6   MultipleLines     5986 non-null   object \n",
      " 7   InternetService   5986 non-null   object \n",
      " 8   OnlineSecurity    5986 non-null   object \n",
      " 9   OnlineBackup      5986 non-null   object \n",
      " 10  DeviceProtection  5986 non-null   object \n",
      " 11  TechSupport       5986 non-null   object \n",
      " 12  StreamingTV       5986 non-null   object \n",
      " 13  StreamingMovies   5986 non-null   object \n",
      " 14  Contract          5986 non-null   object \n",
      " 15  PaperlessBilling  5986 non-null   object \n",
      " 16  PaymentMethod     5986 non-null   object \n",
      " 17  MonthlyCharges    5986 non-null   float64\n",
      " 18  TotalCharges      5986 non-null   object \n",
      " 19  Churn             5986 non-null   object \n",
      "dtypes: float64(1), int64(2), object(17)\n",
      "memory usage: 935.4+ KB\n"
     ]
    }
   ],
   "source": [
    "data.info()"
   ]
  },
  {
   "cell_type": "markdown",
   "id": "clear-complexity",
   "metadata": {
    "papermill": {
     "duration": 0.05383,
     "end_time": "2021-06-11T21:26:38.076274",
     "exception": false,
     "start_time": "2021-06-11T21:26:38.022444",
     "status": "completed"
    },
    "tags": []
   },
   "source": [
    "#### we see that variable TotalCharges is object type but it should be float type,so lets convert it."
   ]
  },
  {
   "cell_type": "code",
   "execution_count": 8,
   "id": "apparent-viewer",
   "metadata": {
    "execution": {
     "iopub.execute_input": "2021-06-11T21:26:38.196614Z",
     "iopub.status.busy": "2021-06-11T21:26:38.195825Z",
     "iopub.status.idle": "2021-06-11T21:26:38.199994Z",
     "shell.execute_reply": "2021-06-11T21:26:38.199441Z",
     "shell.execute_reply.started": "2021-06-11T19:31:47.504530Z"
    },
    "papermill": {
     "duration": 0.068293,
     "end_time": "2021-06-11T21:26:38.200145",
     "exception": false,
     "start_time": "2021-06-11T21:26:38.131852",
     "status": "completed"
    },
    "tags": []
   },
   "outputs": [],
   "source": [
    "data['TotalCharges']=pd.to_numeric(data['TotalCharges'],errors='coerce')"
   ]
  },
  {
   "cell_type": "code",
   "execution_count": 9,
   "id": "developing-representative",
   "metadata": {
    "execution": {
     "iopub.execute_input": "2021-06-11T21:26:38.316770Z",
     "iopub.status.busy": "2021-06-11T21:26:38.315844Z",
     "iopub.status.idle": "2021-06-11T21:26:38.332440Z",
     "shell.execute_reply": "2021-06-11T21:26:38.332914Z",
     "shell.execute_reply.started": "2021-06-11T19:31:51.652662Z"
    },
    "papermill": {
     "duration": 0.076308,
     "end_time": "2021-06-11T21:26:38.333075",
     "exception": false,
     "start_time": "2021-06-11T21:26:38.256767",
     "status": "completed"
    },
    "tags": []
   },
   "outputs": [
    {
     "data": {
      "text/plain": [
       "gender               0\n",
       "SeniorCitizen        0\n",
       "Partner              0\n",
       "Dependents           0\n",
       "tenure               0\n",
       "PhoneService         0\n",
       "MultipleLines        0\n",
       "InternetService      0\n",
       "OnlineSecurity       0\n",
       "OnlineBackup         0\n",
       "DeviceProtection     0\n",
       "TechSupport          0\n",
       "StreamingTV          0\n",
       "StreamingMovies      0\n",
       "Contract             0\n",
       "PaperlessBilling     0\n",
       "PaymentMethod        0\n",
       "MonthlyCharges       0\n",
       "TotalCharges        10\n",
       "Churn                0\n",
       "dtype: int64"
      ]
     },
     "execution_count": 9,
     "metadata": {},
     "output_type": "execute_result"
    }
   ],
   "source": [
    "data.isnull().sum()"
   ]
  },
  {
   "cell_type": "code",
   "execution_count": 10,
   "id": "objective-draft",
   "metadata": {
    "execution": {
     "iopub.execute_input": "2021-06-11T21:26:38.450145Z",
     "iopub.status.busy": "2021-06-11T21:26:38.449181Z",
     "iopub.status.idle": "2021-06-11T21:26:38.458126Z",
     "shell.execute_reply": "2021-06-11T21:26:38.457620Z",
     "shell.execute_reply.started": "2021-06-11T19:33:06.189721Z"
    },
    "papermill": {
     "duration": 0.068907,
     "end_time": "2021-06-11T21:26:38.458263",
     "exception": false,
     "start_time": "2021-06-11T21:26:38.389356",
     "status": "completed"
    },
    "tags": []
   },
   "outputs": [],
   "source": [
    "data['TotalCharges'].fillna(data['TotalCharges'].median(),inplace=True)# missing value treated"
   ]
  },
  {
   "cell_type": "code",
   "execution_count": 11,
   "id": "outdoor-acceptance",
   "metadata": {
    "execution": {
     "iopub.execute_input": "2021-06-11T21:26:38.575408Z",
     "iopub.status.busy": "2021-06-11T21:26:38.574795Z",
     "iopub.status.idle": "2021-06-11T21:26:38.596622Z",
     "shell.execute_reply": "2021-06-11T21:26:38.597195Z",
     "shell.execute_reply.started": "2021-06-11T17:24:29.342216Z"
    },
    "papermill": {
     "duration": 0.082983,
     "end_time": "2021-06-11T21:26:38.597378",
     "exception": false,
     "start_time": "2021-06-11T21:26:38.514395",
     "status": "completed"
    },
    "tags": []
   },
   "outputs": [
    {
     "data": {
      "text/html": [
       "<div>\n",
       "<style scoped>\n",
       "    .dataframe tbody tr th:only-of-type {\n",
       "        vertical-align: middle;\n",
       "    }\n",
       "\n",
       "    .dataframe tbody tr th {\n",
       "        vertical-align: top;\n",
       "    }\n",
       "\n",
       "    .dataframe thead th {\n",
       "        text-align: right;\n",
       "    }\n",
       "</style>\n",
       "<table border=\"1\" class=\"dataframe\">\n",
       "  <thead>\n",
       "    <tr style=\"text-align: right;\">\n",
       "      <th></th>\n",
       "      <th>SeniorCitizen</th>\n",
       "      <th>tenure</th>\n",
       "      <th>MonthlyCharges</th>\n",
       "      <th>TotalCharges</th>\n",
       "    </tr>\n",
       "  </thead>\n",
       "  <tbody>\n",
       "    <tr>\n",
       "      <th>count</th>\n",
       "      <td>5986.000000</td>\n",
       "      <td>5986.000000</td>\n",
       "      <td>5986.000000</td>\n",
       "      <td>5986.000000</td>\n",
       "    </tr>\n",
       "    <tr>\n",
       "      <th>mean</th>\n",
       "      <td>0.161377</td>\n",
       "      <td>32.468760</td>\n",
       "      <td>64.802213</td>\n",
       "      <td>2296.580647</td>\n",
       "    </tr>\n",
       "    <tr>\n",
       "      <th>std</th>\n",
       "      <td>0.367909</td>\n",
       "      <td>24.516391</td>\n",
       "      <td>30.114702</td>\n",
       "      <td>2272.514574</td>\n",
       "    </tr>\n",
       "    <tr>\n",
       "      <th>min</th>\n",
       "      <td>0.000000</td>\n",
       "      <td>0.000000</td>\n",
       "      <td>18.250000</td>\n",
       "      <td>18.800000</td>\n",
       "    </tr>\n",
       "    <tr>\n",
       "      <th>25%</th>\n",
       "      <td>0.000000</td>\n",
       "      <td>9.000000</td>\n",
       "      <td>35.650000</td>\n",
       "      <td>406.275000</td>\n",
       "    </tr>\n",
       "    <tr>\n",
       "      <th>50%</th>\n",
       "      <td>0.000000</td>\n",
       "      <td>29.000000</td>\n",
       "      <td>70.400000</td>\n",
       "      <td>1412.150000</td>\n",
       "    </tr>\n",
       "    <tr>\n",
       "      <th>75%</th>\n",
       "      <td>0.000000</td>\n",
       "      <td>56.000000</td>\n",
       "      <td>89.900000</td>\n",
       "      <td>3841.500000</td>\n",
       "    </tr>\n",
       "    <tr>\n",
       "      <th>max</th>\n",
       "      <td>1.000000</td>\n",
       "      <td>72.000000</td>\n",
       "      <td>118.750000</td>\n",
       "      <td>8684.800000</td>\n",
       "    </tr>\n",
       "  </tbody>\n",
       "</table>\n",
       "</div>"
      ],
      "text/plain": [
       "       SeniorCitizen       tenure  MonthlyCharges  TotalCharges\n",
       "count    5986.000000  5986.000000     5986.000000   5986.000000\n",
       "mean        0.161377    32.468760       64.802213   2296.580647\n",
       "std         0.367909    24.516391       30.114702   2272.514574\n",
       "min         0.000000     0.000000       18.250000     18.800000\n",
       "25%         0.000000     9.000000       35.650000    406.275000\n",
       "50%         0.000000    29.000000       70.400000   1412.150000\n",
       "75%         0.000000    56.000000       89.900000   3841.500000\n",
       "max         1.000000    72.000000      118.750000   8684.800000"
      ]
     },
     "execution_count": 11,
     "metadata": {},
     "output_type": "execute_result"
    }
   ],
   "source": [
    "data.describe()"
   ]
  },
  {
   "cell_type": "code",
   "execution_count": 12,
   "id": "laughing-mambo",
   "metadata": {
    "execution": {
     "iopub.execute_input": "2021-06-11T21:26:38.713909Z",
     "iopub.status.busy": "2021-06-11T21:26:38.713323Z",
     "iopub.status.idle": "2021-06-11T21:26:38.801205Z",
     "shell.execute_reply": "2021-06-11T21:26:38.800735Z",
     "shell.execute_reply.started": "2021-06-11T17:33:40.812593Z"
    },
    "papermill": {
     "duration": 0.146954,
     "end_time": "2021-06-11T21:26:38.801348",
     "exception": false,
     "start_time": "2021-06-11T21:26:38.654394",
     "status": "completed"
    },
    "tags": []
   },
   "outputs": [
    {
     "data": {
      "text/html": [
       "<div>\n",
       "<style scoped>\n",
       "    .dataframe tbody tr th:only-of-type {\n",
       "        vertical-align: middle;\n",
       "    }\n",
       "\n",
       "    .dataframe tbody tr th {\n",
       "        vertical-align: top;\n",
       "    }\n",
       "\n",
       "    .dataframe thead th {\n",
       "        text-align: right;\n",
       "    }\n",
       "</style>\n",
       "<table border=\"1\" class=\"dataframe\">\n",
       "  <thead>\n",
       "    <tr style=\"text-align: right;\">\n",
       "      <th></th>\n",
       "      <th>gender</th>\n",
       "      <th>Partner</th>\n",
       "      <th>Dependents</th>\n",
       "      <th>PhoneService</th>\n",
       "      <th>MultipleLines</th>\n",
       "      <th>InternetService</th>\n",
       "      <th>OnlineSecurity</th>\n",
       "      <th>OnlineBackup</th>\n",
       "      <th>DeviceProtection</th>\n",
       "      <th>TechSupport</th>\n",
       "      <th>StreamingTV</th>\n",
       "      <th>StreamingMovies</th>\n",
       "      <th>Contract</th>\n",
       "      <th>PaperlessBilling</th>\n",
       "      <th>PaymentMethod</th>\n",
       "      <th>Churn</th>\n",
       "    </tr>\n",
       "  </thead>\n",
       "  <tbody>\n",
       "    <tr>\n",
       "      <th>count</th>\n",
       "      <td>5986</td>\n",
       "      <td>5986</td>\n",
       "      <td>5986</td>\n",
       "      <td>5986</td>\n",
       "      <td>5986</td>\n",
       "      <td>5986</td>\n",
       "      <td>5986</td>\n",
       "      <td>5986</td>\n",
       "      <td>5986</td>\n",
       "      <td>5986</td>\n",
       "      <td>5986</td>\n",
       "      <td>5986</td>\n",
       "      <td>5986</td>\n",
       "      <td>5986</td>\n",
       "      <td>5986</td>\n",
       "      <td>5986</td>\n",
       "    </tr>\n",
       "    <tr>\n",
       "      <th>unique</th>\n",
       "      <td>2</td>\n",
       "      <td>2</td>\n",
       "      <td>2</td>\n",
       "      <td>2</td>\n",
       "      <td>3</td>\n",
       "      <td>3</td>\n",
       "      <td>3</td>\n",
       "      <td>3</td>\n",
       "      <td>3</td>\n",
       "      <td>3</td>\n",
       "      <td>3</td>\n",
       "      <td>3</td>\n",
       "      <td>3</td>\n",
       "      <td>2</td>\n",
       "      <td>4</td>\n",
       "      <td>2</td>\n",
       "    </tr>\n",
       "    <tr>\n",
       "      <th>top</th>\n",
       "      <td>Male</td>\n",
       "      <td>No</td>\n",
       "      <td>No</td>\n",
       "      <td>Yes</td>\n",
       "      <td>No</td>\n",
       "      <td>Fiber optic</td>\n",
       "      <td>No</td>\n",
       "      <td>No</td>\n",
       "      <td>No</td>\n",
       "      <td>No</td>\n",
       "      <td>No</td>\n",
       "      <td>No</td>\n",
       "      <td>Month-to-month</td>\n",
       "      <td>Yes</td>\n",
       "      <td>Electronic check</td>\n",
       "      <td>No</td>\n",
       "    </tr>\n",
       "    <tr>\n",
       "      <th>freq</th>\n",
       "      <td>3050</td>\n",
       "      <td>3082</td>\n",
       "      <td>4195</td>\n",
       "      <td>5396</td>\n",
       "      <td>2848</td>\n",
       "      <td>2627</td>\n",
       "      <td>2982</td>\n",
       "      <td>2605</td>\n",
       "      <td>2640</td>\n",
       "      <td>2960</td>\n",
       "      <td>2389</td>\n",
       "      <td>2356</td>\n",
       "      <td>3269</td>\n",
       "      <td>3528</td>\n",
       "      <td>2006</td>\n",
       "      <td>4399</td>\n",
       "    </tr>\n",
       "  </tbody>\n",
       "</table>\n",
       "</div>"
      ],
      "text/plain": [
       "       gender Partner Dependents PhoneService MultipleLines InternetService  \\\n",
       "count    5986    5986       5986         5986          5986            5986   \n",
       "unique      2       2          2            2             3               3   \n",
       "top      Male      No         No          Yes            No     Fiber optic   \n",
       "freq     3050    3082       4195         5396          2848            2627   \n",
       "\n",
       "       OnlineSecurity OnlineBackup DeviceProtection TechSupport StreamingTV  \\\n",
       "count            5986         5986             5986        5986        5986   \n",
       "unique              3            3                3           3           3   \n",
       "top                No           No               No          No          No   \n",
       "freq             2982         2605             2640        2960        2389   \n",
       "\n",
       "       StreamingMovies        Contract PaperlessBilling     PaymentMethod  \\\n",
       "count             5986            5986             5986              5986   \n",
       "unique               3               3                2                 4   \n",
       "top                 No  Month-to-month              Yes  Electronic check   \n",
       "freq              2356            3269             3528              2006   \n",
       "\n",
       "       Churn  \n",
       "count   5986  \n",
       "unique     2  \n",
       "top       No  \n",
       "freq    4399  "
      ]
     },
     "execution_count": 12,
     "metadata": {},
     "output_type": "execute_result"
    }
   ],
   "source": [
    "data.describe(include=[np.object])"
   ]
  },
  {
   "cell_type": "code",
   "execution_count": 13,
   "id": "flush-sampling",
   "metadata": {
    "execution": {
     "iopub.execute_input": "2021-06-11T21:26:38.924698Z",
     "iopub.status.busy": "2021-06-11T21:26:38.921922Z",
     "iopub.status.idle": "2021-06-11T21:26:38.926670Z",
     "shell.execute_reply": "2021-06-11T21:26:38.927168Z",
     "shell.execute_reply.started": "2021-06-11T17:49:24.063412Z"
    },
    "papermill": {
     "duration": 0.068849,
     "end_time": "2021-06-11T21:26:38.927352",
     "exception": false,
     "start_time": "2021-06-11T21:26:38.858503",
     "status": "completed"
    },
    "tags": []
   },
   "outputs": [],
   "source": [
    "cat_var=data.select_dtypes(include=object).columns.to_list()\n",
    "num_var=data.select_dtypes(include=np.number).columns.to_list()"
   ]
  },
  {
   "cell_type": "code",
   "execution_count": 14,
   "id": "varying-delta",
   "metadata": {
    "execution": {
     "iopub.execute_input": "2021-06-11T21:26:39.045457Z",
     "iopub.status.busy": "2021-06-11T21:26:39.044836Z",
     "iopub.status.idle": "2021-06-11T21:26:39.049143Z",
     "shell.execute_reply": "2021-06-11T21:26:39.049749Z",
     "shell.execute_reply.started": "2021-06-11T19:33:33.755876Z"
    },
    "papermill": {
     "duration": 0.065198,
     "end_time": "2021-06-11T21:26:39.049909",
     "exception": false,
     "start_time": "2021-06-11T21:26:38.984711",
     "status": "completed"
    },
    "tags": []
   },
   "outputs": [],
   "source": [
    "data1=data.copy()"
   ]
  },
  {
   "cell_type": "markdown",
   "id": "general-queensland",
   "metadata": {
    "papermill": {
     "duration": 0.058515,
     "end_time": "2021-06-11T21:26:39.166259",
     "exception": false,
     "start_time": "2021-06-11T21:26:39.107744",
     "status": "completed"
    },
    "tags": []
   },
   "source": [
    "### UNIVARIATE ANALYSIS"
   ]
  },
  {
   "cell_type": "code",
   "execution_count": 15,
   "id": "recreational-legislation",
   "metadata": {
    "execution": {
     "iopub.execute_input": "2021-06-11T21:26:39.284402Z",
     "iopub.status.busy": "2021-06-11T21:26:39.283780Z",
     "iopub.status.idle": "2021-06-11T21:26:40.002241Z",
     "shell.execute_reply": "2021-06-11T21:26:40.001572Z",
     "shell.execute_reply.started": "2021-06-11T17:44:47.886358Z"
    },
    "papermill": {
     "duration": 0.778517,
     "end_time": "2021-06-11T21:26:40.002393",
     "exception": false,
     "start_time": "2021-06-11T21:26:39.223876",
     "status": "completed"
    },
    "tags": []
   },
   "outputs": [
    {
     "data": {
      "image/png": "[encoded data removed]",
      "text/plain": [
       "<Figure size 720x720 with 4 Axes>"
      ]
     },
     "metadata": {
      "needs_background": "light"
     },
     "output_type": "display_data"
    }
   ],
   "source": [
    "data1.hist(figsize=(10,10),color='red')\n",
    "plt.show()"
   ]
  },
  {
   "cell_type": "code",
   "execution_count": 16,
   "id": "peripheral-palmer",
   "metadata": {
    "execution": {
     "iopub.execute_input": "2021-06-11T21:26:40.126364Z",
     "iopub.status.busy": "2021-06-11T21:26:40.125461Z",
     "iopub.status.idle": "2021-06-11T21:26:40.533734Z",
     "shell.execute_reply": "2021-06-11T21:26:40.534237Z",
     "shell.execute_reply.started": "2021-06-11T17:49:47.927675Z"
    },
    "papermill": {
     "duration": 0.472462,
     "end_time": "2021-06-11T21:26:40.534424",
     "exception": false,
     "start_time": "2021-06-11T21:26:40.061962",
     "status": "completed"
    },
    "tags": []
   },
   "outputs": [
    {
     "data": {
      "image/png": "[encoded data removed]",
      "text/plain": [
       "<Figure size 432x288 with 1 Axes>"
      ]
     },
     "metadata": {
      "needs_background": "light"
     },
     "output_type": "display_data"
    },
    {
     "data": {
      "image/png": "[encoded data removed]",
      "text/plain": [
       "<Figure size 432x288 with 1 Axes>"
      ]
     },
     "metadata": {
      "needs_background": "light"
     },
     "output_type": "display_data"
    },
    {
     "data": {
      "image/png": "[encoded data removed]",
      "text/plain": [
       "<Figure size 432x288 with 1 Axes>"
      ]
     },
     "metadata": {
      "needs_background": "light"
     },
     "output_type": "display_data"
    },
    {
     "data": {
      "image/png": "[encoded data removed]",
      "text/plain": [
       "<Figure size 432x288 with 1 Axes>"
      ]
     },
     "metadata": {
      "needs_background": "light"
     },
     "output_type": "display_data"
    }
   ],
   "source": [
    "for i in num_var:\n",
    "    sns.boxplot(data=data,x=i)\n",
    "    plt.show()"
   ]
  },
  {
   "cell_type": "markdown",
   "id": "breathing-carbon",
   "metadata": {
    "execution": {
     "iopub.execute_input": "2021-06-11T17:49:05.385790Z",
     "iopub.status.busy": "2021-06-11T17:49:05.385440Z",
     "iopub.status.idle": "2021-06-11T17:49:05.391766Z",
     "shell.execute_reply": "2021-06-11T17:49:05.390760Z",
     "shell.execute_reply.started": "2021-06-11T17:49:05.385761Z"
    },
    "papermill": {
     "duration": 0.061835,
     "end_time": "2021-06-11T21:26:40.658644",
     "exception": false,
     "start_time": "2021-06-11T21:26:40.596809",
     "status": "completed"
    },
    "tags": []
   },
   "source": [
    "#### Here we can see that we did'nt get any outlier"
   ]
  },
  {
   "cell_type": "markdown",
   "id": "eastern-boxing",
   "metadata": {
    "papermill": {
     "duration": 0.059854,
     "end_time": "2021-06-11T21:26:40.779189",
     "exception": false,
     "start_time": "2021-06-11T21:26:40.719335",
     "status": "completed"
    },
    "tags": []
   },
   "source": [
    "### BIVARIATE ANALYSIS"
   ]
  },
  {
   "cell_type": "code",
   "execution_count": 17,
   "id": "worth-butter",
   "metadata": {
    "execution": {
     "iopub.execute_input": "2021-06-11T21:26:40.911811Z",
     "iopub.status.busy": "2021-06-11T21:26:40.907588Z",
     "iopub.status.idle": "2021-06-11T21:26:44.204936Z",
     "shell.execute_reply": "2021-06-11T21:26:44.205402Z",
     "shell.execute_reply.started": "2021-06-11T17:53:15.803339Z"
    },
    "papermill": {
     "duration": 3.366004,
     "end_time": "2021-06-11T21:26:44.205562",
     "exception": false,
     "start_time": "2021-06-11T21:26:40.839558",
     "status": "completed"
    },
    "tags": []
   },
   "outputs": [
    {
     "data": {
      "text/plain": [
       "<seaborn.axisgrid.PairGrid at 0x7fc062fabdd0>"
      ]
     },
     "execution_count": 17,
     "metadata": {},
     "output_type": "execute_result"
    },
    {
     "data": {
      "image/png": "[encoded data removed]",
      "text/plain": [
       "<Figure size 720x720 with 20 Axes>"
      ]
     },
     "metadata": {
      "needs_background": "light"
     },
     "output_type": "display_data"
    }
   ],
   "source": [
    "sns.pairplot(data)"
   ]
  },
  {
   "cell_type": "code",
   "execution_count": 18,
   "id": "unusual-bahamas",
   "metadata": {
    "execution": {
     "iopub.execute_input": "2021-06-11T21:26:44.362477Z",
     "iopub.status.busy": "2021-06-11T21:26:44.354049Z",
     "iopub.status.idle": "2021-06-11T21:26:46.643754Z",
     "shell.execute_reply": "2021-06-11T21:26:46.644228Z",
     "shell.execute_reply.started": "2021-06-11T18:06:27.063457Z"
    },
    "papermill": {
     "duration": 2.37221,
     "end_time": "2021-06-11T21:26:46.644418",
     "exception": false,
     "start_time": "2021-06-11T21:26:44.272208",
     "status": "completed"
    },
    "tags": []
   },
   "outputs": [
    {
     "data": {
      "image/png": "[encoded data removed]",
      "text/plain": [
       "<Figure size 1080x3600 with 16 Axes>"
      ]
     },
     "metadata": {
      "needs_background": "light"
     },
     "output_type": "display_data"
    }
   ],
   "source": [
    "i=1\n",
    "plt.figure(figsize=(15,50))\n",
    "for col in cat_var:\n",
    "    plt.subplot(9,2,i)\n",
    "    sns.countplot(data=data1, x=col,hue='Churn')\n",
    "    i+=1"
   ]
  },
  {
   "cell_type": "markdown",
   "id": "considered-coach",
   "metadata": {
    "papermill": {
     "duration": 0.068644,
     "end_time": "2021-06-11T21:26:46.782941",
     "exception": false,
     "start_time": "2021-06-11T21:26:46.714297",
     "status": "completed"
    },
    "tags": []
   },
   "source": [
    "#### By observing above plot carefully ,we reach upto certain conclusion that there are some categories of variable where the customer has more probability to leave the services.\n",
    "#### So ,to retain them in  telecom services company will have to primarily focus on those factors.\n",
    "#### Here is the list of those key factor where there is more probability of customer getting churn,\n",
    "#### Organisation has to improve those field of services\n",
    "\n",
    "#### 1- Parner-No\n",
    "#### 2- Dependent-NO\n",
    "#### 3- Phone Services-Yes\n",
    "#### 4- Multiple lines-Yes\n",
    "#### 5- Internet Service- Fibre optics\n",
    "#### 6- Online security -NO\n",
    "#### 7- Online Backup-NO\n",
    "#### 8- Device Protection-No\n",
    "#### 9- Tech Support -No\n",
    "#### 10- Streaming TV- NO\n",
    "#### 11- Streaming Movies no\n",
    "#### 12- Contract-month to month\n",
    "#### 13- Paperless billing -YES\n",
    "#### 14- Payment Method - Electronic check\n",
    "\n",
    "#### So all above are the key area where services will have to be the best , otherwise customer will more tendency to churn.\n",
    "#### Telecom company has to focus on more to retain old customer rather than to find new customers only."
   ]
  },
  {
   "cell_type": "code",
   "execution_count": 19,
   "id": "advisory-announcement",
   "metadata": {
    "execution": {
     "iopub.execute_input": "2021-06-11T21:26:46.927898Z",
     "iopub.status.busy": "2021-06-11T21:26:46.927143Z",
     "iopub.status.idle": "2021-06-11T21:26:47.424854Z",
     "shell.execute_reply": "2021-06-11T21:26:47.425291Z",
     "shell.execute_reply.started": "2021-06-11T19:08:14.255517Z"
    },
    "papermill": {
     "duration": 0.573921,
     "end_time": "2021-06-11T21:26:47.425479",
     "exception": false,
     "start_time": "2021-06-11T21:26:46.851558",
     "status": "completed"
    },
    "tags": []
   },
   "outputs": [
    {
     "data": {
      "image/png": "[encoded data removed]",
      "text/plain": [
       "<Figure size 432x288 with 1 Axes>"
      ]
     },
     "metadata": {
      "needs_background": "light"
     },
     "output_type": "display_data"
    },
    {
     "data": {
      "image/png": "[encoded data removed]",
      "text/plain": [
       "<Figure size 432x288 with 1 Axes>"
      ]
     },
     "metadata": {
      "needs_background": "light"
     },
     "output_type": "display_data"
    },
    {
     "data": {
      "image/png": "[encoded data removed]",
      "text/plain": [
       "<Figure size 432x288 with 1 Axes>"
      ]
     },
     "metadata": {
      "needs_background": "light"
     },
     "output_type": "display_data"
    },
    {
     "data": {
      "image/png": "[encoded data removed]",
      "text/plain": [
       "<Figure size 432x288 with 1 Axes>"
      ]
     },
     "metadata": {
      "needs_background": "light"
     },
     "output_type": "display_data"
    }
   ],
   "source": [
    "for i in num_var:\n",
    "    sns.boxplot(data=data,y=i,x='Churn')\n",
    "    plt.show()"
   ]
  },
  {
   "cell_type": "markdown",
   "id": "chemical-column",
   "metadata": {
    "papermill": {
     "duration": 0.073089,
     "end_time": "2021-06-11T21:26:47.571274",
     "exception": false,
     "start_time": "2021-06-11T21:26:47.498185",
     "status": "completed"
    },
    "tags": []
   },
   "source": [
    "#### The customers whose tenure is less, monthly charge is high , total charge is less are more probable to leave the services."
   ]
  },
  {
   "cell_type": "code",
   "execution_count": 20,
   "id": "automated-legend",
   "metadata": {
    "execution": {
     "iopub.execute_input": "2021-06-11T21:26:47.721630Z",
     "iopub.status.busy": "2021-06-11T21:26:47.720977Z",
     "iopub.status.idle": "2021-06-11T21:26:47.723239Z",
     "shell.execute_reply": "2021-06-11T21:26:47.723749Z",
     "shell.execute_reply.started": "2021-06-11T18:53:16.086752Z"
    },
    "papermill": {
     "duration": 0.078291,
     "end_time": "2021-06-11T21:26:47.723902",
     "exception": false,
     "start_time": "2021-06-11T21:26:47.645611",
     "status": "completed"
    },
    "tags": []
   },
   "outputs": [],
   "source": [
    "lb=LabelEncoder()"
   ]
  },
  {
   "cell_type": "code",
   "execution_count": 21,
   "id": "strong-pollution",
   "metadata": {
    "execution": {
     "iopub.execute_input": "2021-06-11T21:26:47.881897Z",
     "iopub.status.busy": "2021-06-11T21:26:47.875956Z",
     "iopub.status.idle": "2021-06-11T21:26:47.916548Z",
     "shell.execute_reply": "2021-06-11T21:26:47.915937Z",
     "shell.execute_reply.started": "2021-06-11T19:34:00.938688Z"
    },
    "papermill": {
     "duration": 0.119953,
     "end_time": "2021-06-11T21:26:47.916707",
     "exception": false,
     "start_time": "2021-06-11T21:26:47.796754",
     "status": "completed"
    },
    "tags": []
   },
   "outputs": [],
   "source": [
    "for i in cat_var:\n",
    "    data1[i]=lb.fit_transform(data[i])"
   ]
  },
  {
   "cell_type": "code",
   "execution_count": 22,
   "id": "false-aging",
   "metadata": {
    "execution": {
     "iopub.execute_input": "2021-06-11T21:26:48.077622Z",
     "iopub.status.busy": "2021-06-11T21:26:48.076950Z",
     "iopub.status.idle": "2021-06-11T21:26:48.091931Z",
     "shell.execute_reply": "2021-06-11T21:26:48.092431Z",
     "shell.execute_reply.started": "2021-06-11T18:54:34.358628Z"
    },
    "papermill": {
     "duration": 0.103194,
     "end_time": "2021-06-11T21:26:48.092594",
     "exception": false,
     "start_time": "2021-06-11T21:26:47.989400",
     "status": "completed"
    },
    "tags": []
   },
   "outputs": [
    {
     "data": {
      "text/html": [
       "<div>\n",
       "<style scoped>\n",
       "    .dataframe tbody tr th:only-of-type {\n",
       "        vertical-align: middle;\n",
       "    }\n",
       "\n",
       "    .dataframe tbody tr th {\n",
       "        vertical-align: top;\n",
       "    }\n",
       "\n",
       "    .dataframe thead th {\n",
       "        text-align: right;\n",
       "    }\n",
       "</style>\n",
       "<table border=\"1\" class=\"dataframe\">\n",
       "  <thead>\n",
       "    <tr style=\"text-align: right;\">\n",
       "      <th></th>\n",
       "      <th>gender</th>\n",
       "      <th>SeniorCitizen</th>\n",
       "      <th>Partner</th>\n",
       "      <th>Dependents</th>\n",
       "      <th>tenure</th>\n",
       "      <th>PhoneService</th>\n",
       "      <th>MultipleLines</th>\n",
       "      <th>InternetService</th>\n",
       "      <th>OnlineSecurity</th>\n",
       "      <th>OnlineBackup</th>\n",
       "      <th>DeviceProtection</th>\n",
       "      <th>TechSupport</th>\n",
       "      <th>StreamingTV</th>\n",
       "      <th>StreamingMovies</th>\n",
       "      <th>Contract</th>\n",
       "      <th>PaperlessBilling</th>\n",
       "      <th>PaymentMethod</th>\n",
       "      <th>MonthlyCharges</th>\n",
       "      <th>TotalCharges</th>\n",
       "      <th>Churn</th>\n",
       "    </tr>\n",
       "  </thead>\n",
       "  <tbody>\n",
       "    <tr>\n",
       "      <th>0</th>\n",
       "      <td>1</td>\n",
       "      <td>0</td>\n",
       "      <td>1</td>\n",
       "      <td>1</td>\n",
       "      <td>72</td>\n",
       "      <td>1</td>\n",
       "      <td>2</td>\n",
       "      <td>2</td>\n",
       "      <td>1</td>\n",
       "      <td>1</td>\n",
       "      <td>1</td>\n",
       "      <td>1</td>\n",
       "      <td>1</td>\n",
       "      <td>1</td>\n",
       "      <td>2</td>\n",
       "      <td>0</td>\n",
       "      <td>1</td>\n",
       "      <td>24.10</td>\n",
       "      <td>1734.65</td>\n",
       "      <td>0</td>\n",
       "    </tr>\n",
       "    <tr>\n",
       "      <th>1</th>\n",
       "      <td>0</td>\n",
       "      <td>0</td>\n",
       "      <td>0</td>\n",
       "      <td>0</td>\n",
       "      <td>44</td>\n",
       "      <td>1</td>\n",
       "      <td>0</td>\n",
       "      <td>1</td>\n",
       "      <td>0</td>\n",
       "      <td>2</td>\n",
       "      <td>2</td>\n",
       "      <td>0</td>\n",
       "      <td>2</td>\n",
       "      <td>0</td>\n",
       "      <td>0</td>\n",
       "      <td>1</td>\n",
       "      <td>1</td>\n",
       "      <td>88.15</td>\n",
       "      <td>3973.20</td>\n",
       "      <td>0</td>\n",
       "    </tr>\n",
       "    <tr>\n",
       "      <th>2</th>\n",
       "      <td>0</td>\n",
       "      <td>1</td>\n",
       "      <td>1</td>\n",
       "      <td>0</td>\n",
       "      <td>38</td>\n",
       "      <td>1</td>\n",
       "      <td>2</td>\n",
       "      <td>1</td>\n",
       "      <td>0</td>\n",
       "      <td>0</td>\n",
       "      <td>0</td>\n",
       "      <td>0</td>\n",
       "      <td>0</td>\n",
       "      <td>0</td>\n",
       "      <td>0</td>\n",
       "      <td>1</td>\n",
       "      <td>0</td>\n",
       "      <td>74.95</td>\n",
       "      <td>2869.85</td>\n",
       "      <td>1</td>\n",
       "    </tr>\n",
       "    <tr>\n",
       "      <th>3</th>\n",
       "      <td>1</td>\n",
       "      <td>0</td>\n",
       "      <td>0</td>\n",
       "      <td>0</td>\n",
       "      <td>4</td>\n",
       "      <td>1</td>\n",
       "      <td>0</td>\n",
       "      <td>0</td>\n",
       "      <td>0</td>\n",
       "      <td>0</td>\n",
       "      <td>0</td>\n",
       "      <td>0</td>\n",
       "      <td>0</td>\n",
       "      <td>2</td>\n",
       "      <td>0</td>\n",
       "      <td>1</td>\n",
       "      <td>2</td>\n",
       "      <td>55.90</td>\n",
       "      <td>238.50</td>\n",
       "      <td>0</td>\n",
       "    </tr>\n",
       "    <tr>\n",
       "      <th>4</th>\n",
       "      <td>1</td>\n",
       "      <td>0</td>\n",
       "      <td>0</td>\n",
       "      <td>0</td>\n",
       "      <td>2</td>\n",
       "      <td>1</td>\n",
       "      <td>0</td>\n",
       "      <td>0</td>\n",
       "      <td>2</td>\n",
       "      <td>0</td>\n",
       "      <td>2</td>\n",
       "      <td>0</td>\n",
       "      <td>0</td>\n",
       "      <td>0</td>\n",
       "      <td>0</td>\n",
       "      <td>0</td>\n",
       "      <td>2</td>\n",
       "      <td>53.45</td>\n",
       "      <td>119.50</td>\n",
       "      <td>0</td>\n",
       "    </tr>\n",
       "    <tr>\n",
       "      <th>...</th>\n",
       "      <td>...</td>\n",
       "      <td>...</td>\n",
       "      <td>...</td>\n",
       "      <td>...</td>\n",
       "      <td>...</td>\n",
       "      <td>...</td>\n",
       "      <td>...</td>\n",
       "      <td>...</td>\n",
       "      <td>...</td>\n",
       "      <td>...</td>\n",
       "      <td>...</td>\n",
       "      <td>...</td>\n",
       "      <td>...</td>\n",
       "      <td>...</td>\n",
       "      <td>...</td>\n",
       "      <td>...</td>\n",
       "      <td>...</td>\n",
       "      <td>...</td>\n",
       "      <td>...</td>\n",
       "      <td>...</td>\n",
       "    </tr>\n",
       "    <tr>\n",
       "      <th>5981</th>\n",
       "      <td>1</td>\n",
       "      <td>0</td>\n",
       "      <td>1</td>\n",
       "      <td>0</td>\n",
       "      <td>1</td>\n",
       "      <td>1</td>\n",
       "      <td>0</td>\n",
       "      <td>1</td>\n",
       "      <td>2</td>\n",
       "      <td>0</td>\n",
       "      <td>0</td>\n",
       "      <td>0</td>\n",
       "      <td>2</td>\n",
       "      <td>2</td>\n",
       "      <td>0</td>\n",
       "      <td>1</td>\n",
       "      <td>2</td>\n",
       "      <td>95.00</td>\n",
       "      <td>95.00</td>\n",
       "      <td>1</td>\n",
       "    </tr>\n",
       "    <tr>\n",
       "      <th>5982</th>\n",
       "      <td>0</td>\n",
       "      <td>0</td>\n",
       "      <td>1</td>\n",
       "      <td>1</td>\n",
       "      <td>23</td>\n",
       "      <td>1</td>\n",
       "      <td>2</td>\n",
       "      <td>0</td>\n",
       "      <td>2</td>\n",
       "      <td>2</td>\n",
       "      <td>2</td>\n",
       "      <td>2</td>\n",
       "      <td>2</td>\n",
       "      <td>2</td>\n",
       "      <td>2</td>\n",
       "      <td>1</td>\n",
       "      <td>1</td>\n",
       "      <td>91.10</td>\n",
       "      <td>2198.30</td>\n",
       "      <td>0</td>\n",
       "    </tr>\n",
       "    <tr>\n",
       "      <th>5983</th>\n",
       "      <td>1</td>\n",
       "      <td>0</td>\n",
       "      <td>1</td>\n",
       "      <td>1</td>\n",
       "      <td>12</td>\n",
       "      <td>1</td>\n",
       "      <td>0</td>\n",
       "      <td>2</td>\n",
       "      <td>1</td>\n",
       "      <td>1</td>\n",
       "      <td>1</td>\n",
       "      <td>1</td>\n",
       "      <td>1</td>\n",
       "      <td>1</td>\n",
       "      <td>0</td>\n",
       "      <td>1</td>\n",
       "      <td>2</td>\n",
       "      <td>21.15</td>\n",
       "      <td>306.05</td>\n",
       "      <td>0</td>\n",
       "    </tr>\n",
       "    <tr>\n",
       "      <th>5984</th>\n",
       "      <td>1</td>\n",
       "      <td>1</td>\n",
       "      <td>0</td>\n",
       "      <td>0</td>\n",
       "      <td>12</td>\n",
       "      <td>1</td>\n",
       "      <td>2</td>\n",
       "      <td>1</td>\n",
       "      <td>0</td>\n",
       "      <td>0</td>\n",
       "      <td>2</td>\n",
       "      <td>0</td>\n",
       "      <td>2</td>\n",
       "      <td>2</td>\n",
       "      <td>0</td>\n",
       "      <td>1</td>\n",
       "      <td>2</td>\n",
       "      <td>99.45</td>\n",
       "      <td>1200.15</td>\n",
       "      <td>1</td>\n",
       "    </tr>\n",
       "    <tr>\n",
       "      <th>5985</th>\n",
       "      <td>1</td>\n",
       "      <td>0</td>\n",
       "      <td>0</td>\n",
       "      <td>0</td>\n",
       "      <td>26</td>\n",
       "      <td>1</td>\n",
       "      <td>0</td>\n",
       "      <td>2</td>\n",
       "      <td>1</td>\n",
       "      <td>1</td>\n",
       "      <td>1</td>\n",
       "      <td>1</td>\n",
       "      <td>1</td>\n",
       "      <td>1</td>\n",
       "      <td>1</td>\n",
       "      <td>0</td>\n",
       "      <td>1</td>\n",
       "      <td>19.80</td>\n",
       "      <td>457.30</td>\n",
       "      <td>0</td>\n",
       "    </tr>\n",
       "  </tbody>\n",
       "</table>\n",
       "<p>5986 rows × 20 columns</p>\n",
       "</div>"
      ],
      "text/plain": [
       "      gender  SeniorCitizen  Partner  Dependents  tenure  PhoneService  \\\n",
       "0          1              0        1           1      72             1   \n",
       "1          0              0        0           0      44             1   \n",
       "2          0              1        1           0      38             1   \n",
       "3          1              0        0           0       4             1   \n",
       "4          1              0        0           0       2             1   \n",
       "...      ...            ...      ...         ...     ...           ...   \n",
       "5981       1              0        1           0       1             1   \n",
       "5982       0              0        1           1      23             1   \n",
       "5983       1              0        1           1      12             1   \n",
       "5984       1              1        0           0      12             1   \n",
       "5985       1              0        0           0      26             1   \n",
       "\n",
       "      MultipleLines  InternetService  OnlineSecurity  OnlineBackup  \\\n",
       "0                 2                2               1             1   \n",
       "1                 0                1               0             2   \n",
       "2                 2                1               0             0   \n",
       "3                 0                0               0             0   \n",
       "4                 0                0               2             0   \n",
       "...             ...              ...             ...           ...   \n",
       "5981              0                1               2             0   \n",
       "5982              2                0               2             2   \n",
       "5983              0                2               1             1   \n",
       "5984              2                1               0             0   \n",
       "5985              0                2               1             1   \n",
       "\n",
       "      DeviceProtection  TechSupport  StreamingTV  StreamingMovies  Contract  \\\n",
       "0                    1            1            1                1         2   \n",
       "1                    2            0            2                0         0   \n",
       "2                    0            0            0                0         0   \n",
       "3                    0            0            0                2         0   \n",
       "4                    2            0            0                0         0   \n",
       "...                ...          ...          ...              ...       ...   \n",
       "5981                 0            0            2                2         0   \n",
       "5982                 2            2            2                2         2   \n",
       "5983                 1            1            1                1         0   \n",
       "5984                 2            0            2                2         0   \n",
       "5985                 1            1            1                1         1   \n",
       "\n",
       "      PaperlessBilling  PaymentMethod  MonthlyCharges  TotalCharges  Churn  \n",
       "0                    0              1           24.10       1734.65      0  \n",
       "1                    1              1           88.15       3973.20      0  \n",
       "2                    1              0           74.95       2869.85      1  \n",
       "3                    1              2           55.90        238.50      0  \n",
       "4                    0              2           53.45        119.50      0  \n",
       "...                ...            ...             ...           ...    ...  \n",
       "5981                 1              2           95.00         95.00      1  \n",
       "5982                 1              1           91.10       2198.30      0  \n",
       "5983                 1              2           21.15        306.05      0  \n",
       "5984                 1              2           99.45       1200.15      1  \n",
       "5985                 0              1           19.80        457.30      0  \n",
       "\n",
       "[5986 rows x 20 columns]"
      ]
     },
     "execution_count": 22,
     "metadata": {},
     "output_type": "execute_result"
    }
   ],
   "source": [
    "data1"
   ]
  },
  {
   "cell_type": "code",
   "execution_count": 23,
   "id": "dress-credit",
   "metadata": {
    "execution": {
     "iopub.execute_input": "2021-06-11T21:26:48.240540Z",
     "iopub.status.busy": "2021-06-11T21:26:48.239944Z",
     "iopub.status.idle": "2021-06-11T21:26:50.377417Z",
     "shell.execute_reply": "2021-06-11T21:26:50.377895Z",
     "shell.execute_reply.started": "2021-06-11T18:59:58.107932Z"
    },
    "papermill": {
     "duration": 2.213239,
     "end_time": "2021-06-11T21:26:50.378056",
     "exception": false,
     "start_time": "2021-06-11T21:26:48.164817",
     "status": "completed"
    },
    "tags": []
   },
   "outputs": [
    {
     "data": {
      "text/plain": [
       "<AxesSubplot:>"
      ]
     },
     "execution_count": 23,
     "metadata": {},
     "output_type": "execute_result"
    },
    {
     "data": {
      "image/png": "[encoded data removed]",
      "text/plain": [
       "<Figure size 1080x1080 with 2 Axes>"
      ]
     },
     "metadata": {
      "needs_background": "light"
     },
     "output_type": "display_data"
    }
   ],
   "source": [
    "plt.figure(figsize=(15,15))\n",
    "sns.heatmap(data1.corr(),linewidths=1,cmap='Accent_r',annot=True)"
   ]
  },
  {
   "cell_type": "code",
   "execution_count": 24,
   "id": "forty-tolerance",
   "metadata": {
    "execution": {
     "iopub.execute_input": "2021-06-11T21:26:50.531796Z",
     "iopub.status.busy": "2021-06-11T21:26:50.531138Z",
     "iopub.status.idle": "2021-06-11T21:26:50.799579Z",
     "shell.execute_reply": "2021-06-11T21:26:50.799053Z",
     "shell.execute_reply.started": "2021-06-11T19:04:35.393831Z"
    },
    "papermill": {
     "duration": 0.346886,
     "end_time": "2021-06-11T21:26:50.799730",
     "exception": false,
     "start_time": "2021-06-11T21:26:50.452844",
     "status": "completed"
    },
    "tags": []
   },
   "outputs": [
    {
     "data": {
      "text/plain": [
       "<AxesSubplot:>"
      ]
     },
     "execution_count": 24,
     "metadata": {},
     "output_type": "execute_result"
    },
    {
     "data": {
      "image/png": "[encoded data removed]",
      "text/plain": [
       "<Figure size 720x720 with 1 Axes>"
      ]
     },
     "metadata": {
      "needs_background": "light"
     },
     "output_type": "display_data"
    }
   ],
   "source": [
    "plt.figure(figsize=(10,10))\n",
    "corr=data1.corr()['Churn'].sort_values(ascending=False)\n",
    "corr.plot(kind='bar')"
   ]
  },
  {
   "cell_type": "code",
   "execution_count": 25,
   "id": "worse-administration",
   "metadata": {
    "execution": {
     "iopub.execute_input": "2021-06-11T21:26:50.961128Z",
     "iopub.status.busy": "2021-06-11T21:26:50.960348Z",
     "iopub.status.idle": "2021-06-11T21:26:50.964059Z",
     "shell.execute_reply": "2021-06-11T21:26:50.963555Z",
     "shell.execute_reply.started": "2021-06-11T19:34:15.683156Z"
    },
    "papermill": {
     "duration": 0.085477,
     "end_time": "2021-06-11T21:26:50.964195",
     "exception": false,
     "start_time": "2021-06-11T21:26:50.878718",
     "status": "completed"
    },
    "tags": []
   },
   "outputs": [],
   "source": [
    "data2=data.copy()"
   ]
  },
  {
   "cell_type": "markdown",
   "id": "selective-treatment",
   "metadata": {
    "papermill": {
     "duration": 0.079306,
     "end_time": "2021-06-11T21:26:51.123341",
     "exception": false,
     "start_time": "2021-06-11T21:26:51.044035",
     "status": "completed"
    },
    "tags": []
   },
   "source": [
    "### FEATURE ENGINEERING"
   ]
  },
  {
   "cell_type": "code",
   "execution_count": 26,
   "id": "strong-reynolds",
   "metadata": {
    "execution": {
     "iopub.execute_input": "2021-06-11T21:26:51.316000Z",
     "iopub.status.busy": "2021-06-11T21:26:51.315099Z",
     "iopub.status.idle": "2021-06-11T21:26:51.320022Z",
     "shell.execute_reply": "2021-06-11T21:26:51.319518Z",
     "shell.execute_reply.started": "2021-06-11T19:34:19.274223Z"
    },
    "papermill": {
     "duration": 0.116911,
     "end_time": "2021-06-11T21:26:51.320150",
     "exception": false,
     "start_time": "2021-06-11T21:26:51.203239",
     "status": "completed"
    },
    "tags": []
   },
   "outputs": [
    {
     "data": {
      "text/html": [
       "<div>\n",
       "<style scoped>\n",
       "    .dataframe tbody tr th:only-of-type {\n",
       "        vertical-align: middle;\n",
       "    }\n",
       "\n",
       "    .dataframe tbody tr th {\n",
       "        vertical-align: top;\n",
       "    }\n",
       "\n",
       "    .dataframe thead th {\n",
       "        text-align: right;\n",
       "    }\n",
       "</style>\n",
       "<table border=\"1\" class=\"dataframe\">\n",
       "  <thead>\n",
       "    <tr style=\"text-align: right;\">\n",
       "      <th></th>\n",
       "      <th>gender</th>\n",
       "      <th>SeniorCitizen</th>\n",
       "      <th>Partner</th>\n",
       "      <th>Dependents</th>\n",
       "      <th>tenure</th>\n",
       "      <th>PhoneService</th>\n",
       "      <th>MultipleLines</th>\n",
       "      <th>InternetService</th>\n",
       "      <th>OnlineSecurity</th>\n",
       "      <th>OnlineBackup</th>\n",
       "      <th>DeviceProtection</th>\n",
       "      <th>TechSupport</th>\n",
       "      <th>StreamingTV</th>\n",
       "      <th>StreamingMovies</th>\n",
       "      <th>Contract</th>\n",
       "      <th>PaperlessBilling</th>\n",
       "      <th>PaymentMethod</th>\n",
       "      <th>MonthlyCharges</th>\n",
       "      <th>TotalCharges</th>\n",
       "      <th>Churn</th>\n",
       "    </tr>\n",
       "  </thead>\n",
       "  <tbody>\n",
       "    <tr>\n",
       "      <th>0</th>\n",
       "      <td>Male</td>\n",
       "      <td>0</td>\n",
       "      <td>Yes</td>\n",
       "      <td>Yes</td>\n",
       "      <td>72</td>\n",
       "      <td>Yes</td>\n",
       "      <td>Yes</td>\n",
       "      <td>No</td>\n",
       "      <td>No internet service</td>\n",
       "      <td>No internet service</td>\n",
       "      <td>No internet service</td>\n",
       "      <td>No internet service</td>\n",
       "      <td>No internet service</td>\n",
       "      <td>No internet service</td>\n",
       "      <td>Two year</td>\n",
       "      <td>No</td>\n",
       "      <td>Credit card (automatic)</td>\n",
       "      <td>24.10</td>\n",
       "      <td>1734.65</td>\n",
       "      <td>No</td>\n",
       "    </tr>\n",
       "    <tr>\n",
       "      <th>1</th>\n",
       "      <td>Female</td>\n",
       "      <td>0</td>\n",
       "      <td>No</td>\n",
       "      <td>No</td>\n",
       "      <td>44</td>\n",
       "      <td>Yes</td>\n",
       "      <td>No</td>\n",
       "      <td>Fiber optic</td>\n",
       "      <td>No</td>\n",
       "      <td>Yes</td>\n",
       "      <td>Yes</td>\n",
       "      <td>No</td>\n",
       "      <td>Yes</td>\n",
       "      <td>No</td>\n",
       "      <td>Month-to-month</td>\n",
       "      <td>Yes</td>\n",
       "      <td>Credit card (automatic)</td>\n",
       "      <td>88.15</td>\n",
       "      <td>3973.20</td>\n",
       "      <td>No</td>\n",
       "    </tr>\n",
       "    <tr>\n",
       "      <th>2</th>\n",
       "      <td>Female</td>\n",
       "      <td>1</td>\n",
       "      <td>Yes</td>\n",
       "      <td>No</td>\n",
       "      <td>38</td>\n",
       "      <td>Yes</td>\n",
       "      <td>Yes</td>\n",
       "      <td>Fiber optic</td>\n",
       "      <td>No</td>\n",
       "      <td>No</td>\n",
       "      <td>No</td>\n",
       "      <td>No</td>\n",
       "      <td>No</td>\n",
       "      <td>No</td>\n",
       "      <td>Month-to-month</td>\n",
       "      <td>Yes</td>\n",
       "      <td>Bank transfer (automatic)</td>\n",
       "      <td>74.95</td>\n",
       "      <td>2869.85</td>\n",
       "      <td>Yes</td>\n",
       "    </tr>\n",
       "    <tr>\n",
       "      <th>3</th>\n",
       "      <td>Male</td>\n",
       "      <td>0</td>\n",
       "      <td>No</td>\n",
       "      <td>No</td>\n",
       "      <td>4</td>\n",
       "      <td>Yes</td>\n",
       "      <td>No</td>\n",
       "      <td>DSL</td>\n",
       "      <td>No</td>\n",
       "      <td>No</td>\n",
       "      <td>No</td>\n",
       "      <td>No</td>\n",
       "      <td>No</td>\n",
       "      <td>Yes</td>\n",
       "      <td>Month-to-month</td>\n",
       "      <td>Yes</td>\n",
       "      <td>Electronic check</td>\n",
       "      <td>55.90</td>\n",
       "      <td>238.50</td>\n",
       "      <td>No</td>\n",
       "    </tr>\n",
       "    <tr>\n",
       "      <th>4</th>\n",
       "      <td>Male</td>\n",
       "      <td>0</td>\n",
       "      <td>No</td>\n",
       "      <td>No</td>\n",
       "      <td>2</td>\n",
       "      <td>Yes</td>\n",
       "      <td>No</td>\n",
       "      <td>DSL</td>\n",
       "      <td>Yes</td>\n",
       "      <td>No</td>\n",
       "      <td>Yes</td>\n",
       "      <td>No</td>\n",
       "      <td>No</td>\n",
       "      <td>No</td>\n",
       "      <td>Month-to-month</td>\n",
       "      <td>No</td>\n",
       "      <td>Electronic check</td>\n",
       "      <td>53.45</td>\n",
       "      <td>119.50</td>\n",
       "      <td>No</td>\n",
       "    </tr>\n",
       "    <tr>\n",
       "      <th>...</th>\n",
       "      <td>...</td>\n",
       "      <td>...</td>\n",
       "      <td>...</td>\n",
       "      <td>...</td>\n",
       "      <td>...</td>\n",
       "      <td>...</td>\n",
       "      <td>...</td>\n",
       "      <td>...</td>\n",
       "      <td>...</td>\n",
       "      <td>...</td>\n",
       "      <td>...</td>\n",
       "      <td>...</td>\n",
       "      <td>...</td>\n",
       "      <td>...</td>\n",
       "      <td>...</td>\n",
       "      <td>...</td>\n",
       "      <td>...</td>\n",
       "      <td>...</td>\n",
       "      <td>...</td>\n",
       "      <td>...</td>\n",
       "    </tr>\n",
       "    <tr>\n",
       "      <th>5981</th>\n",
       "      <td>Male</td>\n",
       "      <td>0</td>\n",
       "      <td>Yes</td>\n",
       "      <td>No</td>\n",
       "      <td>1</td>\n",
       "      <td>Yes</td>\n",
       "      <td>No</td>\n",
       "      <td>Fiber optic</td>\n",
       "      <td>Yes</td>\n",
       "      <td>No</td>\n",
       "      <td>No</td>\n",
       "      <td>No</td>\n",
       "      <td>Yes</td>\n",
       "      <td>Yes</td>\n",
       "      <td>Month-to-month</td>\n",
       "      <td>Yes</td>\n",
       "      <td>Electronic check</td>\n",
       "      <td>95.00</td>\n",
       "      <td>95.00</td>\n",
       "      <td>Yes</td>\n",
       "    </tr>\n",
       "    <tr>\n",
       "      <th>5982</th>\n",
       "      <td>Female</td>\n",
       "      <td>0</td>\n",
       "      <td>Yes</td>\n",
       "      <td>Yes</td>\n",
       "      <td>23</td>\n",
       "      <td>Yes</td>\n",
       "      <td>Yes</td>\n",
       "      <td>DSL</td>\n",
       "      <td>Yes</td>\n",
       "      <td>Yes</td>\n",
       "      <td>Yes</td>\n",
       "      <td>Yes</td>\n",
       "      <td>Yes</td>\n",
       "      <td>Yes</td>\n",
       "      <td>Two year</td>\n",
       "      <td>Yes</td>\n",
       "      <td>Credit card (automatic)</td>\n",
       "      <td>91.10</td>\n",
       "      <td>2198.30</td>\n",
       "      <td>No</td>\n",
       "    </tr>\n",
       "    <tr>\n",
       "      <th>5983</th>\n",
       "      <td>Male</td>\n",
       "      <td>0</td>\n",
       "      <td>Yes</td>\n",
       "      <td>Yes</td>\n",
       "      <td>12</td>\n",
       "      <td>Yes</td>\n",
       "      <td>No</td>\n",
       "      <td>No</td>\n",
       "      <td>No internet service</td>\n",
       "      <td>No internet service</td>\n",
       "      <td>No internet service</td>\n",
       "      <td>No internet service</td>\n",
       "      <td>No internet service</td>\n",
       "      <td>No internet service</td>\n",
       "      <td>Month-to-month</td>\n",
       "      <td>Yes</td>\n",
       "      <td>Electronic check</td>\n",
       "      <td>21.15</td>\n",
       "      <td>306.05</td>\n",
       "      <td>No</td>\n",
       "    </tr>\n",
       "    <tr>\n",
       "      <th>5984</th>\n",
       "      <td>Male</td>\n",
       "      <td>1</td>\n",
       "      <td>No</td>\n",
       "      <td>No</td>\n",
       "      <td>12</td>\n",
       "      <td>Yes</td>\n",
       "      <td>Yes</td>\n",
       "      <td>Fiber optic</td>\n",
       "      <td>No</td>\n",
       "      <td>No</td>\n",
       "      <td>Yes</td>\n",
       "      <td>No</td>\n",
       "      <td>Yes</td>\n",
       "      <td>Yes</td>\n",
       "      <td>Month-to-month</td>\n",
       "      <td>Yes</td>\n",
       "      <td>Electronic check</td>\n",
       "      <td>99.45</td>\n",
       "      <td>1200.15</td>\n",
       "      <td>Yes</td>\n",
       "    </tr>\n",
       "    <tr>\n",
       "      <th>5985</th>\n",
       "      <td>Male</td>\n",
       "      <td>0</td>\n",
       "      <td>No</td>\n",
       "      <td>No</td>\n",
       "      <td>26</td>\n",
       "      <td>Yes</td>\n",
       "      <td>No</td>\n",
       "      <td>No</td>\n",
       "      <td>No internet service</td>\n",
       "      <td>No internet service</td>\n",
       "      <td>No internet service</td>\n",
       "      <td>No internet service</td>\n",
       "      <td>No internet service</td>\n",
       "      <td>No internet service</td>\n",
       "      <td>One year</td>\n",
       "      <td>No</td>\n",
       "      <td>Credit card (automatic)</td>\n",
       "      <td>19.80</td>\n",
       "      <td>457.30</td>\n",
       "      <td>No</td>\n",
       "    </tr>\n",
       "  </tbody>\n",
       "</table>\n",
       "<p>5986 rows × 20 columns</p>\n",
       "</div>"
      ],
      "text/plain": [
       "      gender  SeniorCitizen Partner Dependents  tenure PhoneService  \\\n",
       "0       Male              0     Yes        Yes      72          Yes   \n",
       "1     Female              0      No         No      44          Yes   \n",
       "2     Female              1     Yes         No      38          Yes   \n",
       "3       Male              0      No         No       4          Yes   \n",
       "4       Male              0      No         No       2          Yes   \n",
       "...      ...            ...     ...        ...     ...          ...   \n",
       "5981    Male              0     Yes         No       1          Yes   \n",
       "5982  Female              0     Yes        Yes      23          Yes   \n",
       "5983    Male              0     Yes        Yes      12          Yes   \n",
       "5984    Male              1      No         No      12          Yes   \n",
       "5985    Male              0      No         No      26          Yes   \n",
       "\n",
       "     MultipleLines InternetService       OnlineSecurity         OnlineBackup  \\\n",
       "0              Yes              No  No internet service  No internet service   \n",
       "1               No     Fiber optic                   No                  Yes   \n",
       "2              Yes     Fiber optic                   No                   No   \n",
       "3               No             DSL                   No                   No   \n",
       "4               No             DSL                  Yes                   No   \n",
       "...            ...             ...                  ...                  ...   \n",
       "5981            No     Fiber optic                  Yes                   No   \n",
       "5982           Yes             DSL                  Yes                  Yes   \n",
       "5983            No              No  No internet service  No internet service   \n",
       "5984           Yes     Fiber optic                   No                   No   \n",
       "5985            No              No  No internet service  No internet service   \n",
       "\n",
       "         DeviceProtection          TechSupport          StreamingTV  \\\n",
       "0     No internet service  No internet service  No internet service   \n",
       "1                     Yes                   No                  Yes   \n",
       "2                      No                   No                   No   \n",
       "3                      No                   No                   No   \n",
       "4                     Yes                   No                   No   \n",
       "...                   ...                  ...                  ...   \n",
       "5981                   No                   No                  Yes   \n",
       "5982                  Yes                  Yes                  Yes   \n",
       "5983  No internet service  No internet service  No internet service   \n",
       "5984                  Yes                   No                  Yes   \n",
       "5985  No internet service  No internet service  No internet service   \n",
       "\n",
       "          StreamingMovies        Contract PaperlessBilling  \\\n",
       "0     No internet service        Two year               No   \n",
       "1                      No  Month-to-month              Yes   \n",
       "2                      No  Month-to-month              Yes   \n",
       "3                     Yes  Month-to-month              Yes   \n",
       "4                      No  Month-to-month               No   \n",
       "...                   ...             ...              ...   \n",
       "5981                  Yes  Month-to-month              Yes   \n",
       "5982                  Yes        Two year              Yes   \n",
       "5983  No internet service  Month-to-month              Yes   \n",
       "5984                  Yes  Month-to-month              Yes   \n",
       "5985  No internet service        One year               No   \n",
       "\n",
       "                  PaymentMethod  MonthlyCharges  TotalCharges Churn  \n",
       "0       Credit card (automatic)           24.10       1734.65    No  \n",
       "1       Credit card (automatic)           88.15       3973.20    No  \n",
       "2     Bank transfer (automatic)           74.95       2869.85   Yes  \n",
       "3              Electronic check           55.90        238.50    No  \n",
       "4              Electronic check           53.45        119.50    No  \n",
       "...                         ...             ...           ...   ...  \n",
       "5981           Electronic check           95.00         95.00   Yes  \n",
       "5982    Credit card (automatic)           91.10       2198.30    No  \n",
       "5983           Electronic check           21.15        306.05    No  \n",
       "5984           Electronic check           99.45       1200.15   Yes  \n",
       "5985    Credit card (automatic)           19.80        457.30    No  \n",
       "\n",
       "[5986 rows x 20 columns]"
      ]
     },
     "execution_count": 26,
     "metadata": {},
     "output_type": "execute_result"
    }
   ],
   "source": [
    "data2"
   ]
  },
  {
   "cell_type": "code",
   "execution_count": 27,
   "id": "robust-professional",
   "metadata": {
    "execution": {
     "iopub.execute_input": "2021-06-11T21:26:51.491194Z",
     "iopub.status.busy": "2021-06-11T21:26:51.490612Z",
     "iopub.status.idle": "2021-06-11T21:26:51.514107Z",
     "shell.execute_reply": "2021-06-11T21:26:51.514574Z",
     "shell.execute_reply.started": "2021-06-11T19:34:26.896702Z"
    },
    "papermill": {
     "duration": 0.112447,
     "end_time": "2021-06-11T21:26:51.514744",
     "exception": false,
     "start_time": "2021-06-11T21:26:51.402297",
     "status": "completed"
    },
    "tags": []
   },
   "outputs": [],
   "source": [
    "data2=pd.get_dummies(data2,drop_first=True)"
   ]
  },
  {
   "cell_type": "code",
   "execution_count": 28,
   "id": "curious-indiana",
   "metadata": {
    "execution": {
     "iopub.execute_input": "2021-06-11T21:26:51.680244Z",
     "iopub.status.busy": "2021-06-11T21:26:51.679657Z",
     "iopub.status.idle": "2021-06-11T21:26:51.682212Z",
     "shell.execute_reply": "2021-06-11T21:26:51.681744Z",
     "shell.execute_reply.started": "2021-06-11T19:25:28.953381Z"
    },
    "papermill": {
     "duration": 0.087079,
     "end_time": "2021-06-11T21:26:51.682341",
     "exception": false,
     "start_time": "2021-06-11T21:26:51.595262",
     "status": "completed"
    },
    "tags": []
   },
   "outputs": [],
   "source": [
    "sc=StandardScaler()"
   ]
  },
  {
   "cell_type": "code",
   "execution_count": 29,
   "id": "dangerous-health",
   "metadata": {
    "execution": {
     "iopub.execute_input": "2021-06-11T21:26:51.846657Z",
     "iopub.status.busy": "2021-06-11T21:26:51.845982Z",
     "iopub.status.idle": "2021-06-11T21:26:51.854196Z",
     "shell.execute_reply": "2021-06-11T21:26:51.853725Z",
     "shell.execute_reply.started": "2021-06-11T19:34:34.552836Z"
    },
    "papermill": {
     "duration": 0.093443,
     "end_time": "2021-06-11T21:26:51.854337",
     "exception": false,
     "start_time": "2021-06-11T21:26:51.760894",
     "status": "completed"
    },
    "tags": []
   },
   "outputs": [],
   "source": [
    "scaled=sc.fit_transform(data2[['tenure','MonthlyCharges','TotalCharges']])\n",
    "scaled=pd.DataFrame(scaled,columns=['tenure','MonthlyCharges','TotalCharges'])"
   ]
  },
  {
   "cell_type": "code",
   "execution_count": 30,
   "id": "prompt-control",
   "metadata": {
    "execution": {
     "iopub.execute_input": "2021-06-11T21:26:52.018383Z",
     "iopub.status.busy": "2021-06-11T21:26:52.017782Z",
     "iopub.status.idle": "2021-06-11T21:26:52.020554Z",
     "shell.execute_reply": "2021-06-11T21:26:52.021078Z",
     "shell.execute_reply.started": "2021-06-11T19:34:37.655393Z"
    },
    "papermill": {
     "duration": 0.086993,
     "end_time": "2021-06-11T21:26:52.021225",
     "exception": false,
     "start_time": "2021-06-11T21:26:51.934232",
     "status": "completed"
    },
    "tags": []
   },
   "outputs": [],
   "source": [
    "scaled_data=pd.concat([scaled,data2.drop(columns=['tenure','MonthlyCharges','TotalCharges'])],axis=1)"
   ]
  },
  {
   "cell_type": "code",
   "execution_count": 31,
   "id": "monthly-chicago",
   "metadata": {
    "execution": {
     "iopub.execute_input": "2021-06-11T21:26:52.183293Z",
     "iopub.status.busy": "2021-06-11T21:26:52.182659Z",
     "iopub.status.idle": "2021-06-11T21:26:52.205855Z",
     "shell.execute_reply": "2021-06-11T21:26:52.206334Z",
     "shell.execute_reply.started": "2021-06-11T19:34:55.417801Z"
    },
    "papermill": {
     "duration": 0.105898,
     "end_time": "2021-06-11T21:26:52.206503",
     "exception": false,
     "start_time": "2021-06-11T21:26:52.100605",
     "status": "completed"
    },
    "tags": []
   },
   "outputs": [
    {
     "data": {
      "text/html": [
       "<div>\n",
       "<style scoped>\n",
       "    .dataframe tbody tr th:only-of-type {\n",
       "        vertical-align: middle;\n",
       "    }\n",
       "\n",
       "    .dataframe tbody tr th {\n",
       "        vertical-align: top;\n",
       "    }\n",
       "\n",
       "    .dataframe thead th {\n",
       "        text-align: right;\n",
       "    }\n",
       "</style>\n",
       "<table border=\"1\" class=\"dataframe\">\n",
       "  <thead>\n",
       "    <tr style=\"text-align: right;\">\n",
       "      <th></th>\n",
       "      <th>tenure</th>\n",
       "      <th>MonthlyCharges</th>\n",
       "      <th>TotalCharges</th>\n",
       "      <th>SeniorCitizen</th>\n",
       "      <th>gender_Male</th>\n",
       "      <th>Partner_Yes</th>\n",
       "      <th>Dependents_Yes</th>\n",
       "      <th>PhoneService_Yes</th>\n",
       "      <th>MultipleLines_No phone service</th>\n",
       "      <th>MultipleLines_Yes</th>\n",
       "      <th>...</th>\n",
       "      <th>StreamingTV_Yes</th>\n",
       "      <th>StreamingMovies_No internet service</th>\n",
       "      <th>StreamingMovies_Yes</th>\n",
       "      <th>Contract_One year</th>\n",
       "      <th>Contract_Two year</th>\n",
       "      <th>PaperlessBilling_Yes</th>\n",
       "      <th>PaymentMethod_Credit card (automatic)</th>\n",
       "      <th>PaymentMethod_Electronic check</th>\n",
       "      <th>PaymentMethod_Mailed check</th>\n",
       "      <th>Churn_Yes</th>\n",
       "    </tr>\n",
       "  </thead>\n",
       "  <tbody>\n",
       "    <tr>\n",
       "      <th>0</th>\n",
       "      <td>1.612576</td>\n",
       "      <td>-1.351686</td>\n",
       "      <td>-0.247293</td>\n",
       "      <td>0</td>\n",
       "      <td>1</td>\n",
       "      <td>1</td>\n",
       "      <td>1</td>\n",
       "      <td>1</td>\n",
       "      <td>0</td>\n",
       "      <td>1</td>\n",
       "      <td>...</td>\n",
       "      <td>0</td>\n",
       "      <td>1</td>\n",
       "      <td>0</td>\n",
       "      <td>0</td>\n",
       "      <td>1</td>\n",
       "      <td>0</td>\n",
       "      <td>1</td>\n",
       "      <td>0</td>\n",
       "      <td>0</td>\n",
       "      <td>0</td>\n",
       "    </tr>\n",
       "    <tr>\n",
       "      <th>1</th>\n",
       "      <td>0.470387</td>\n",
       "      <td>0.775360</td>\n",
       "      <td>0.737843</td>\n",
       "      <td>0</td>\n",
       "      <td>0</td>\n",
       "      <td>0</td>\n",
       "      <td>0</td>\n",
       "      <td>1</td>\n",
       "      <td>0</td>\n",
       "      <td>0</td>\n",
       "      <td>...</td>\n",
       "      <td>1</td>\n",
       "      <td>0</td>\n",
       "      <td>0</td>\n",
       "      <td>0</td>\n",
       "      <td>0</td>\n",
       "      <td>1</td>\n",
       "      <td>1</td>\n",
       "      <td>0</td>\n",
       "      <td>0</td>\n",
       "      <td>0</td>\n",
       "    </tr>\n",
       "    <tr>\n",
       "      <th>2</th>\n",
       "      <td>0.225633</td>\n",
       "      <td>0.336999</td>\n",
       "      <td>0.252283</td>\n",
       "      <td>1</td>\n",
       "      <td>0</td>\n",
       "      <td>1</td>\n",
       "      <td>0</td>\n",
       "      <td>1</td>\n",
       "      <td>0</td>\n",
       "      <td>1</td>\n",
       "      <td>...</td>\n",
       "      <td>0</td>\n",
       "      <td>0</td>\n",
       "      <td>0</td>\n",
       "      <td>0</td>\n",
       "      <td>0</td>\n",
       "      <td>1</td>\n",
       "      <td>0</td>\n",
       "      <td>0</td>\n",
       "      <td>0</td>\n",
       "      <td>1</td>\n",
       "    </tr>\n",
       "    <tr>\n",
       "      <th>3</th>\n",
       "      <td>-1.161310</td>\n",
       "      <td>-0.295635</td>\n",
       "      <td>-0.905716</td>\n",
       "      <td>0</td>\n",
       "      <td>1</td>\n",
       "      <td>0</td>\n",
       "      <td>0</td>\n",
       "      <td>1</td>\n",
       "      <td>0</td>\n",
       "      <td>0</td>\n",
       "      <td>...</td>\n",
       "      <td>0</td>\n",
       "      <td>0</td>\n",
       "      <td>1</td>\n",
       "      <td>0</td>\n",
       "      <td>0</td>\n",
       "      <td>1</td>\n",
       "      <td>0</td>\n",
       "      <td>1</td>\n",
       "      <td>0</td>\n",
       "      <td>0</td>\n",
       "    </tr>\n",
       "    <tr>\n",
       "      <th>4</th>\n",
       "      <td>-1.242895</td>\n",
       "      <td>-0.376997</td>\n",
       "      <td>-0.958085</td>\n",
       "      <td>0</td>\n",
       "      <td>1</td>\n",
       "      <td>0</td>\n",
       "      <td>0</td>\n",
       "      <td>1</td>\n",
       "      <td>0</td>\n",
       "      <td>0</td>\n",
       "      <td>...</td>\n",
       "      <td>0</td>\n",
       "      <td>0</td>\n",
       "      <td>0</td>\n",
       "      <td>0</td>\n",
       "      <td>0</td>\n",
       "      <td>0</td>\n",
       "      <td>0</td>\n",
       "      <td>1</td>\n",
       "      <td>0</td>\n",
       "      <td>0</td>\n",
       "    </tr>\n",
       "    <tr>\n",
       "      <th>...</th>\n",
       "      <td>...</td>\n",
       "      <td>...</td>\n",
       "      <td>...</td>\n",
       "      <td>...</td>\n",
       "      <td>...</td>\n",
       "      <td>...</td>\n",
       "      <td>...</td>\n",
       "      <td>...</td>\n",
       "      <td>...</td>\n",
       "      <td>...</td>\n",
       "      <td>...</td>\n",
       "      <td>...</td>\n",
       "      <td>...</td>\n",
       "      <td>...</td>\n",
       "      <td>...</td>\n",
       "      <td>...</td>\n",
       "      <td>...</td>\n",
       "      <td>...</td>\n",
       "      <td>...</td>\n",
       "      <td>...</td>\n",
       "      <td>...</td>\n",
       "    </tr>\n",
       "    <tr>\n",
       "      <th>5981</th>\n",
       "      <td>-1.283688</td>\n",
       "      <td>1.002843</td>\n",
       "      <td>-0.968867</td>\n",
       "      <td>0</td>\n",
       "      <td>1</td>\n",
       "      <td>1</td>\n",
       "      <td>0</td>\n",
       "      <td>1</td>\n",
       "      <td>0</td>\n",
       "      <td>0</td>\n",
       "      <td>...</td>\n",
       "      <td>1</td>\n",
       "      <td>0</td>\n",
       "      <td>1</td>\n",
       "      <td>0</td>\n",
       "      <td>0</td>\n",
       "      <td>1</td>\n",
       "      <td>0</td>\n",
       "      <td>1</td>\n",
       "      <td>0</td>\n",
       "      <td>1</td>\n",
       "    </tr>\n",
       "    <tr>\n",
       "      <th>5982</th>\n",
       "      <td>-0.386254</td>\n",
       "      <td>0.873327</td>\n",
       "      <td>-0.043251</td>\n",
       "      <td>0</td>\n",
       "      <td>0</td>\n",
       "      <td>1</td>\n",
       "      <td>1</td>\n",
       "      <td>1</td>\n",
       "      <td>0</td>\n",
       "      <td>1</td>\n",
       "      <td>...</td>\n",
       "      <td>1</td>\n",
       "      <td>0</td>\n",
       "      <td>1</td>\n",
       "      <td>0</td>\n",
       "      <td>1</td>\n",
       "      <td>1</td>\n",
       "      <td>1</td>\n",
       "      <td>0</td>\n",
       "      <td>0</td>\n",
       "      <td>0</td>\n",
       "    </tr>\n",
       "    <tr>\n",
       "      <th>5983</th>\n",
       "      <td>-0.834971</td>\n",
       "      <td>-1.449653</td>\n",
       "      <td>-0.875989</td>\n",
       "      <td>0</td>\n",
       "      <td>1</td>\n",
       "      <td>1</td>\n",
       "      <td>1</td>\n",
       "      <td>1</td>\n",
       "      <td>0</td>\n",
       "      <td>0</td>\n",
       "      <td>...</td>\n",
       "      <td>0</td>\n",
       "      <td>1</td>\n",
       "      <td>0</td>\n",
       "      <td>0</td>\n",
       "      <td>0</td>\n",
       "      <td>1</td>\n",
       "      <td>0</td>\n",
       "      <td>1</td>\n",
       "      <td>0</td>\n",
       "      <td>0</td>\n",
       "    </tr>\n",
       "    <tr>\n",
       "      <th>5984</th>\n",
       "      <td>-0.834971</td>\n",
       "      <td>1.150623</td>\n",
       "      <td>-0.482515</td>\n",
       "      <td>1</td>\n",
       "      <td>1</td>\n",
       "      <td>0</td>\n",
       "      <td>0</td>\n",
       "      <td>1</td>\n",
       "      <td>0</td>\n",
       "      <td>1</td>\n",
       "      <td>...</td>\n",
       "      <td>1</td>\n",
       "      <td>0</td>\n",
       "      <td>1</td>\n",
       "      <td>0</td>\n",
       "      <td>0</td>\n",
       "      <td>1</td>\n",
       "      <td>0</td>\n",
       "      <td>1</td>\n",
       "      <td>0</td>\n",
       "      <td>1</td>\n",
       "    </tr>\n",
       "    <tr>\n",
       "      <th>5985</th>\n",
       "      <td>-0.263877</td>\n",
       "      <td>-1.494485</td>\n",
       "      <td>-0.809427</td>\n",
       "      <td>0</td>\n",
       "      <td>1</td>\n",
       "      <td>0</td>\n",
       "      <td>0</td>\n",
       "      <td>1</td>\n",
       "      <td>0</td>\n",
       "      <td>0</td>\n",
       "      <td>...</td>\n",
       "      <td>0</td>\n",
       "      <td>1</td>\n",
       "      <td>0</td>\n",
       "      <td>1</td>\n",
       "      <td>0</td>\n",
       "      <td>0</td>\n",
       "      <td>1</td>\n",
       "      <td>0</td>\n",
       "      <td>0</td>\n",
       "      <td>0</td>\n",
       "    </tr>\n",
       "  </tbody>\n",
       "</table>\n",
       "<p>5986 rows × 31 columns</p>\n",
       "</div>"
      ],
      "text/plain": [
       "        tenure  MonthlyCharges  TotalCharges  SeniorCitizen  gender_Male  \\\n",
       "0     1.612576       -1.351686     -0.247293              0            1   \n",
       "1     0.470387        0.775360      0.737843              0            0   \n",
       "2     0.225633        0.336999      0.252283              1            0   \n",
       "3    -1.161310       -0.295635     -0.905716              0            1   \n",
       "4    -1.242895       -0.376997     -0.958085              0            1   \n",
       "...        ...             ...           ...            ...          ...   \n",
       "5981 -1.283688        1.002843     -0.968867              0            1   \n",
       "5982 -0.386254        0.873327     -0.043251              0            0   \n",
       "5983 -0.834971       -1.449653     -0.875989              0            1   \n",
       "5984 -0.834971        1.150623     -0.482515              1            1   \n",
       "5985 -0.263877       -1.494485     -0.809427              0            1   \n",
       "\n",
       "      Partner_Yes  Dependents_Yes  PhoneService_Yes  \\\n",
       "0               1               1                 1   \n",
       "1               0               0                 1   \n",
       "2               1               0                 1   \n",
       "3               0               0                 1   \n",
       "4               0               0                 1   \n",
       "...           ...             ...               ...   \n",
       "5981            1               0                 1   \n",
       "5982            1               1                 1   \n",
       "5983            1               1                 1   \n",
       "5984            0               0                 1   \n",
       "5985            0               0                 1   \n",
       "\n",
       "      MultipleLines_No phone service  MultipleLines_Yes  ...  StreamingTV_Yes  \\\n",
       "0                                  0                  1  ...                0   \n",
       "1                                  0                  0  ...                1   \n",
       "2                                  0                  1  ...                0   \n",
       "3                                  0                  0  ...                0   \n",
       "4                                  0                  0  ...                0   \n",
       "...                              ...                ...  ...              ...   \n",
       "5981                               0                  0  ...                1   \n",
       "5982                               0                  1  ...                1   \n",
       "5983                               0                  0  ...                0   \n",
       "5984                               0                  1  ...                1   \n",
       "5985                               0                  0  ...                0   \n",
       "\n",
       "      StreamingMovies_No internet service  StreamingMovies_Yes  \\\n",
       "0                                       1                    0   \n",
       "1                                       0                    0   \n",
       "2                                       0                    0   \n",
       "3                                       0                    1   \n",
       "4                                       0                    0   \n",
       "...                                   ...                  ...   \n",
       "5981                                    0                    1   \n",
       "5982                                    0                    1   \n",
       "5983                                    1                    0   \n",
       "5984                                    0                    1   \n",
       "5985                                    1                    0   \n",
       "\n",
       "      Contract_One year  Contract_Two year  PaperlessBilling_Yes  \\\n",
       "0                     0                  1                     0   \n",
       "1                     0                  0                     1   \n",
       "2                     0                  0                     1   \n",
       "3                     0                  0                     1   \n",
       "4                     0                  0                     0   \n",
       "...                 ...                ...                   ...   \n",
       "5981                  0                  0                     1   \n",
       "5982                  0                  1                     1   \n",
       "5983                  0                  0                     1   \n",
       "5984                  0                  0                     1   \n",
       "5985                  1                  0                     0   \n",
       "\n",
       "      PaymentMethod_Credit card (automatic)  PaymentMethod_Electronic check  \\\n",
       "0                                         1                               0   \n",
       "1                                         1                               0   \n",
       "2                                         0                               0   \n",
       "3                                         0                               1   \n",
       "4                                         0                               1   \n",
       "...                                     ...                             ...   \n",
       "5981                                      0                               1   \n",
       "5982                                      1                               0   \n",
       "5983                                      0                               1   \n",
       "5984                                      0                               1   \n",
       "5985                                      1                               0   \n",
       "\n",
       "      PaymentMethod_Mailed check  Churn_Yes  \n",
       "0                              0          0  \n",
       "1                              0          0  \n",
       "2                              0          1  \n",
       "3                              0          0  \n",
       "4                              0          0  \n",
       "...                          ...        ...  \n",
       "5981                           0          1  \n",
       "5982                           0          0  \n",
       "5983                           0          0  \n",
       "5984                           0          1  \n",
       "5985                           0          0  \n",
       "\n",
       "[5986 rows x 31 columns]"
      ]
     },
     "execution_count": 31,
     "metadata": {},
     "output_type": "execute_result"
    }
   ],
   "source": [
    "scaled_data"
   ]
  },
  {
   "cell_type": "code",
   "execution_count": 32,
   "id": "separated-reservoir",
   "metadata": {
    "execution": {
     "iopub.execute_input": "2021-06-11T21:26:52.368007Z",
     "iopub.status.busy": "2021-06-11T21:26:52.367301Z",
     "iopub.status.idle": "2021-06-11T21:26:52.372455Z",
     "shell.execute_reply": "2021-06-11T21:26:52.372987Z",
     "shell.execute_reply.started": "2021-06-11T19:35:10.472751Z"
    },
    "papermill": {
     "duration": 0.088024,
     "end_time": "2021-06-11T21:26:52.373139",
     "exception": false,
     "start_time": "2021-06-11T21:26:52.285115",
     "status": "completed"
    },
    "tags": []
   },
   "outputs": [],
   "source": [
    "X_scaled=scaled_data.drop(columns='Churn_Yes')\n",
    "Y=scaled_data[['Churn_Yes']]"
   ]
  },
  {
   "cell_type": "code",
   "execution_count": 33,
   "id": "herbal-buying",
   "metadata": {
    "execution": {
     "iopub.execute_input": "2021-06-11T21:26:52.536064Z",
     "iopub.status.busy": "2021-06-11T21:26:52.535549Z",
     "iopub.status.idle": "2021-06-11T21:26:52.538545Z",
     "shell.execute_reply": "2021-06-11T21:26:52.539071Z",
     "shell.execute_reply.started": "2021-06-11T19:35:13.498732Z"
    },
    "papermill": {
     "duration": 0.086005,
     "end_time": "2021-06-11T21:26:52.539228",
     "exception": false,
     "start_time": "2021-06-11T21:26:52.453223",
     "status": "completed"
    },
    "tags": []
   },
   "outputs": [],
   "source": [
    "pca=PCA()"
   ]
  },
  {
   "cell_type": "code",
   "execution_count": 34,
   "id": "chronic-thong",
   "metadata": {
    "execution": {
     "iopub.execute_input": "2021-06-11T21:26:52.698720Z",
     "iopub.status.busy": "2021-06-11T21:26:52.698115Z",
     "iopub.status.idle": "2021-06-11T21:26:52.729159Z",
     "shell.execute_reply": "2021-06-11T21:26:52.729932Z",
     "shell.execute_reply.started": "2021-06-11T19:35:19.203413Z"
    },
    "papermill": {
     "duration": 0.112316,
     "end_time": "2021-06-11T21:26:52.730170",
     "exception": false,
     "start_time": "2021-06-11T21:26:52.617854",
     "status": "completed"
    },
    "tags": []
   },
   "outputs": [
    {
     "data": {
      "text/plain": [
       "array([[-1.42211847e+00,  2.90855187e+00, -4.61996450e-01, ...,\n",
       "        -9.27687485e-16,  1.34474823e-15,  9.17817759e-16],\n",
       "       [ 1.37822362e+00, -1.68710700e-01, -1.19127348e-01, ...,\n",
       "        -1.49291247e-15, -4.68187597e-16,  3.05618975e-15],\n",
       "       [ 5.79377875e-01, -3.35229906e-01, -5.75756599e-01, ...,\n",
       "         3.09833162e-16,  5.25480125e-16, -3.62305290e-17],\n",
       "       ...,\n",
       "       [-2.69001470e+00,  6.01793434e-01, -6.69338241e-01, ...,\n",
       "        -3.17732471e-17, -3.32346588e-17,  1.02970836e-17],\n",
       "       [ 7.32846610e-01, -1.80418125e+00, -1.03211558e+00, ...,\n",
       "         1.78237980e-16,  5.45284676e-17,  1.01607709e-17],\n",
       "       [-2.62066231e+00,  1.15101121e+00, -3.33539033e-01, ...,\n",
       "         8.52265437e-18,  8.36849133e-17,  2.00217293e-17]])"
      ]
     },
     "execution_count": 34,
     "metadata": {},
     "output_type": "execute_result"
    }
   ],
   "source": [
    "model=pca.fit_transform(X_scaled)\n",
    "model"
   ]
  },
  {
   "cell_type": "code",
   "execution_count": 35,
   "id": "welsh-lover",
   "metadata": {
    "execution": {
     "iopub.execute_input": "2021-06-11T21:26:52.942293Z",
     "iopub.status.busy": "2021-06-11T21:26:52.941422Z",
     "iopub.status.idle": "2021-06-11T21:26:52.944898Z",
     "shell.execute_reply": "2021-06-11T21:26:52.945434Z",
     "shell.execute_reply.started": "2021-06-11T19:36:11.678249Z"
    },
    "papermill": {
     "duration": 0.086552,
     "end_time": "2021-06-11T21:26:52.945580",
     "exception": false,
     "start_time": "2021-06-11T21:26:52.859028",
     "status": "completed"
    },
    "tags": []
   },
   "outputs": [
    {
     "data": {
      "text/plain": [
       "array([0.39348612, 0.57900017, 0.640068  , 0.67503069, 0.70783972,\n",
       "       0.73840428, 0.76669083, 0.79290965, 0.81805637, 0.84110533,\n",
       "       0.86019709, 0.87917796, 0.89683405, 0.91357888, 0.92955009,\n",
       "       0.94496375, 0.9583842 , 0.97025461, 0.98069739, 0.98833971,\n",
       "       0.99472715, 0.99994111, 1.        , 1.        , 1.        ,\n",
       "       1.        , 1.        , 1.        , 1.        , 1.        ])"
      ]
     },
     "execution_count": 35,
     "metadata": {},
     "output_type": "execute_result"
    }
   ],
   "source": [
    "np.cumsum(pca.explained_variance_ratio_)"
   ]
  },
  {
   "cell_type": "code",
   "execution_count": 36,
   "id": "suitable-metallic",
   "metadata": {
    "execution": {
     "iopub.execute_input": "2021-06-11T21:26:53.105825Z",
     "iopub.status.busy": "2021-06-11T21:26:53.104883Z",
     "iopub.status.idle": "2021-06-11T21:26:53.108633Z",
     "shell.execute_reply": "2021-06-11T21:26:53.109209Z",
     "shell.execute_reply.started": "2021-06-11T19:36:30.252923Z"
    },
    "papermill": {
     "duration": 0.084876,
     "end_time": "2021-06-11T21:26:53.109356",
     "exception": false,
     "start_time": "2021-06-11T21:26:53.024480",
     "status": "completed"
    },
    "tags": []
   },
   "outputs": [],
   "source": [
    "feature=range(pca.n_components_)"
   ]
  },
  {
   "cell_type": "code",
   "execution_count": 37,
   "id": "center-victory",
   "metadata": {
    "execution": {
     "iopub.execute_input": "2021-06-11T21:26:53.273727Z",
     "iopub.status.busy": "2021-06-11T21:26:53.272906Z",
     "iopub.status.idle": "2021-06-11T21:26:53.513925Z",
     "shell.execute_reply": "2021-06-11T21:26:53.514459Z",
     "shell.execute_reply.started": "2021-06-11T19:37:21.487552Z"
    },
    "papermill": {
     "duration": 0.324535,
     "end_time": "2021-06-11T21:26:53.514620",
     "exception": false,
     "start_time": "2021-06-11T21:26:53.190085",
     "status": "completed"
    },
    "tags": []
   },
   "outputs": [
    {
     "data": {
      "image/png": "[encoded data removed]",
      "text/plain": [
       "<Figure size 1440x360 with 1 Axes>"
      ]
     },
     "metadata": {
      "needs_background": "light"
     },
     "output_type": "display_data"
    }
   ],
   "source": [
    "plt.figure(figsize=(20,5))\n",
    "plt.bar(feature,pca.explained_variance_ratio_)\n",
    "plt.step(feature,np.cumsum(pca.explained_variance_ratio_),color='red')\n",
    "plt.axhline(y=.98,color='green')\n",
    "plt.grid(axis='x')\n",
    "plt.text(0.5,.85,'98% cutt-off thresold',color='green',fontsize=15)\n",
    "plt.show()"
   ]
  },
  {
   "cell_type": "markdown",
   "id": "common-wound",
   "metadata": {
    "papermill": {
     "duration": 0.08017,
     "end_time": "2021-06-11T21:26:53.673812",
     "exception": false,
     "start_time": "2021-06-11T21:26:53.593642",
     "status": "completed"
    },
    "tags": []
   },
   "source": [
    "#### upto 19 PCA component 98% variance of the data has been covered,so we will take n_component=19"
   ]
  },
  {
   "cell_type": "code",
   "execution_count": 38,
   "id": "handmade-negotiation",
   "metadata": {
    "execution": {
     "iopub.execute_input": "2021-06-11T21:26:53.837967Z",
     "iopub.status.busy": "2021-06-11T21:26:53.836994Z",
     "iopub.status.idle": "2021-06-11T21:26:53.840932Z",
     "shell.execute_reply": "2021-06-11T21:26:53.841476Z",
     "shell.execute_reply.started": "2021-06-11T19:40:09.814271Z"
    },
    "papermill": {
     "duration": 0.087295,
     "end_time": "2021-06-11T21:26:53.841624",
     "exception": false,
     "start_time": "2021-06-11T21:26:53.754329",
     "status": "completed"
    },
    "tags": []
   },
   "outputs": [],
   "source": [
    "pca1=PCA(n_components=19,whiten=True)"
   ]
  },
  {
   "cell_type": "code",
   "execution_count": 39,
   "id": "useful-zoning",
   "metadata": {
    "execution": {
     "iopub.execute_input": "2021-06-11T21:26:54.009677Z",
     "iopub.status.busy": "2021-06-11T21:26:54.008733Z",
     "iopub.status.idle": "2021-06-11T21:26:54.161659Z",
     "shell.execute_reply": "2021-06-11T21:26:54.162603Z",
     "shell.execute_reply.started": "2021-06-11T19:40:38.108648Z"
    },
    "papermill": {
     "duration": 0.23906,
     "end_time": "2021-06-11T21:26:54.162863",
     "exception": false,
     "start_time": "2021-06-11T21:26:53.923803",
     "status": "completed"
    },
    "tags": []
   },
   "outputs": [],
   "source": [
    "model1=pca1.fit_transform(X_scaled)"
   ]
  },
  {
   "cell_type": "code",
   "execution_count": 40,
   "id": "former-zealand",
   "metadata": {
    "execution": {
     "iopub.execute_input": "2021-06-11T21:26:54.405711Z",
     "iopub.status.busy": "2021-06-11T21:26:54.404884Z",
     "iopub.status.idle": "2021-06-11T21:26:54.407992Z",
     "shell.execute_reply": "2021-06-11T21:26:54.408433Z",
     "shell.execute_reply.started": "2021-06-11T19:40:51.546538Z"
    },
    "papermill": {
     "duration": 0.088275,
     "end_time": "2021-06-11T21:26:54.408573",
     "exception": false,
     "start_time": "2021-06-11T21:26:54.320298",
     "status": "completed"
    },
    "tags": []
   },
   "outputs": [
    {
     "data": {
      "text/plain": [
       "array([0.39348612, 0.57900017, 0.640068  , 0.67503069, 0.70783972,\n",
       "       0.73840428, 0.76669083, 0.79290965, 0.81805637, 0.84110533,\n",
       "       0.86019709, 0.87917796, 0.89683405, 0.91357888, 0.92955009,\n",
       "       0.94496375, 0.9583842 , 0.97025461, 0.98069739])"
      ]
     },
     "execution_count": 40,
     "metadata": {},
     "output_type": "execute_result"
    }
   ],
   "source": [
    "np.cumsum(pca1.explained_variance_ratio_)"
   ]
  },
  {
   "cell_type": "markdown",
   "id": "innocent-ukraine",
   "metadata": {
    "papermill": {
     "duration": 0.079632,
     "end_time": "2021-06-11T21:26:54.567538",
     "exception": false,
     "start_time": "2021-06-11T21:26:54.487906",
     "status": "completed"
    },
    "tags": []
   },
   "source": [
    "### Model Selection"
   ]
  },
  {
   "cell_type": "markdown",
   "id": "dress-opinion",
   "metadata": {
    "papermill": {
     "duration": 0.081282,
     "end_time": "2021-06-11T21:26:54.730897",
     "exception": false,
     "start_time": "2021-06-11T21:26:54.649615",
     "status": "completed"
    },
    "tags": []
   },
   "source": [
    "#### Before going into the Modelling ,it should be noted that our data is highly sensitive to False Negative.\n",
    "#### Let suppose a customer has high probability to leave the sevice(churn) ,but if our model predict that he is not going to leave (not churn) which is False Negative, then company will not be  primarily focusing to that customer's services and then customer will definatly leave the sevices(churn) which results in loss to the company.\n",
    "#### And if customer is not willing to leave the services and is satisfied, but our model tells that he is going to leave the services then company will provide him extra benefits ,offers and then customer will become extra happy. Thats why we will not focus on getting best accuracy but try to get best Recall Score."
   ]
  },
  {
   "cell_type": "code",
   "execution_count": 41,
   "id": "gothic-luther",
   "metadata": {
    "execution": {
     "iopub.execute_input": "2021-06-11T21:26:54.897063Z",
     "iopub.status.busy": "2021-06-11T21:26:54.896532Z",
     "iopub.status.idle": "2021-06-11T21:26:54.901301Z",
     "shell.execute_reply": "2021-06-11T21:26:54.900851Z",
     "shell.execute_reply.started": "2021-06-11T20:07:33.931839Z"
    },
    "papermill": {
     "duration": 0.089687,
     "end_time": "2021-06-11T21:26:54.901440",
     "exception": false,
     "start_time": "2021-06-11T21:26:54.811753",
     "status": "completed"
    },
    "tags": []
   },
   "outputs": [],
   "source": [
    "x_train,x_test,y_train,y_test=train_test_split(model1,Y,test_size=.3,random_state=0)"
   ]
  },
  {
   "cell_type": "code",
   "execution_count": 42,
   "id": "small-tournament",
   "metadata": {
    "execution": {
     "iopub.execute_input": "2021-06-11T21:26:55.071243Z",
     "iopub.status.busy": "2021-06-11T21:26:55.070659Z",
     "iopub.status.idle": "2021-06-11T21:26:55.072533Z",
     "shell.execute_reply": "2021-06-11T21:26:55.073076Z",
     "shell.execute_reply.started": "2021-06-11T20:05:44.403256Z"
    },
    "papermill": {
     "duration": 0.088268,
     "end_time": "2021-06-11T21:26:55.073276",
     "exception": false,
     "start_time": "2021-06-11T21:26:54.985008",
     "status": "completed"
    },
    "tags": []
   },
   "outputs": [],
   "source": [
    "lg=LogisticRegression()\n",
    "dt=DecisionTreeClassifier()\n",
    "rf=RandomForestClassifier()\n",
    "nb=GaussianNB()\n",
    "knn=KNeighborsClassifier()\n",
    "gbc=GradientBoostingClassifier()\n",
    "adb=AdaBoostClassifier()\n",
    "sgd=SGDClassifier()\n",
    "svc=SVC()\n",
    "mlpc=MLPClassifier()"
   ]
  },
  {
   "cell_type": "code",
   "execution_count": 43,
   "id": "gentle-funeral",
   "metadata": {
    "execution": {
     "iopub.execute_input": "2021-06-11T21:26:55.240895Z",
     "iopub.status.busy": "2021-06-11T21:26:55.240255Z",
     "iopub.status.idle": "2021-06-11T21:26:55.243547Z",
     "shell.execute_reply": "2021-06-11T21:26:55.244068Z",
     "shell.execute_reply.started": "2021-06-11T20:06:09.814003Z"
    },
    "papermill": {
     "duration": 0.08793,
     "end_time": "2021-06-11T21:26:55.244231",
     "exception": false,
     "start_time": "2021-06-11T21:26:55.156301",
     "status": "completed"
    },
    "tags": []
   },
   "outputs": [],
   "source": [
    "algo=[lg,dt,rf,nb,knn,adb,sgd,svc,mlpc]"
   ]
  },
  {
   "cell_type": "code",
   "execution_count": 44,
   "id": "collect-dallas",
   "metadata": {
    "execution": {
     "iopub.execute_input": "2021-06-11T21:26:55.412184Z",
     "iopub.status.busy": "2021-06-11T21:26:55.411552Z",
     "iopub.status.idle": "2021-06-11T21:27:05.842240Z",
     "shell.execute_reply": "2021-06-11T21:27:05.842986Z",
     "shell.execute_reply.started": "2021-06-11T20:07:41.898881Z"
    },
    "papermill": {
     "duration": 10.517097,
     "end_time": "2021-06-11T21:27:05.843260",
     "exception": false,
     "start_time": "2021-06-11T21:26:55.326163",
     "status": "completed"
    },
    "tags": []
   },
   "outputs": [],
   "source": [
    "model=[]\n",
    "acc=[]\n",
    "recall=[]\n",
    "for i in algo:\n",
    "    i.fit(x_train,y_train)\n",
    "    y_pred=i.predict(x_test)\n",
    "    model.append(i)\n",
    "    acc.append(i.score(x_test,y_test))\n",
    "    recall.append(recall_score(y_pred,y_test))"
   ]
  },
  {
   "cell_type": "code",
   "execution_count": 45,
   "id": "gorgeous-trinity",
   "metadata": {
    "execution": {
     "iopub.execute_input": "2021-06-11T21:27:06.063706Z",
     "iopub.status.busy": "2021-06-11T21:27:06.062750Z",
     "iopub.status.idle": "2021-06-11T21:27:06.066697Z",
     "shell.execute_reply": "2021-06-11T21:27:06.067163Z",
     "shell.execute_reply.started": "2021-06-11T20:11:03.620200Z"
    },
    "papermill": {
     "duration": 0.091381,
     "end_time": "2021-06-11T21:27:06.067316",
     "exception": false,
     "start_time": "2021-06-11T21:27:05.975935",
     "status": "completed"
    },
    "tags": []
   },
   "outputs": [],
   "source": [
    "table=pd.DataFrame([model,acc,recall]).T\n",
    "table.columns=['model','accuracy','recall']"
   ]
  },
  {
   "cell_type": "code",
   "execution_count": 46,
   "id": "lonely-planner",
   "metadata": {
    "execution": {
     "iopub.execute_input": "2021-06-11T21:27:06.233913Z",
     "iopub.status.busy": "2021-06-11T21:27:06.232987Z",
     "iopub.status.idle": "2021-06-11T21:27:06.307685Z",
     "shell.execute_reply": "2021-06-11T21:27:06.308132Z",
     "shell.execute_reply.started": "2021-06-11T20:11:12.521718Z"
    },
    "papermill": {
     "duration": 0.158853,
     "end_time": "2021-06-11T21:27:06.308339",
     "exception": false,
     "start_time": "2021-06-11T21:27:06.149486",
     "status": "completed"
    },
    "tags": []
   },
   "outputs": [
    {
     "data": {
      "text/html": [
       "<div>\n",
       "<style scoped>\n",
       "    .dataframe tbody tr th:only-of-type {\n",
       "        vertical-align: middle;\n",
       "    }\n",
       "\n",
       "    .dataframe tbody tr th {\n",
       "        vertical-align: top;\n",
       "    }\n",
       "\n",
       "    .dataframe thead th {\n",
       "        text-align: right;\n",
       "    }\n",
       "</style>\n",
       "<table border=\"1\" class=\"dataframe\">\n",
       "  <thead>\n",
       "    <tr style=\"text-align: right;\">\n",
       "      <th></th>\n",
       "      <th>model</th>\n",
       "      <th>accuracy</th>\n",
       "      <th>recall</th>\n",
       "    </tr>\n",
       "  </thead>\n",
       "  <tbody>\n",
       "    <tr>\n",
       "      <th>0</th>\n",
       "      <td>LogisticRegression()</td>\n",
       "      <td>0.808463</td>\n",
       "      <td>0.681941</td>\n",
       "    </tr>\n",
       "    <tr>\n",
       "      <th>1</th>\n",
       "      <td>DecisionTreeClassifier()</td>\n",
       "      <td>0.719376</td>\n",
       "      <td>0.474333</td>\n",
       "    </tr>\n",
       "    <tr>\n",
       "      <th>2</th>\n",
       "      <td>(DecisionTreeClassifier(max_features='auto', r...</td>\n",
       "      <td>0.790089</td>\n",
       "      <td>0.655488</td>\n",
       "    </tr>\n",
       "    <tr>\n",
       "      <th>3</th>\n",
       "      <td>GaussianNB()</td>\n",
       "      <td>0.791203</td>\n",
       "      <td>0.598113</td>\n",
       "    </tr>\n",
       "    <tr>\n",
       "      <th>4</th>\n",
       "      <td>KNeighborsClassifier()</td>\n",
       "      <td>0.757238</td>\n",
       "      <td>0.547046</td>\n",
       "    </tr>\n",
       "    <tr>\n",
       "      <th>5</th>\n",
       "      <td>(DecisionTreeClassifier(max_depth=1, random_st...</td>\n",
       "      <td>0.806236</td>\n",
       "      <td>0.669251</td>\n",
       "    </tr>\n",
       "    <tr>\n",
       "      <th>6</th>\n",
       "      <td>SGDClassifier()</td>\n",
       "      <td>0.782294</td>\n",
       "      <td>0.72</td>\n",
       "    </tr>\n",
       "    <tr>\n",
       "      <th>7</th>\n",
       "      <td>SVC()</td>\n",
       "      <td>0.802895</td>\n",
       "      <td>0.688822</td>\n",
       "    </tr>\n",
       "    <tr>\n",
       "      <th>8</th>\n",
       "      <td>MLPClassifier()</td>\n",
       "      <td>0.783964</td>\n",
       "      <td>0.615776</td>\n",
       "    </tr>\n",
       "  </tbody>\n",
       "</table>\n",
       "</div>"
      ],
      "text/plain": [
       "                                               model  accuracy    recall\n",
       "0                               LogisticRegression()  0.808463  0.681941\n",
       "1                           DecisionTreeClassifier()  0.719376  0.474333\n",
       "2  (DecisionTreeClassifier(max_features='auto', r...  0.790089  0.655488\n",
       "3                                       GaussianNB()  0.791203  0.598113\n",
       "4                             KNeighborsClassifier()  0.757238  0.547046\n",
       "5  (DecisionTreeClassifier(max_depth=1, random_st...  0.806236  0.669251\n",
       "6                                    SGDClassifier()  0.782294      0.72\n",
       "7                                              SVC()  0.802895  0.688822\n",
       "8                                    MLPClassifier()  0.783964  0.615776"
      ]
     },
     "execution_count": 46,
     "metadata": {},
     "output_type": "execute_result"
    }
   ],
   "source": [
    "table"
   ]
  },
  {
   "cell_type": "markdown",
   "id": "dirty-salad",
   "metadata": {
    "papermill": {
     "duration": 0.081781,
     "end_time": "2021-06-11T21:27:06.473212",
     "exception": false,
     "start_time": "2021-06-11T21:27:06.391431",
     "status": "completed"
    },
    "tags": []
   },
   "source": [
    "#### We can see that logistic regression and SVC has the same accuracy and recall score. we choose SVC  for final model model building"
   ]
  },
  {
   "cell_type": "code",
   "execution_count": 47,
   "id": "clean-dakota",
   "metadata": {
    "execution": {
     "iopub.execute_input": "2021-06-11T21:27:06.643264Z",
     "iopub.status.busy": "2021-06-11T21:27:06.642503Z",
     "iopub.status.idle": "2021-06-11T21:27:09.887764Z",
     "shell.execute_reply": "2021-06-11T21:27:09.887089Z",
     "shell.execute_reply.started": "2021-06-11T20:47:01.133768Z"
    },
    "papermill": {
     "duration": 3.332775,
     "end_time": "2021-06-11T21:27:09.887901",
     "exception": false,
     "start_time": "2021-06-11T21:27:06.555126",
     "status": "completed"
    },
    "tags": []
   },
   "outputs": [
    {
     "data": {
      "text/plain": [
       "SVC(probability=True)"
      ]
     },
     "execution_count": 47,
     "metadata": {},
     "output_type": "execute_result"
    }
   ],
   "source": [
    "svc1=SVC(probability=True)\n",
    "svc1.fit(x_train,y_train)"
   ]
  },
  {
   "cell_type": "code",
   "execution_count": 48,
   "id": "filled-router",
   "metadata": {
    "execution": {
     "iopub.execute_input": "2021-06-11T21:27:10.062230Z",
     "iopub.status.busy": "2021-06-11T21:27:10.061612Z",
     "iopub.status.idle": "2021-06-11T21:27:10.352402Z",
     "shell.execute_reply": "2021-06-11T21:27:10.351710Z",
     "shell.execute_reply.started": "2021-06-11T20:47:07.632848Z"
    },
    "papermill": {
     "duration": 0.380119,
     "end_time": "2021-06-11T21:27:10.352545",
     "exception": false,
     "start_time": "2021-06-11T21:27:09.972426",
     "status": "completed"
    },
    "tags": []
   },
   "outputs": [
    {
     "data": {
      "text/plain": [
       "0.8028953229398663"
      ]
     },
     "execution_count": 48,
     "metadata": {},
     "output_type": "execute_result"
    }
   ],
   "source": [
    "svc1.score(x_test,y_test)"
   ]
  },
  {
   "cell_type": "code",
   "execution_count": 49,
   "id": "expected-motivation",
   "metadata": {
    "execution": {
     "iopub.execute_input": "2021-06-11T21:27:10.527713Z",
     "iopub.status.busy": "2021-06-11T21:27:10.526795Z",
     "iopub.status.idle": "2021-06-11T21:27:10.830135Z",
     "shell.execute_reply": "2021-06-11T21:27:10.829486Z",
     "shell.execute_reply.started": "2021-06-11T20:47:14.556375Z"
    },
    "papermill": {
     "duration": 0.392199,
     "end_time": "2021-06-11T21:27:10.830279",
     "exception": false,
     "start_time": "2021-06-11T21:27:10.438080",
     "status": "completed"
    },
    "tags": []
   },
   "outputs": [],
   "source": [
    "y_pred=svc1.predict(x_test)"
   ]
  },
  {
   "cell_type": "code",
   "execution_count": 50,
   "id": "brazilian-southwest",
   "metadata": {
    "execution": {
     "iopub.execute_input": "2021-06-11T21:27:11.004659Z",
     "iopub.status.busy": "2021-06-11T21:27:11.003537Z",
     "iopub.status.idle": "2021-06-11T21:27:11.015159Z",
     "shell.execute_reply": "2021-06-11T21:27:11.015894Z",
     "shell.execute_reply.started": "2021-06-11T20:47:18.376945Z"
    },
    "papermill": {
     "duration": 0.101934,
     "end_time": "2021-06-11T21:27:11.016116",
     "exception": false,
     "start_time": "2021-06-11T21:27:10.914182",
     "status": "completed"
    },
    "tags": []
   },
   "outputs": [
    {
     "name": "stdout",
     "output_type": "stream",
     "text": [
      "              precision    recall  f1-score   support\n",
      "\n",
      "           0       0.92      0.83      0.87      1465\n",
      "           1       0.48      0.69      0.56       331\n",
      "\n",
      "    accuracy                           0.80      1796\n",
      "   macro avg       0.70      0.76      0.72      1796\n",
      "weighted avg       0.84      0.80      0.82      1796\n",
      "\n"
     ]
    }
   ],
   "source": [
    "print(classification_report(y_pred,y_test))"
   ]
  },
  {
   "cell_type": "code",
   "execution_count": 51,
   "id": "dominican-welcome",
   "metadata": {
    "execution": {
     "iopub.execute_input": "2021-06-11T21:27:11.193556Z",
     "iopub.status.busy": "2021-06-11T21:27:11.192884Z",
     "iopub.status.idle": "2021-06-11T21:27:11.635277Z",
     "shell.execute_reply": "2021-06-11T21:27:11.634739Z",
     "shell.execute_reply.started": "2021-06-11T20:47:31.265947Z"
    },
    "papermill": {
     "duration": 0.531707,
     "end_time": "2021-06-11T21:27:11.635444",
     "exception": false,
     "start_time": "2021-06-11T21:27:11.103737",
     "status": "completed"
    },
    "tags": []
   },
   "outputs": [
    {
     "data": {
      "text/plain": [
       "<sklearn.metrics._plot.roc_curve.RocCurveDisplay at 0x7fc0600fbf10>"
      ]
     },
     "execution_count": 51,
     "metadata": {},
     "output_type": "execute_result"
    },
    {
     "data": {
      "image/png": "[encoded data removed]",
      "text/plain": [
       "<Figure size 432x288 with 1 Axes>"
      ]
     },
     "metadata": {
      "needs_background": "light"
     },
     "output_type": "display_data"
    }
   ],
   "source": [
    "plot_roc_curve(svc1,x_test,y_test)"
   ]
  },
  {
   "cell_type": "code",
   "execution_count": 52,
   "id": "positive-wilderness",
   "metadata": {
    "execution": {
     "iopub.execute_input": "2021-06-11T21:27:11.816570Z",
     "iopub.status.busy": "2021-06-11T21:27:11.815957Z",
     "iopub.status.idle": "2021-06-11T21:27:11.822361Z",
     "shell.execute_reply": "2021-06-11T21:27:11.821837Z",
     "shell.execute_reply.started": "2021-06-11T20:47:38.744399Z"
    },
    "papermill": {
     "duration": 0.099413,
     "end_time": "2021-06-11T21:27:11.822510",
     "exception": false,
     "start_time": "2021-06-11T21:27:11.723097",
     "status": "completed"
    },
    "tags": []
   },
   "outputs": [
    {
     "data": {
      "text/plain": [
       "0.6988918003370094"
      ]
     },
     "execution_count": 52,
     "metadata": {},
     "output_type": "execute_result"
    }
   ],
   "source": [
    "roc_auc_score(y_test,y_pred)"
   ]
  },
  {
   "cell_type": "code",
   "execution_count": 53,
   "id": "worth-remedy",
   "metadata": {
    "execution": {
     "iopub.execute_input": "2021-06-11T21:27:11.997740Z",
     "iopub.status.busy": "2021-06-11T21:27:11.997073Z",
     "iopub.status.idle": "2021-06-11T21:27:12.443941Z",
     "shell.execute_reply": "2021-06-11T21:27:12.443454Z",
     "shell.execute_reply.started": "2021-06-11T20:47:49.006601Z"
    },
    "papermill": {
     "duration": 0.535629,
     "end_time": "2021-06-11T21:27:12.444075",
     "exception": false,
     "start_time": "2021-06-11T21:27:11.908446",
     "status": "completed"
    },
    "tags": []
   },
   "outputs": [
    {
     "data": {
      "text/plain": [
       "<sklearn.metrics._plot.precision_recall_curve.PrecisionRecallDisplay at 0x7fc063042910>"
      ]
     },
     "execution_count": 53,
     "metadata": {},
     "output_type": "execute_result"
    },
    {
     "data": {
      "image/png": "[encoded data removed]",
      "text/plain": [
       "<Figure size 432x288 with 1 Axes>"
      ]
     },
     "metadata": {
      "needs_background": "light"
     },
     "output_type": "display_data"
    }
   ],
   "source": [
    "plot_precision_recall_curve(svc1,x_test,y_test)"
   ]
  },
  {
   "cell_type": "markdown",
   "id": "subject-planner",
   "metadata": {
    "papermill": {
     "duration": 0.087238,
     "end_time": "2021-06-11T21:27:12.618150",
     "exception": false,
     "start_time": "2021-06-11T21:27:12.530912",
     "status": "completed"
    },
    "tags": []
   },
   "source": [
    "#### We know that in any binary classification model, the cuttoff point for probability is by default =0.5.\n",
    "#### So we choose the cuttoff point to reduce the accuracy to 75%. so that recall can increase."
   ]
  },
  {
   "cell_type": "code",
   "execution_count": 54,
   "id": "finite-thomson",
   "metadata": {
    "execution": {
     "iopub.execute_input": "2021-06-11T21:27:12.798062Z",
     "iopub.status.busy": "2021-06-11T21:27:12.797453Z",
     "iopub.status.idle": "2021-06-11T21:27:13.085298Z",
     "shell.execute_reply": "2021-06-11T21:27:13.084694Z",
     "shell.execute_reply.started": "2021-06-11T20:48:00.426719Z"
    },
    "papermill": {
     "duration": 0.379522,
     "end_time": "2021-06-11T21:27:13.085454",
     "exception": false,
     "start_time": "2021-06-11T21:27:12.705932",
     "status": "completed"
    },
    "tags": []
   },
   "outputs": [],
   "source": [
    "y_pred_prob=svc1.predict_proba(x_test)[:,1]"
   ]
  },
  {
   "cell_type": "code",
   "execution_count": 55,
   "id": "extensive-mandate",
   "metadata": {
    "execution": {
     "iopub.execute_input": "2021-06-11T21:27:13.269179Z",
     "iopub.status.busy": "2021-06-11T21:27:13.268330Z",
     "iopub.status.idle": "2021-06-11T21:27:13.272247Z",
     "shell.execute_reply": "2021-06-11T21:27:13.271629Z",
     "shell.execute_reply.started": "2021-06-11T20:49:42.148604Z"
    },
    "papermill": {
     "duration": 0.098028,
     "end_time": "2021-06-11T21:27:13.272413",
     "exception": false,
     "start_time": "2021-06-11T21:27:13.174385",
     "status": "completed"
    },
    "tags": []
   },
   "outputs": [],
   "source": [
    "FPR,TPR,THRESOLD=roc_curve(y_test,y_pred_prob)"
   ]
  },
  {
   "cell_type": "code",
   "execution_count": 56,
   "id": "central-borough",
   "metadata": {
    "execution": {
     "iopub.execute_input": "2021-06-11T21:27:13.452690Z",
     "iopub.status.busy": "2021-06-11T21:27:13.451802Z",
     "iopub.status.idle": "2021-06-11T21:27:13.842465Z",
     "shell.execute_reply": "2021-06-11T21:27:13.841965Z",
     "shell.execute_reply.started": "2021-06-11T20:52:17.477062Z"
    },
    "papermill": {
     "duration": 0.48376,
     "end_time": "2021-06-11T21:27:13.842600",
     "exception": false,
     "start_time": "2021-06-11T21:27:13.358840",
     "status": "completed"
    },
    "tags": []
   },
   "outputs": [
    {
     "name": "stdout",
     "output_type": "stream",
     "text": [
      "0.7332962138084632 1.930420249557542\n",
      "0.7332962138084632 0.930420249557542\n",
      "0.7505567928730512 0.8666414348914867\n",
      "0.7511135857461024 0.8663085091678091\n",
      "0.7527839643652561 0.8530003028533343\n",
      "0.7527839643652561 0.850301442568213\n",
      "0.7538975501113586 0.8417193639103868\n",
      "0.7544543429844098 0.8411403369932694\n",
      "0.7589086859688196 0.8326270763415344\n",
      "0.7594654788418709 0.8319283950678412\n",
      "0.7594654788418709 0.8279431206542932\n",
      "0.7600222717149221 0.8262995158500265\n",
      "0.7600222717149221 0.8223760998219447\n",
      "0.7600222717149221 0.8210875339291348\n",
      "0.7600222717149221 0.817040728942776\n",
      "0.7605790645879733 0.8170348552433161\n",
      "0.7605790645879733 0.8161466423767009\n",
      "0.7611358574610245 0.8097325019168254\n",
      "0.762249443207127 0.808480219549454\n",
      "0.762249443207127 0.8061700961658075\n",
      "0.7616926503340757 0.8060546134877351\n",
      "0.762249443207127 0.8048679983003107\n",
      "0.7661469933184856 0.798511395013268\n",
      "0.7667037861915368 0.7981996729407522\n",
      "0.7661469933184856 0.7980781815198693\n",
      "0.7667037861915368 0.7962073884925411\n",
      "0.767260579064588 0.7954955558227457\n",
      "0.7678173719376392 0.7954856646601463\n",
      "0.7728285077951003 0.7847981692551157\n",
      "0.7728285077951003 0.781966170577741\n",
      "0.7728285077951003 0.7809515342838589\n",
      "0.7728285077951003 0.7786636484519166\n",
      "0.7728285077951003 0.7738376938180365\n",
      "0.7733853006681515 0.7735369936851942\n",
      "0.7739420935412027 0.7694525578645188\n",
      "0.7739420935412027 0.7687195301374521\n",
      "0.7750556792873051 0.7660384009745999\n",
      "0.7756124721603563 0.7652603314575291\n",
      "0.7750556792873051 0.7649455702621241\n",
      "0.7756124721603563 0.7636389569617364\n",
      "0.7811804008908686 0.7460037518940219\n",
      "0.7817371937639198 0.7453748427991997\n",
      "0.7811804008908686 0.745226183594126\n",
      "0.7817371937639198 0.7410612565476236\n",
      "0.784521158129176 0.7344846037531243\n",
      "0.7850779510022272 0.7343735831289813\n",
      "0.784521158129176 0.7305050709308496\n",
      "0.7850779510022272 0.7299536765978802\n",
      "0.7861915367483296 0.7271703158440936\n",
      "0.7867483296213809 0.7258853694575427\n",
      "0.7867483296213809 0.7230043298226402\n",
      "0.7873051224944321 0.7227089756337075\n",
      "0.7867483296213809 0.7225496274345333\n",
      "0.7873051224944321 0.7213254840768734\n",
      "0.7867483296213809 0.7211873560603244\n",
      "0.7861915367483296 0.7186833161182965\n",
      "0.7867483296213809 0.7150213818800657\n",
      "0.7873051224944321 0.7148388167026568\n",
      "0.7906458797327395 0.702886363249721\n",
      "0.7906458797327395 0.7023209111316663\n",
      "0.7900890868596881 0.7014757646333928\n",
      "0.7906458797327395 0.699348116142987\n",
      "0.7956570155902004 0.6810182758740925\n",
      "0.7956570155902004 0.6788854588565161\n",
      "0.7962138084632516 0.674494118282163\n",
      "0.7967706013363028 0.6717998525077771\n",
      "0.7978841870824054 0.6667654358041559\n",
      "0.7984409799554566 0.6651839242696913\n",
      "0.799554565701559 0.6593005586429433\n",
      "0.799554565701559 0.6549050054691875\n",
      "0.8012249443207127 0.6495377719462748\n",
      "0.8012249443207127 0.64676877989568\n",
      "0.8006681514476615 0.6467653320002426\n",
      "0.8012249443207127 0.6466558330559816\n",
      "0.8012249443207127 0.6451790174785762\n",
      "0.8017817371937639 0.6425395333608179\n",
      "0.8012249443207127 0.6407047276460563\n",
      "0.8012249443207127 0.6338810609699715\n",
      "0.8017817371937639 0.6308311698212026\n",
      "0.8023385300668151 0.6306887216260975\n",
      "0.8017817371937639 0.6300319983260678\n",
      "0.8023385300668151 0.6271867423710985\n",
      "0.8023385300668151 0.6252166691451249\n",
      "0.8006681514476615 0.6170993890217473\n",
      "0.8001113585746102 0.6168978225982776\n",
      "0.799554565701559 0.6092874736052772\n",
      "0.7989977728285078 0.6069469412072573\n",
      "0.799554565701559 0.6044809614022314\n",
      "0.7989977728285078 0.6038969652049273\n",
      "0.7989977728285078 0.6015353278497605\n",
      "0.7984409799554566 0.6009628724377986\n",
      "0.7989977728285078 0.5999334884925145\n",
      "0.8006681514476615 0.5833918569449211\n",
      "0.8001113585746102 0.5774394020588092\n",
      "0.8034521158129176 0.562990226042878\n",
      "0.8040089086859689 0.5624124476567536\n",
      "0.8034521158129176 0.5619537438577785\n",
      "0.8023385300668151 0.555958132634677\n",
      "0.8023385300668151 0.5497063664926973\n",
      "0.8028953229398663 0.5485707619265928\n",
      "0.8023385300668151 0.547857994521898\n",
      "0.8028953229398663 0.5420850629895884\n",
      "0.8028953229398663 0.5401984580531494\n",
      "0.8034521158129176 0.5385086891886176\n",
      "0.8028953229398663 0.5384104388473325\n",
      "0.8034521158129176 0.5379288830871629\n",
      "0.8028953229398663 0.5335008175260277\n",
      "0.8017817371937639 0.5279485802430952\n",
      "0.8017817371937639 0.5208510356867035\n",
      "0.8001113585746102 0.515619204972737\n",
      "0.8001113585746102 0.5090693086587431\n",
      "0.8006681514476615 0.508573938003268\n",
      "0.8006681514476615 0.5076278169586372\n",
      "0.8012249443207127 0.5058094708277834\n",
      "0.8006681514476615 0.5\n",
      "0.8012249443207127 0.49222911714810563\n",
      "0.8017817371937639 0.4910890889230807\n",
      "0.8012249443207127 0.4901209407002089\n",
      "0.8017817371937639 0.48995148967774965\n",
      "0.8017817371937639 0.4862335628004849\n",
      "0.8023385300668151 0.4835300785192835\n",
      "0.8017817371937639 0.48136658378784786\n",
      "0.8017817371937639 0.47650792045269946\n",
      "0.8012249443207127 0.4758395701095898\n",
      "0.8006681514476615 0.47134757467446486\n",
      "0.8001113585746102 0.4657514925873522\n",
      "0.8006681514476615 0.4647013045188066\n",
      "0.8023385300668151 0.46207617921329747\n",
      "0.8028953229398663 0.46153195549211745\n",
      "0.8040089086859689 0.4589016650480791\n",
      "0.8045657015590201 0.4582815233779374\n",
      "0.8045657015590201 0.4574235368737594\n",
      "0.8051224944320713 0.4572697722710296\n",
      "0.8045657015590201 0.454895725452041\n",
      "0.8045657015590201 0.4544097482011853\n",
      "0.8056792873051225 0.45024726923693986\n",
      "0.8062360801781737 0.4488719881157212\n",
      "0.8056792873051225 0.44699354482174425\n",
      "0.8034521158129176 0.44185846457049266\n",
      "0.8028953229398663 0.4410087351992172\n",
      "0.8034521158129176 0.4381277254272482\n",
      "0.8028953229398663 0.4378579921923235\n",
      "0.8023385300668151 0.43555244667542037\n",
      "0.8017817371937639 0.4346134048994579\n",
      "0.8006681514476615 0.4270561603667046\n",
      "0.8012249443207127 0.41991255334636474\n",
      "0.799554565701559 0.4157464153085107\n",
      "0.8012249443207127 0.4101411627295367\n",
      "0.8017817371937639 0.40982401006757363\n",
      "0.8023385300668151 0.40814887824978446\n",
      "0.8023385300668151 0.40701716061453735\n",
      "0.8023385300668151 0.40432350086635405\n",
      "0.8028953229398663 0.40365852222524246\n",
      "0.8028953229398663 0.4014882901904259\n",
      "0.8034521158129176 0.4006289111014105\n",
      "0.8028953229398663 0.3999034977521164\n",
      "0.8028953229398663 0.39870046023423616\n",
      "0.8023385300668151 0.3973027346528561\n",
      "0.8028953229398663 0.39676589889915703\n",
      "0.8028953229398663 0.39375553385335593\n",
      "0.8023385300668151 0.39082698896322476\n",
      "0.8017817371937639 0.38812172736351297\n",
      "0.8023385300668151 0.38793147482503254\n",
      "0.8017817371937639 0.3877489499197262\n",
      "0.8006681514476615 0.38280098519429023\n",
      "0.8001113585746102 0.3821143325398801\n",
      "0.8006681514476615 0.38182718434396556\n",
      "0.8006681514476615 0.3797083898358641\n",
      "0.799554565701559 0.3764333377224153\n",
      "0.7989977728285078 0.3742792957042749\n",
      "0.799554565701559 0.3729504377585237\n",
      "0.7989977728285078 0.3725671655568265\n",
      "0.7978841870824054 0.3702337343747101\n",
      "0.7973273942093542 0.36952519642211823\n",
      "0.7973273942093542 0.3676396628066891\n",
      "0.7967706013363028 0.3658509204343659\n",
      "0.7967706013363028 0.36495591571180097\n",
      "0.7962138084632516 0.36399481243795384\n",
      "0.7956570155902004 0.36229486128327004\n",
      "0.7951002227171492 0.3615888485372746\n",
      "0.7956570155902004 0.3610188622719146\n",
      "0.7956570155902004 0.3604064667622675\n",
      "0.794543429844098 0.35796705629334824\n",
      "0.7939866369710468 0.35770257557446994\n",
      "0.794543429844098 0.35730719694088425\n",
      "0.7939866369710468 0.3569611930960117\n",
      "0.7939866369710468 0.3552143517808262\n",
      "0.7934298440979956 0.35249814642689575\n",
      "0.7934298440979956 0.3507893869300771\n",
      "0.7928730512249443 0.35028255322733376\n",
      "0.7934298440979956 0.34946601972679814\n",
      "0.7939866369710468 0.3457620012502478\n",
      "0.7917594654788419 0.3419805134802676\n",
      "0.7912026726057907 0.34002223299847006\n",
      "0.7906458797327395 0.3366794038843916\n",
      "0.7917594654788419 0.3336117096523783\n",
      "0.7917594654788419 0.33107042200781167\n",
      "0.7912026726057907 0.33066496183953575\n",
      "0.7917594654788419 0.32973692730871673\n",
      "0.7912026726057907 0.32936892176629073\n",
      "0.7917594654788419 0.32925441734467437\n",
      "0.7912026726057907 0.32358829266910927\n",
      "0.7906458797327395 0.3230496076660117\n",
      "0.7912026726057907 0.3213256196873031\n",
      "0.7900890868596881 0.3189095062528547\n",
      "0.7912026726057907 0.3177481063357172\n",
      "0.7917594654788419 0.3171646411520451\n",
      "0.7917594654788419 0.31676838443284716\n",
      "0.7900890868596881 0.31182589685611517\n",
      "0.7900890868596881 0.3106652240843779\n",
      "0.7889755011135857 0.30856263805408546\n",
      "0.7884187082405345 0.3072804129207092\n",
      "0.7889755011135857 0.30696493883056075\n",
      "0.7884187082405345 0.3067810010918661\n",
      "0.7889755011135857 0.3065944014879063\n",
      "0.7884187082405345 0.3047767029204909\n",
      "0.7878619153674833 0.30360125578104025\n",
      "0.7884187082405345 0.29918818745154396\n",
      "0.7867483296213809 0.29573006056384277\n",
      "0.7867483296213809 0.29500033484491345\n",
      "0.7856347438752784 0.29302225361479983\n",
      "0.7850779510022272 0.2928385230578931\n",
      "0.7834075723830735 0.2908248568278702\n",
      "0.7828507795100222 0.2897537028089394\n",
      "0.782293986636971 0.28716344045163356\n",
      "0.7817371937639198 0.28712503515910204\n",
      "0.7811804008908686 0.2863820217295126\n",
      "0.7806236080178174 0.28619287330240617\n",
      "0.7806236080178174 0.2833428949157387\n",
      "0.7806236080178174 0.27893801028823806\n",
      "0.7806236080178174 0.27795172765689086\n",
      "0.7800668151447662 0.27760146530125945\n",
      "0.7800668151447662 0.2762183116452065\n",
      "0.779510022271715 0.2760598280836807\n",
      "0.77728285077951 0.2721303622050599\n",
      "0.7767260579064588 0.271114204925168\n",
      "0.7761692650334076 0.2684478674383195\n",
      "0.7756124721603563 0.26840158756717264\n",
      "0.7761692650334076 0.26838433781597754\n",
      "0.7756124721603563 0.26381665800947013\n",
      "0.7761692650334076 0.26331866065249193\n",
      "0.7756124721603563 0.26196535760889844\n",
      "0.7739420935412027 0.2589344113940811\n",
      "0.7733853006681515 0.2581438740560203\n",
      "0.7706013363028953 0.2514045374603051\n",
      "0.7700445434298441 0.2507320688969439\n",
      "0.7700445434298441 0.24977219428716774\n",
      "0.7694877505567929 0.2494678857108662\n",
      "0.7700445434298441 0.24870223165130798\n",
      "0.7706013363028953 0.24782604696855196\n",
      "0.7683741648106904 0.24585129378430245\n",
      "0.7678173719376392 0.24544051325050015\n",
      "0.7683741648106904 0.24491955189624218\n",
      "0.7678173719376392 0.24490433227557948\n",
      "0.7655902004454342 0.24069597571010853\n",
      "0.765033407572383 0.24039174394668728\n",
      "0.7639198218262806 0.23787426184083013\n",
      "0.7633630289532294 0.23777383137180993\n",
      "0.7639198218262806 0.23631356157995081\n",
      "0.7633630289532294 0.23620744642303634\n",
      "0.7633630289532294 0.2360897946774783\n",
      "0.7633630289532294 0.23445172104112913\n",
      "0.7589086859688196 0.22939953251418965\n",
      "0.7583518930957683 0.2293218269592589\n",
      "0.7583518930957683 0.22812915928913874\n",
      "0.7577951002227171 0.22797821883751532\n",
      "0.7583518930957683 0.22789403076697337\n",
      "0.7577951002227171 0.2278677719609808\n",
      "0.7566815144766147 0.22738340996543902\n",
      "0.7561247216035635 0.22726371301112885\n",
      "0.7561247216035635 0.22685848978489326\n",
      "0.7555679287305123 0.22650244323114654\n",
      "0.7555679287305123 0.22526606377514835\n",
      "0.755011135857461 0.22513112786594128\n",
      "0.755011135857461 0.2245229157931475\n",
      "0.7544543429844098 0.2237572594302505\n",
      "0.7516703786191536 0.22157340088055502\n",
      "0.7511135857461024 0.22074298197612321\n",
      "0.7461024498886414 0.21707711726036405\n",
      "0.7455456570155902 0.21620506633715303\n",
      "0.744988864142539 0.21536595465392347\n",
      "0.7444320712694877 0.2147004976175005\n",
      "0.7416481069042317 0.2126924759612463\n",
      "0.7410913140311804 0.2123846948466097\n",
      "0.7405345211581291 0.21117401923956405\n",
      "0.7399777282850779 0.21032021452845337\n",
      "0.7405345211581291 0.2101411238308175\n",
      "0.7410913140311804 0.2091735463418749\n",
      "0.7416481069042317 0.20875949392191206\n",
      "0.7410913140311804 0.2085036066436726\n",
      "0.7410913140311804 0.20652950255942765\n",
      "0.7405345211581291 0.2063608401060454\n",
      "0.7405345211581291 0.20564102407579488\n",
      "0.7399777282850779 0.2053458819798062\n",
      "0.7383073496659243 0.20395153016097273\n",
      "0.7383073496659243 0.20268179482126172\n",
      "0.7366369710467706 0.2000772471212503\n",
      "0.7360801781737194 0.19983779085410228\n",
      "0.7366369710467706 0.1997111601757297\n",
      "0.7366369710467706 0.1991947274582648\n",
      "0.7366369710467706 0.1985915539407011\n",
      "0.7360801781737194 0.1982919432938152\n",
      "0.7355233853006682 0.1977605823262498\n",
      "0.734966592427617 0.19728345171738762\n",
      "0.734966592427617 0.19677721568051945\n",
      "0.7344097995545658 0.196722217479178\n",
      "0.7321826280623608 0.1944323929108874\n",
      "0.7316258351893096 0.19418133002252105\n",
      "0.7293986636971047 0.19160054269160232\n",
      "0.7288418708240535 0.19156293073150335\n",
      "0.7255011135857461 0.18789868541770702\n",
      "0.7249443207126949 0.187603494195503\n",
      "0.7249443207126949 0.18718620076592885\n",
      "0.7243875278396437 0.186956079031474\n",
      "0.7243875278396437 0.18677119018634247\n",
      "0.7238307349665924 0.18653984627231984\n",
      "0.72271714922049 0.18507020581237693\n",
      "0.7221603563474388 0.184890493107362\n",
      "0.7199331848552338 0.18316187453956662\n",
      "0.7193763919821826 0.18306845494569438\n",
      "0.7199331848552338 0.1830251188886399\n",
      "0.7193763919821826 0.1828818877627192\n",
      "0.7193763919821826 0.1821049800003221\n",
      "0.7188195991091314 0.18161298714244262\n",
      "0.7188195991091314 0.181171066374266\n",
      "0.7182628062360802 0.18097740695237033\n",
      "0.717706013363029 0.18062224701781832\n",
      "0.7171492204899778 0.18037695002221055\n",
      "0.7138084632516704 0.1780845184053554\n",
      "0.7132516703786191 0.17802773182961962\n",
      "0.7121380846325167 0.1767833062874963\n",
      "0.7115812917594655 0.17664972354952427\n",
      "0.7093541202672605 0.1751691276424299\n",
      "0.7087973273942093 0.17464586120391018\n",
      "0.7076837416481069 0.17369568670503505\n",
      "0.7071269487750557 0.1735365961183951\n",
      "0.7076837416481069 0.1734058097533688\n",
      "0.7071269487750557 0.17318938314272972\n",
      "0.7071269487750557 0.1717935853653918\n",
      "0.7065701559020044 0.17146332321065946\n",
      "0.7065701559020044 0.171355066497464\n",
      "0.7060133630289532 0.1711233063515176\n",
      "0.7065701559020044 0.17053913667124404\n",
      "0.7060133630289532 0.17023128260594625\n",
      "0.7037861915367484 0.1690656182952539\n",
      "0.7032293986636972 0.16894560294001226\n",
      "0.7032293986636972 0.1684796590197231\n",
      "0.7026726057906458 0.16761470451472288\n",
      "0.6993318485523385 0.16554630733113232\n",
      "0.6987750556792873 0.16553841649400333\n",
      "0.6926503340757239 0.16350959215332628\n",
      "0.6920935412026726 0.16347222338478015\n",
      "0.6915367483296214 0.1631608716917392\n",
      "0.6909799554565702 0.16269176592581516\n",
      "0.6898663697104677 0.1615786040083875\n",
      "0.6893095768374164 0.16143271412984772\n",
      "0.688195991091314 0.1612568931742151\n",
      "0.6876391982182628 0.1612526232148903\n",
      "0.6865256124721604 0.1609630366993817\n",
      "0.6865256124721604 0.16089331587771347\n",
      "0.6854120267260579 0.16066821009295676\n",
      "0.6848552338530067 0.1605401565291783\n",
      "0.683184855233853 0.1601309906464246\n",
      "0.6826280623608018 0.15994598701714585\n",
      "0.6820712694877505 0.1597242927396497\n",
      "0.6815144766146993 0.1597152941281742\n",
      "0.6798440979955457 0.1595455873482552\n",
      "0.6792873051224945 0.15944047722594204\n",
      "0.6798440979955457 0.15932305251917162\n",
      "0.6792873051224945 0.15927943404582115\n",
      "0.6798440979955457 0.15924371243389876\n",
      "0.6792873051224945 0.15920390815489407\n",
      "0.678173719376392 0.15903030403815455\n",
      "0.678173719376392 0.15893912054003514\n",
      "0.6748329621380846 0.15865232430582946\n",
      "0.6742761692650334 0.15864323841335282\n",
      "0.6714922048997772 0.15787823891603767\n",
      "0.670935412026726 0.15783596475618927\n",
      "0.6714922048997772 0.15775996777839246\n",
      "0.6714922048997772 0.1577363121890655\n",
      "0.670935412026726 0.15751891605818882\n",
      "0.670935412026726 0.15730796454065138\n",
      "0.6614699331848553 0.15562945666896658\n",
      "0.660913140311804 0.15561359394447033\n",
      "0.6581291759465479 0.1550843226088739\n",
      "0.6575723830734966 0.15484852067659455\n",
      "0.6536748329621381 0.15387209547918818\n",
      "0.6531180400890868 0.15387054200399258\n",
      "0.6425389755011136 0.15192247205140058\n",
      "0.6419821826280624 0.1519155969870333\n",
      "0.6297327394209354 0.148984404349434\n",
      "0.6297327394209354 0.14888730376125595\n",
      "0.6258351893095768 0.14760773497383792\n",
      "0.6252783964365256 0.14735159384008475\n",
      "0.6230512249443207 0.14681600495453478\n",
      "0.6224944320712695 0.1468122133746794\n",
      "0.621380846325167 0.14634158419771126\n",
      "0.6208240534521158 0.14615305881401172\n",
      "0.6202672605790646 0.14585231055412723\n",
      "0.6197104677060133 0.145711260618642\n",
      "0.6146993318485523 0.14458948742393032\n",
      "0.6141425389755011 0.14439360423393707\n",
      "0.6030066815144766 0.14186231120796144\n",
      "0.6030066815144766 0.14165592894934137\n",
      "0.6035634743875279 0.14165221636476905\n",
      "0.6030066815144766 0.14163003613414285\n",
      "0.6018930957683741 0.1410776260232619\n",
      "0.6013363028953229 0.14089707363158607\n",
      "0.6002227171492205 0.14045403378551116\n",
      "0.5996659242761693 0.14031504625672545\n",
      "0.5963251670378619 0.13982256351318734\n",
      "0.5957683741648107 0.13979369898513722\n",
      "0.5963251670378619 0.13978359300052742\n",
      "0.5957683741648107 0.1395545316946271\n",
      "0.5946547884187082 0.13904755455592363\n",
      "0.594097995545657 0.13882455778367753\n",
      "0.5863028953229399 0.13697762843657604\n",
      "0.5857461024498887 0.13693346614941465\n",
      "0.5812917594654788 0.1359361647881548\n",
      "0.5807349665924276 0.13591015024241457\n",
      "0.5785077951002228 0.1350530113167878\n",
      "0.5779510022271714 0.13489200266057522\n",
      "0.566815144766147 0.1328446235080407\n",
      "0.5662583518930958 0.13281681320960972\n",
      "0.5612472160356348 0.13180394127792286\n",
      "0.5606904231625836 0.13158679524552222\n",
      "0.5534521158129176 0.13036867997375784\n",
      "0.5528953229398663 0.13028676281867826\n",
      "0.5400890868596881 0.12791733772835248\n",
      "0.5395322939866369 0.1278448687669574\n",
      "0.5328507795100222 0.1266837499782563\n",
      "0.532293986636971 0.12662745493795285\n",
      "0.5228285077951003 0.12499779165440926\n",
      "0.522271714922049 0.12499370529729835\n",
      "0.5155902004454342 0.12297958547778844\n",
      "0.515033407572383 0.12297934846679845\n",
      "0.5128062360801782 0.12241393519542074\n",
      "0.512249443207127 0.12229884481513746\n",
      "0.512249443207127 0.12221359008138005\n",
      "0.512249443207127 0.1215164621019781\n",
      "0.4994432071269488 0.11889999198541472\n",
      "0.49888641425389757 0.1187678321395106\n",
      "0.4955456570155902 0.11810212076641673\n",
      "0.49498886414253895 0.11807974135817059\n",
      "0.49498886414253895 0.1176771297881285\n",
      "0.49443207126948774 0.11767267275316473\n",
      "0.48830734966592426 0.11627257372809441\n",
      "0.48775055679287305 0.11625865692979172\n",
      "0.48719376391982183 0.11601809112328962\n",
      "0.48719376391982183 0.11575233067934243\n",
      "0.4866369710467706 0.11557128482990997\n",
      "0.4860801781737194 0.11538781391438312\n",
      "0.4866369710467706 0.11521805920103516\n",
      "0.4860801781737194 0.11512025759982793\n",
      "0.4771714922048998 0.11419237777537902\n",
      "0.4766146993318486 0.11405422257582337\n",
      "0.47438752783964366 0.11321551553530643\n",
      "0.47383073496659245 0.11315861409066762\n",
      "0.47438752783964366 0.1131443460449855\n",
      "0.47383073496659245 0.11292550333558428\n",
      "0.47271714922048996 0.11270089410085761\n",
      "0.47216035634743875 0.1126471808082076\n",
      "0.46547884187082406 0.11147786753728876\n",
      "0.46492204899777284 0.11145458977670888\n",
      "0.4593541202672606 0.11038874273612431\n",
      "0.4593541202672606 0.11019014933212902\n",
      "0.4576837416481069 0.10955036423340823\n",
      "0.45712694877505566 0.109507604511797\n",
      "0.45601336302895323 0.1091051863490316\n",
      "0.455456570155902 0.10907310816645388\n",
      "0.455456570155902 0.10889902537543115\n",
      "0.4548997772828508 0.10888180835858306\n",
      "0.4459910913140312 0.10690556535878976\n",
      "0.44543429844098 0.10684450894284873\n",
      "0.44153674832962136 0.10542062682870638\n",
      "0.44097995545657015 0.10541782994143271\n",
      "0.44097995545657015 0.10535941973673853\n",
      "0.44042316258351893 0.10529529199814751\n",
      "0.44042316258351893 0.10504985569970911\n",
      "0.4398663697104677 0.10481508669763093\n",
      "0.4354120267260579 0.10367064606776785\n",
      "0.4348552338530067 0.1036525016297134\n",
      "0.4348552338530067 0.10352254236678662\n",
      "0.43429844097995546 0.10332985825578717\n",
      "0.41815144766146994 0.10069093768542267\n",
      "0.41759465478841873 0.10066410702317313\n",
      "0.41815144766146994 0.10061843333930864\n",
      "0.41759465478841873 0.10058369551022359\n",
      "0.41648106904231624 0.10015963359661133\n",
      "0.41592427616926503 0.1001434905792944\n",
      "0.4136971046770601 0.09944074179986892\n",
      "0.4131403118040089 0.09941693360203885\n",
      "0.39643652561247217 0.09601008453316835\n",
      "0.39587973273942095 0.095941211161453\n",
      "0.3925389755011136 0.09552032964208859\n",
      "0.39198218262806234 0.09546833574856987\n",
      "0.3880846325167038 0.09500758734614034\n",
      "0.38752783964365256 0.09498931678464519\n",
      "0.3830734966592428 0.09411927073609555\n",
      "0.3825167037861915 0.09408497290401693\n",
      "0.3658129175946548 0.09151930071208852\n",
      "0.36525612472160357 0.0913302324133601\n",
      "0.36414253897550114 0.09074062862606404\n",
      "0.36358574610244987 0.09068629338075307\n",
      "0.36358574610244987 0.09061343149598564\n",
      "0.36358574610244987 0.09004320172760397\n",
      "0.36302895322939865 0.0897022173779247\n",
      "0.36247216035634744 0.08928001413892975\n",
      "0.3435412026726058 0.08563222723918286\n",
      "0.3429844097995546 0.08539823646233069\n",
      "0.33240534521158127 0.08261894869722847\n",
      "0.33184855233853006 0.08231729174258193\n",
      "0.33184855233853006 0.08214669546085025\n",
      "0.33129175946547884 0.08182743885680571\n",
      "0.3279510022271715 0.08100156791880989\n",
      "0.3273942093541203 0.08090705117127384\n",
      "0.30679287305122493 0.07369665728662717\n",
      "0.3062360801781737 0.07368783574861992\n",
      "0.3056792873051225 0.07267439546413149\n",
      "0.3051224944320713 0.07256691953100021\n",
      "0.2873051224944321 0.06310282770276823\n",
      "0.28674832962138086 0.06267807247666952\n",
      "0.27783964365256125 0.056871760856096354\n",
      "0.27728285077951004 0.05619000668158968\n",
      "0.2728285077951002 0.050522573993580004\n",
      "0.272271714922049 0.04993533550084225\n",
      "0.267260579064588 0.029211022399060142\n"
     ]
    }
   ],
   "source": [
    "for i in THRESOLD:\n",
    "    y_test_pred=np.where(y_pred_prob>i,1,0)\n",
    "    acc=accuracy_score(y_test,y_test_pred)\n",
    "    print(acc,i)"
   ]
  },
  {
   "cell_type": "markdown",
   "id": "sudden-pulse",
   "metadata": {
    "papermill": {
     "duration": 0.088532,
     "end_time": "2021-06-11T21:27:14.018664",
     "exception": false,
     "start_time": "2021-06-11T21:27:13.930132",
     "status": "completed"
    },
    "tags": []
   },
   "source": [
    "#### From above we can see that at cuttoff point 0.17 we get accuracy upto 70%"
   ]
  },
  {
   "cell_type": "code",
   "execution_count": 57,
   "id": "secure-piano",
   "metadata": {
    "execution": {
     "iopub.execute_input": "2021-06-11T21:27:14.202447Z",
     "iopub.status.busy": "2021-06-11T21:27:14.201772Z",
     "iopub.status.idle": "2021-06-11T21:27:15.206622Z",
     "shell.execute_reply": "2021-06-11T21:27:15.206040Z",
     "shell.execute_reply.started": "2021-06-11T21:13:28.939125Z"
    },
    "papermill": {
     "duration": 1.100447,
     "end_time": "2021-06-11T21:27:15.206758",
     "exception": false,
     "start_time": "2021-06-11T21:27:14.106311",
     "status": "completed"
    },
    "tags": []
   },
   "outputs": [
    {
     "name": "stdout",
     "output_type": "stream",
     "text": [
      "0.0 1.930420249557542\n",
      "0.0 0.930420249557542\n",
      "0.06471816283924843 0.8666414348914867\n",
      "0.06680584551148225 0.8663085091678091\n",
      "0.07515657620041753 0.8530003028533343\n",
      "0.07724425887265135 0.850301442568213\n",
      "0.08350730688935282 0.8417193639103868\n",
      "0.08559498956158663 0.8411403369932694\n",
      "0.10438413361169102 0.8326270763415344\n",
      "0.10647181628392484 0.8319283950678412\n",
      "0.10855949895615867 0.8279431206542932\n",
      "0.11064718162839249 0.8262995158500265\n",
      "0.1127348643006263 0.8223760998219447\n",
      "0.11482254697286012 0.8210875339291348\n",
      "0.11691022964509394 0.817040728942776\n",
      "0.11899791231732777 0.8170348552433161\n",
      "0.12108559498956159 0.8161466423767009\n",
      "0.12317327766179541 0.8097325019168254\n",
      "0.12943632567849686 0.808480219549454\n",
      "0.1315240083507307 0.8061700961658075\n",
      "0.1315240083507307 0.8060546134877351\n",
      "0.1336116910229645 0.8048679983003107\n",
      "0.15031315240083507 0.798511395013268\n",
      "0.1524008350730689 0.7981996729407522\n",
      "0.1524008350730689 0.7980781815198693\n",
      "0.1544885177453027 0.7962073884925411\n",
      "0.15866388308977036 0.7954955558227457\n",
      "0.16075156576200417 0.7954856646601463\n",
      "0.18162839248434237 0.7847981692551157\n",
      "0.1837160751565762 0.781966170577741\n",
      "0.18580375782881003 0.7809515342838589\n",
      "0.18789144050104384 0.7786636484519166\n",
      "0.18997912317327767 0.7738376938180365\n",
      "0.19206680584551147 0.7735369936851942\n",
      "0.19624217118997914 0.7694525578645188\n",
      "0.19832985386221294 0.7687195301374521\n",
      "0.2045929018789144 0.7660384009745999\n",
      "0.20668058455114824 0.7652603314575291\n",
      "0.20668058455114824 0.7649455702621241\n",
      "0.20876826722338204 0.7636389569617364\n",
      "0.23173277661795408 0.7460037518940219\n",
      "0.23382045929018788 0.7453748427991997\n",
      "0.23382045929018788 0.745226183594126\n",
      "0.2359081419624217 0.7410612565476236\n",
      "0.24843423799582465 0.7344846037531243\n",
      "0.25052192066805845 0.7343735831289813\n",
      "0.25052192066805845 0.7305050709308496\n",
      "0.25260960334029225 0.7299536765978802\n",
      "0.2588726513569937 0.7271703158440936\n",
      "0.2609603340292276 0.7258853694575427\n",
      "0.2630480167014614 0.7230043298226402\n",
      "0.2651356993736952 0.7227089756337075\n",
      "0.2651356993736952 0.7225496274345333\n",
      "0.267223382045929 0.7213254840768734\n",
      "0.267223382045929 0.7211873560603244\n",
      "0.26931106471816285 0.7186833161182965\n",
      "0.27348643006263046 0.7150213818800657\n",
      "0.2755741127348643 0.7148388167026568\n",
      "0.29018789144050106 0.702886363249721\n",
      "0.29227557411273486 0.7023209111316663\n",
      "0.29227557411273486 0.7014757646333928\n",
      "0.29436325678496866 0.699348116142987\n",
      "0.31524008350730687 0.6810182758740925\n",
      "0.3173277661795407 0.6788854588565161\n",
      "0.32150313152400833 0.674494118282163\n",
      "0.3235908141962422 0.6717998525077771\n",
      "0.3298538622129436 0.6667654358041559\n",
      "0.33194154488517746 0.6651839242696913\n",
      "0.33820459290187893 0.6593005586429433\n",
      "0.34029227557411273 0.6549050054691875\n",
      "0.348643006263048 0.6495377719462748\n",
      "0.35073068893528186 0.64676877989568\n",
      "0.35073068893528186 0.6467653320002426\n",
      "0.35281837160751567 0.6466558330559816\n",
      "0.35490605427974947 0.6451790174785762\n",
      "0.3569937369519833 0.6425395333608179\n",
      "0.3569937369519833 0.6407047276460563\n",
      "0.35908141962421714 0.6338810609699715\n",
      "0.36325678496868474 0.6308311698212026\n",
      "0.3653444676409186 0.6306887216260975\n",
      "0.3653444676409186 0.6300319983260678\n",
      "0.3674321503131524 0.6271867423710985\n",
      "0.3695198329853862 0.6252166691451249\n",
      "0.37160751565762007 0.6170993890217473\n",
      "0.37160751565762007 0.6168978225982776\n",
      "0.3736951983298539 0.6092874736052772\n",
      "0.3736951983298539 0.6069469412072573\n",
      "0.3757828810020877 0.6044809614022314\n",
      "0.3757828810020877 0.6038969652049273\n",
      "0.3778705636743215 0.6015353278497605\n",
      "0.3778705636743215 0.6009628724377986\n",
      "0.37995824634655534 0.5999334884925145\n",
      "0.3883089770354906 0.5833918569449211\n",
      "0.3903966597077244 0.5774394020588092\n",
      "0.40501043841336115 0.562990226042878\n",
      "0.407098121085595 0.5624124476567536\n",
      "0.407098121085595 0.5619537438577785\n",
      "0.4091858037578288 0.555958132634677\n",
      "0.4112734864300626 0.5497063664926973\n",
      "0.4133611691022965 0.5485707619265928\n",
      "0.4133611691022965 0.547857994521898\n",
      "0.4154488517745303 0.5420850629895884\n",
      "0.4175365344467641 0.5401984580531494\n",
      "0.4196242171189979 0.5385086891886176\n",
      "0.4196242171189979 0.5384104388473325\n",
      "0.42171189979123175 0.5379288830871629\n",
      "0.42171189979123175 0.5335008175260277\n",
      "0.42379958246346555 0.5279485802430952\n",
      "0.42588726513569936 0.5208510356867035\n",
      "0.4279749478079332 0.515619204972737\n",
      "0.430062630480167 0.5090693086587431\n",
      "0.4321503131524008 0.508573938003268\n",
      "0.4342379958246347 0.5076278169586372\n",
      "0.4363256784968685 0.5058094708277834\n",
      "0.4363256784968685 0.5\n",
      "0.4488517745302714 0.49222911714810563\n",
      "0.4509394572025052 0.4910890889230807\n",
      "0.4509394572025052 0.4901209407002089\n",
      "0.453027139874739 0.48995148967774965\n",
      "0.4551148225469729 0.4862335628004849\n",
      "0.4572025052192067 0.4835300785192835\n",
      "0.4572025052192067 0.48136658378784786\n",
      "0.4592901878914405 0.47650792045269946\n",
      "0.4592901878914405 0.4758395701095898\n",
      "0.4613778705636743 0.47134757467446486\n",
      "0.4613778705636743 0.4657514925873522\n",
      "0.46346555323590816 0.4647013045188066\n",
      "0.4718162839248434 0.46207617921329747\n",
      "0.47390396659707723 0.46153195549211745\n",
      "0.4801670146137787 0.4589016650480791\n",
      "0.4822546972860125 0.4582815233779374\n",
      "0.48434237995824636 0.4574235368737594\n",
      "0.48643006263048016 0.4572697722710296\n",
      "0.48643006263048016 0.454895725452041\n",
      "0.48851774530271397 0.4544097482011853\n",
      "0.49478079331941544 0.45024726923693986\n",
      "0.4968684759916493 0.4488719881157212\n",
      "0.4968684759916493 0.44699354482174425\n",
      "0.4989561586638831 0.44185846457049266\n",
      "0.4989561586638831 0.4410087351992172\n",
      "0.5010438413361169 0.4381277254272482\n",
      "0.5010438413361169 0.4378579921923235\n",
      "0.5031315240083507 0.43555244667542037\n",
      "0.5031315240083507 0.4346134048994579\n",
      "0.5052192066805845 0.4270561603667046\n",
      "0.5093945720250522 0.41991255334636474\n",
      "0.511482254697286 0.4157464153085107\n",
      "0.5198329853862212 0.4101411627295367\n",
      "0.5219206680584552 0.40982401006757363\n",
      "0.5260960334029228 0.40814887824978446\n",
      "0.5281837160751566 0.40701716061453735\n",
      "0.5302713987473904 0.40432350086635405\n",
      "0.5323590814196242 0.40365852222524246\n",
      "0.534446764091858 0.4014882901904259\n",
      "0.5365344467640919 0.4006289111014105\n",
      "0.5365344467640919 0.3999034977521164\n",
      "0.5386221294363257 0.39870046023423616\n",
      "0.5386221294363257 0.3973027346528561\n",
      "0.5407098121085595 0.39676589889915703\n",
      "0.5427974947807933 0.39375553385335593\n",
      "0.5448851774530271 0.39082698896322476\n",
      "0.5448851774530271 0.38812172736351297\n",
      "0.5469728601252609 0.38793147482503254\n",
      "0.5469728601252609 0.3877489499197262\n",
      "0.5490605427974948 0.38280098519429023\n",
      "0.5490605427974948 0.3821143325398801\n",
      "0.5511482254697286 0.38182718434396556\n",
      "0.5532359081419624 0.3797083898358641\n",
      "0.5553235908141962 0.3764333377224153\n",
      "0.5553235908141962 0.3742792957042749\n",
      "0.55741127348643 0.3729504377585237\n",
      "0.55741127348643 0.3725671655568265\n",
      "0.5594989561586639 0.3702337343747101\n",
      "0.5594989561586639 0.36952519642211823\n",
      "0.5615866388308977 0.3676396628066891\n",
      "0.5615866388308977 0.3658509204343659\n",
      "0.5636743215031316 0.36495591571180097\n",
      "0.5636743215031316 0.36399481243795384\n",
      "0.5657620041753654 0.36229486128327004\n",
      "0.5657620041753654 0.3615888485372746\n",
      "0.5678496868475992 0.3610188622719146\n",
      "0.569937369519833 0.3604064667622675\n",
      "0.5720250521920668 0.35796705629334824\n",
      "0.5720250521920668 0.35770257557446994\n",
      "0.5741127348643006 0.35730719694088425\n",
      "0.5741127348643006 0.3569611930960117\n",
      "0.5762004175365344 0.3552143517808262\n",
      "0.5762004175365344 0.35249814642689575\n",
      "0.5782881002087683 0.3507893869300771\n",
      "0.5782881002087683 0.35028255322733376\n",
      "0.5803757828810021 0.34946601972679814\n",
      "0.5845511482254697 0.3457620012502478\n",
      "0.5866388308977035 0.3419805134802676\n",
      "0.5866388308977035 0.34002223299847006\n",
      "0.5887265135699373 0.3366794038843916\n",
      "0.5949895615866388 0.3336117096523783\n",
      "0.5970772442588727 0.33107042200781167\n",
      "0.5970772442588727 0.33066496183953575\n",
      "0.5991649269311065 0.32973692730871673\n",
      "0.5991649269311065 0.32936892176629073\n",
      "0.6012526096033403 0.32925441734467437\n",
      "0.6012526096033403 0.32358829266910927\n",
      "0.6033402922755741 0.3230496076660117\n",
      "0.6075156576200418 0.3213256196873031\n",
      "0.6096033402922756 0.3189095062528547\n",
      "0.615866388308977 0.3177481063357172\n",
      "0.6179540709812108 0.3171646411520451\n",
      "0.6200417536534447 0.31676838443284716\n",
      "0.6221294363256785 0.31182589685611517\n",
      "0.6242171189979123 0.3106652240843779\n",
      "0.6263048016701461 0.30856263805408546\n",
      "0.6263048016701461 0.3072804129207092\n",
      "0.6283924843423799 0.30696493883056075\n",
      "0.6283924843423799 0.3067810010918661\n",
      "0.6304801670146137 0.3065944014879063\n",
      "0.6304801670146137 0.3047767029204909\n",
      "0.6325678496868476 0.30360125578104025\n",
      "0.6367432150313153 0.29918818745154396\n",
      "0.6388308977035491 0.29573006056384277\n",
      "0.6409185803757829 0.29500033484491345\n",
      "0.6430062630480167 0.29302225361479983\n",
      "0.6430062630480167 0.2928385230578931\n",
      "0.6450939457202505 0.2908248568278702\n",
      "0.6450939457202505 0.2897537028089394\n",
      "0.6471816283924844 0.28716344045163356\n",
      "0.6471816283924844 0.28712503515910204\n",
      "0.6492693110647182 0.2863820217295126\n",
      "0.6492693110647182 0.28619287330240617\n",
      "0.651356993736952 0.2833428949157387\n",
      "0.6534446764091858 0.27893801028823806\n",
      "0.6555323590814196 0.27795172765689086\n",
      "0.6555323590814196 0.27760146530125945\n",
      "0.6576200417536534 0.2762183116452065\n",
      "0.6576200417536534 0.2760598280836807\n",
      "0.6597077244258872 0.2721303622050599\n",
      "0.6597077244258872 0.271114204925168\n",
      "0.6617954070981211 0.2684478674383195\n",
      "0.6617954070981211 0.26840158756717264\n",
      "0.6638830897703549 0.26838433781597754\n",
      "0.6638830897703549 0.26381665800947013\n",
      "0.6659707724425887 0.26331866065249193\n",
      "0.6659707724425887 0.26196535760889844\n",
      "0.6680584551148225 0.2589344113940811\n",
      "0.6680584551148225 0.2581438740560203\n",
      "0.6701461377870563 0.2514045374603051\n",
      "0.6701461377870563 0.2507320688969439\n",
      "0.6722338204592901 0.24977219428716774\n",
      "0.6722338204592901 0.2494678857108662\n",
      "0.6743215031315241 0.24870223165130798\n",
      "0.6784968684759917 0.24782604696855196\n",
      "0.6805845511482255 0.24585129378430245\n",
      "0.6805845511482255 0.24544051325050015\n",
      "0.6826722338204593 0.24491955189624218\n",
      "0.6826722338204593 0.24490433227557948\n",
      "0.6847599164926931 0.24069597571010853\n",
      "0.6847599164926931 0.24039174394668728\n",
      "0.6868475991649269 0.23787426184083013\n",
      "0.6868475991649269 0.23777383137180993\n",
      "0.6889352818371608 0.23631356157995081\n",
      "0.6889352818371608 0.23620744642303634\n",
      "0.6910229645093946 0.2360897946774783\n",
      "0.6931106471816284 0.23445172104112913\n",
      "0.6951983298538622 0.22939953251418965\n",
      "0.6951983298538622 0.2293218269592589\n",
      "0.697286012526096 0.22812915928913874\n",
      "0.697286012526096 0.22797821883751532\n",
      "0.6993736951983298 0.22789403076697337\n",
      "0.6993736951983298 0.2278677719609808\n",
      "0.7014613778705637 0.22738340996543902\n",
      "0.7014613778705637 0.22726371301112885\n",
      "0.7035490605427975 0.22685848978489326\n",
      "0.7035490605427975 0.22650244323114654\n",
      "0.7056367432150313 0.22526606377514835\n",
      "0.7056367432150313 0.22513112786594128\n",
      "0.7077244258872651 0.2245229157931475\n",
      "0.7077244258872651 0.2237572594302505\n",
      "0.7098121085594989 0.22157340088055502\n",
      "0.7098121085594989 0.22074298197612321\n",
      "0.7118997912317327 0.21707711726036405\n",
      "0.7118997912317327 0.21620506633715303\n",
      "0.7139874739039666 0.21536595465392347\n",
      "0.7139874739039666 0.2147004976175005\n",
      "0.7160751565762005 0.2126924759612463\n",
      "0.7160751565762005 0.2123846948466097\n",
      "0.7181628392484343 0.21117401923956405\n",
      "0.7181628392484343 0.21032021452845337\n",
      "0.7202505219206681 0.2101411238308175\n",
      "0.7244258872651357 0.2091735463418749\n",
      "0.7265135699373695 0.20875949392191206\n",
      "0.7265135699373695 0.2085036066436726\n",
      "0.7286012526096033 0.20652950255942765\n",
      "0.7286012526096033 0.2063608401060454\n",
      "0.7306889352818372 0.20564102407579488\n",
      "0.7306889352818372 0.2053458819798062\n",
      "0.732776617954071 0.20395153016097273\n",
      "0.7348643006263048 0.20268179482126172\n",
      "0.7369519832985386 0.2000772471212503\n",
      "0.7369519832985386 0.19983779085410228\n",
      "0.7390396659707724 0.1997111601757297\n",
      "0.7411273486430062 0.1991947274582648\n",
      "0.7432150313152401 0.1985915539407011\n",
      "0.7432150313152401 0.1982919432938152\n",
      "0.7453027139874739 0.1977605823262498\n",
      "0.7453027139874739 0.19728345171738762\n",
      "0.7473903966597077 0.19677721568051945\n",
      "0.7473903966597077 0.196722217479178\n",
      "0.7494780793319415 0.1944323929108874\n",
      "0.7494780793319415 0.19418133002252105\n",
      "0.7515657620041754 0.19160054269160232\n",
      "0.7515657620041754 0.19156293073150335\n",
      "0.7536534446764092 0.18789868541770702\n",
      "0.7536534446764092 0.187603494195503\n",
      "0.755741127348643 0.18718620076592885\n",
      "0.755741127348643 0.186956079031474\n",
      "0.7578288100208769 0.18677119018634247\n",
      "0.7578288100208769 0.18653984627231984\n",
      "0.7599164926931107 0.18507020581237693\n",
      "0.7599164926931107 0.184890493107362\n",
      "0.7620041753653445 0.18316187453956662\n",
      "0.7620041753653445 0.18306845494569438\n",
      "0.7640918580375783 0.1830251188886399\n",
      "0.7640918580375783 0.1828818877627192\n",
      "0.7661795407098121 0.1821049800003221\n",
      "0.7661795407098121 0.18161298714244262\n",
      "0.7682672233820459 0.181171066374266\n",
      "0.7682672233820459 0.18097740695237033\n",
      "0.7703549060542797 0.18062224701781832\n",
      "0.7703549060542797 0.18037695002221055\n",
      "0.7724425887265136 0.1780845184053554\n",
      "0.7724425887265136 0.17802773182961962\n",
      "0.7745302713987474 0.1767833062874963\n",
      "0.7745302713987474 0.17664972354952427\n",
      "0.7766179540709812 0.1751691276424299\n",
      "0.7766179540709812 0.17464586120391018\n",
      "0.778705636743215 0.17369568670503505\n",
      "0.778705636743215 0.1735365961183951\n",
      "0.7807933194154488 0.1734058097533688\n",
      "0.7807933194154488 0.17318938314272972\n",
      "0.7828810020876826 0.1717935853653918\n",
      "0.7828810020876826 0.17146332321065946\n",
      "0.7849686847599165 0.171355066497464\n",
      "0.7849686847599165 0.1711233063515176\n",
      "0.7870563674321504 0.17053913667124404\n",
      "0.7870563674321504 0.17023128260594625\n",
      "0.7891440501043842 0.1690656182952539\n",
      "0.7891440501043842 0.16894560294001226\n",
      "0.791231732776618 0.1684796590197231\n",
      "0.791231732776618 0.16761470451472288\n",
      "0.7933194154488518 0.16554630733113232\n",
      "0.7933194154488518 0.16553841649400333\n",
      "0.7954070981210856 0.16350959215332628\n",
      "0.7954070981210856 0.16347222338478015\n",
      "0.7974947807933194 0.1631608716917392\n",
      "0.7974947807933194 0.16269176592581516\n",
      "0.7995824634655533 0.1615786040083875\n",
      "0.7995824634655533 0.16143271412984772\n",
      "0.8016701461377871 0.1612568931742151\n",
      "0.8016701461377871 0.1612526232148903\n",
      "0.8037578288100209 0.1609630366993817\n",
      "0.8058455114822547 0.16089331587771347\n",
      "0.8079331941544885 0.16066821009295676\n",
      "0.8079331941544885 0.1605401565291783\n",
      "0.8100208768267223 0.1601309906464246\n",
      "0.8100208768267223 0.15994598701714585\n",
      "0.8121085594989561 0.1597242927396497\n",
      "0.8121085594989561 0.1597152941281742\n",
      "0.81419624217119 0.1595455873482552\n",
      "0.81419624217119 0.15944047722594204\n",
      "0.8162839248434238 0.15932305251917162\n",
      "0.8162839248434238 0.15927943404582115\n",
      "0.8183716075156576 0.15924371243389876\n",
      "0.8183716075156576 0.15920390815489407\n",
      "0.8204592901878914 0.15903030403815455\n",
      "0.8225469728601252 0.15893912054003514\n",
      "0.824634655532359 0.15865232430582946\n",
      "0.824634655532359 0.15864323841335282\n",
      "0.826722338204593 0.15787823891603767\n",
      "0.826722338204593 0.15783596475618927\n",
      "0.8288100208768268 0.15775996777839246\n",
      "0.8308977035490606 0.1577363121890655\n",
      "0.8329853862212944 0.15751891605818882\n",
      "0.8350730688935282 0.15730796454065138\n",
      "0.837160751565762 0.15562945666896658\n",
      "0.837160751565762 0.15561359394447033\n",
      "0.8392484342379958 0.1550843226088739\n",
      "0.8392484342379958 0.15484852067659455\n",
      "0.8413361169102297 0.15387209547918818\n",
      "0.8413361169102297 0.15387054200399258\n",
      "0.8434237995824635 0.15192247205140058\n",
      "0.8434237995824635 0.1519155969870333\n",
      "0.8455114822546973 0.148984404349434\n",
      "0.8475991649269311 0.14888730376125595\n",
      "0.8496868475991649 0.14760773497383792\n",
      "0.8496868475991649 0.14735159384008475\n",
      "0.8517745302713987 0.14681600495453478\n",
      "0.8517745302713987 0.1468122133746794\n",
      "0.8538622129436325 0.14634158419771126\n",
      "0.8538622129436325 0.14615305881401172\n",
      "0.8559498956158664 0.14585231055412723\n",
      "0.8559498956158664 0.145711260618642\n",
      "0.8580375782881002 0.14458948742393032\n",
      "0.8580375782881002 0.14439360423393707\n",
      "0.860125260960334 0.14186231120796144\n",
      "0.8622129436325678 0.14165592894934137\n",
      "0.8643006263048016 0.14165221636476905\n",
      "0.8643006263048016 0.14163003613414285\n",
      "0.8663883089770354 0.1410776260232619\n",
      "0.8663883089770354 0.14089707363158607\n",
      "0.8684759916492694 0.14045403378551116\n",
      "0.8684759916492694 0.14031504625672545\n",
      "0.8705636743215032 0.13982256351318734\n",
      "0.8705636743215032 0.13979369898513722\n",
      "0.872651356993737 0.13978359300052742\n",
      "0.872651356993737 0.1395545316946271\n",
      "0.8747390396659708 0.13904755455592363\n",
      "0.8747390396659708 0.13882455778367753\n",
      "0.8768267223382046 0.13697762843657604\n",
      "0.8768267223382046 0.13693346614941465\n",
      "0.8789144050104384 0.1359361647881548\n",
      "0.8789144050104384 0.13591015024241457\n",
      "0.8810020876826722 0.1350530113167878\n",
      "0.8810020876826722 0.13489200266057522\n",
      "0.8830897703549061 0.1328446235080407\n",
      "0.8830897703549061 0.13281681320960972\n",
      "0.8851774530271399 0.13180394127792286\n",
      "0.8851774530271399 0.13158679524552222\n",
      "0.8872651356993737 0.13036867997375784\n",
      "0.8872651356993737 0.13028676281867826\n",
      "0.8893528183716075 0.12791733772835248\n",
      "0.8893528183716075 0.1278448687669574\n",
      "0.8914405010438413 0.1266837499782563\n",
      "0.8914405010438413 0.12662745493795285\n",
      "0.8935281837160751 0.12499779165440926\n",
      "0.8935281837160751 0.12499370529729835\n",
      "0.8956158663883089 0.12297958547778844\n",
      "0.8956158663883089 0.12297934846679845\n",
      "0.8977035490605428 0.12241393519542074\n",
      "0.8977035490605428 0.12229884481513746\n",
      "0.8997912317327766 0.12221359008138005\n",
      "0.9018789144050104 0.1215164621019781\n",
      "0.9039665970772442 0.11889999198541472\n",
      "0.9039665970772442 0.1187678321395106\n",
      "0.906054279749478 0.11810212076641673\n",
      "0.906054279749478 0.11807974135817059\n",
      "0.9081419624217119 0.1176771297881285\n",
      "0.9081419624217119 0.11767267275316473\n",
      "0.9102296450939458 0.11627257372809441\n",
      "0.9102296450939458 0.11625865692979172\n",
      "0.9123173277661796 0.11601809112328962\n",
      "0.9144050104384134 0.11575233067934243\n",
      "0.9164926931106472 0.11557128482990997\n",
      "0.9164926931106472 0.11538781391438312\n",
      "0.918580375782881 0.11521805920103516\n",
      "0.918580375782881 0.11512025759982793\n",
      "0.9206680584551148 0.11419237777537902\n",
      "0.9206680584551148 0.11405422257582337\n",
      "0.9227557411273486 0.11321551553530643\n",
      "0.9227557411273486 0.11315861409066762\n",
      "0.9248434237995825 0.1131443460449855\n",
      "0.9248434237995825 0.11292550333558428\n",
      "0.9269311064718163 0.11270089410085761\n",
      "0.9269311064718163 0.1126471808082076\n",
      "0.9290187891440501 0.11147786753728876\n",
      "0.9290187891440501 0.11145458977670888\n",
      "0.9311064718162839 0.11038874273612431\n",
      "0.9331941544885177 0.11019014933212902\n",
      "0.9352818371607515 0.10955036423340823\n",
      "0.9352818371607515 0.109507604511797\n",
      "0.9373695198329853 0.1091051863490316\n",
      "0.9373695198329853 0.10907310816645388\n",
      "0.9394572025052192 0.10889902537543115\n",
      "0.9394572025052192 0.10888180835858306\n",
      "0.941544885177453 0.10690556535878976\n",
      "0.941544885177453 0.10684450894284873\n",
      "0.9436325678496869 0.10542062682870638\n",
      "0.9436325678496869 0.10541782994143271\n",
      "0.9457202505219207 0.10535941973673853\n",
      "0.9457202505219207 0.10529529199814751\n",
      "0.9478079331941545 0.10504985569970911\n",
      "0.9478079331941545 0.10481508669763093\n",
      "0.9498956158663883 0.10367064606776785\n",
      "0.9498956158663883 0.1036525016297134\n",
      "0.9519832985386222 0.10352254236678662\n",
      "0.9519832985386222 0.10332985825578717\n",
      "0.954070981210856 0.10069093768542267\n",
      "0.954070981210856 0.10066410702317313\n",
      "0.9561586638830898 0.10061843333930864\n",
      "0.9561586638830898 0.10058369551022359\n",
      "0.9582463465553236 0.10015963359661133\n",
      "0.9582463465553236 0.1001434905792944\n",
      "0.9603340292275574 0.09944074179986892\n",
      "0.9603340292275574 0.09941693360203885\n",
      "0.9624217118997912 0.09601008453316835\n",
      "0.9624217118997912 0.095941211161453\n",
      "0.964509394572025 0.09552032964208859\n",
      "0.964509394572025 0.09546833574856987\n",
      "0.9665970772442589 0.09500758734614034\n",
      "0.9665970772442589 0.09498931678464519\n",
      "0.9686847599164927 0.09411927073609555\n",
      "0.9686847599164927 0.09408497290401693\n",
      "0.9707724425887265 0.09151930071208852\n",
      "0.9707724425887265 0.0913302324133601\n",
      "0.9728601252609603 0.09074062862606404\n",
      "0.9728601252609603 0.09068629338075307\n",
      "0.9749478079331941 0.09061343149598564\n",
      "0.9770354906054279 0.09004320172760397\n",
      "0.9791231732776617 0.0897022173779247\n",
      "0.9791231732776617 0.08928001413892975\n",
      "0.9812108559498957 0.08563222723918286\n",
      "0.9812108559498957 0.08539823646233069\n",
      "0.9832985386221295 0.08261894869722847\n",
      "0.9832985386221295 0.08231729174258193\n",
      "0.9853862212943633 0.08214669546085025\n",
      "0.9853862212943633 0.08182743885680571\n",
      "0.9874739039665971 0.08100156791880989\n",
      "0.9874739039665971 0.08090705117127384\n",
      "0.9895615866388309 0.07369665728662717\n",
      "0.9895615866388309 0.07368783574861992\n",
      "0.9916492693110647 0.07267439546413149\n",
      "0.9916492693110647 0.07256691953100021\n",
      "0.9937369519832986 0.06310282770276823\n",
      "0.9937369519832986 0.06267807247666952\n",
      "0.9958246346555324 0.056871760856096354\n",
      "0.9958246346555324 0.05619000668158968\n",
      "0.9979123173277662 0.050522573993580004\n",
      "0.9979123173277662 0.04993533550084225\n",
      "1.0 0.029211022399060142\n"
     ]
    }
   ],
   "source": [
    "for i in THRESOLD:\n",
    "    y_test_pred=np.where(y_pred_prob>i,1,0)\n",
    "    recall=recall_score(y_test,y_test_pred)\n",
    "    print(recall,i)"
   ]
  },
  {
   "cell_type": "code",
   "execution_count": 58,
   "id": "considered-leave",
   "metadata": {
    "execution": {
     "iopub.execute_input": "2021-06-11T21:27:15.393632Z",
     "iopub.status.busy": "2021-06-11T21:27:15.392983Z",
     "iopub.status.idle": "2021-06-11T21:27:15.395930Z",
     "shell.execute_reply": "2021-06-11T21:27:15.395317Z",
     "shell.execute_reply.started": "2021-06-11T21:12:28.316130Z"
    },
    "papermill": {
     "duration": 0.098085,
     "end_time": "2021-06-11T21:27:15.396058",
     "exception": false,
     "start_time": "2021-06-11T21:27:15.297973",
     "status": "completed"
    },
    "tags": []
   },
   "outputs": [],
   "source": [
    "y_test_pred=np.where(y_pred_prob>=0.17,1,0)"
   ]
  },
  {
   "cell_type": "code",
   "execution_count": 59,
   "id": "toxic-positive",
   "metadata": {
    "execution": {
     "iopub.execute_input": "2021-06-11T21:27:15.579067Z",
     "iopub.status.busy": "2021-06-11T21:27:15.578462Z",
     "iopub.status.idle": "2021-06-11T21:27:15.588450Z",
     "shell.execute_reply": "2021-06-11T21:27:15.588890Z",
     "shell.execute_reply.started": "2021-06-11T21:12:36.477861Z"
    },
    "papermill": {
     "duration": 0.104388,
     "end_time": "2021-06-11T21:27:15.589050",
     "exception": false,
     "start_time": "2021-06-11T21:27:15.484662",
     "status": "completed"
    },
    "tags": []
   },
   "outputs": [
    {
     "name": "stdout",
     "output_type": "stream",
     "text": [
      "              precision    recall  f1-score   support\n",
      "\n",
      "           0       0.90      0.68      0.77      1317\n",
      "           1       0.47      0.79      0.59       479\n",
      "\n",
      "    accuracy                           0.71      1796\n",
      "   macro avg       0.68      0.73      0.68      1796\n",
      "weighted avg       0.78      0.71      0.72      1796\n",
      "\n"
     ]
    }
   ],
   "source": [
    "print(classification_report(y_test,y_test_pred))"
   ]
  },
  {
   "cell_type": "markdown",
   "id": "selected-pepper",
   "metadata": {
    "papermill": {
     "duration": 0.093532,
     "end_time": "2021-06-11T21:27:15.777791",
     "exception": false,
     "start_time": "2021-06-11T21:27:15.684259",
     "status": "completed"
    },
    "tags": []
   },
   "source": [
    "#### so our recall score has been increased"
   ]
  },
  {
   "cell_type": "code",
   "execution_count": null,
   "id": "searching-institute",
   "metadata": {
    "papermill": {
     "duration": 0.090648,
     "end_time": "2021-06-11T21:27:15.960370",
     "exception": false,
     "start_time": "2021-06-11T21:27:15.869722",
     "status": "completed"
    },
    "tags": []
   },
   "outputs": [],
   "source": []
  }
 ],
 "metadata": {
  "kernelspec": {
   "display_name": "Python 3",
   "language": "python",
   "name": "python3"
  },
  "language_info": {
   "codemirror_mode": {
    "name": "ipython",
    "version": 3
   },
   "file_extension": ".py",
   "mimetype": "text/x-python",
   "name": "python",
   "nbconvert_exporter": "python",
   "pygments_lexer": "ipython3",
   "version": "3.7.10"
  },
  "papermill": {
   "default_parameters": {},
   "duration": 48.567696,
   "end_time": "2021-06-11T21:27:16.860965",
   "environment_variables": {},
   "exception": null,
   "input_path": "__notebook__.ipynb",
   "output_path": "__notebook__.ipynb",
   "parameters": {},
   "start_time": "2021-06-11T21:26:28.293269",
   "version": "2.3.3"
  }
 },
 "nbformat": 4,
 "nbformat_minor": 5
}
